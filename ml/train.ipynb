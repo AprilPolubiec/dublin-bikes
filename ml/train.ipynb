{
 "cells": [
  {
   "cell_type": "code",
   "execution_count": 14,
   "metadata": {
    "collapsed": true
   },
   "outputs": [],
   "source": [
    "import pandas as pd\n",
    "import pickle\n",
    "from sklearn.model_selection import train_test_split\n",
    "from sklearn.ensemble import RandomForestRegressor\n",
    "from sklearn.linear_model import LinearRegression\n",
    "\n",
    "from sklearn.metrics import mean_squared_error"
   ]
  },
  {
   "cell_type": "code",
   "execution_count": 15,
   "outputs": [],
   "source": [
    "# Load the datasets using Pandas\n",
    "weather_data = pd.read_csv(\"HourlyWeather.csv\")\n",
    "station_data = pd.read_csv(\"Availability.csv\")"
   ],
   "metadata": {
    "collapsed": false,
    "pycharm": {
     "name": "#%%\n"
    }
   }
  },
  {
   "cell_type": "code",
   "execution_count": 16,
   "outputs": [
    {
     "data": {
      "text/plain": "DateTime         object\nForecastDate     object\nFeelsLike       float64\nHumidity          int64\nPop             float64\nPressure          int64\nTemperature     float64\nUVI             float64\nWeatherId         int64\nWindSpeed       float64\nWindGust        float64\nRain1h          float64\nSnow1h          float64\ndtype: object"
     },
     "execution_count": 16,
     "metadata": {},
     "output_type": "execute_result"
    }
   ],
   "source": [
    "weather_data.dtypes"
   ],
   "metadata": {
    "collapsed": false,
    "pycharm": {
     "name": "#%%\n"
    }
   }
  },
  {
   "cell_type": "code",
   "execution_count": 17,
   "outputs": [
    {
     "data": {
      "text/plain": "     StationId Status  MechanicalBikesAvailable  ElectricBikesAvailable  \\\n0            1   OPEN                        11                      18   \n1            1   OPEN                         8                       2   \n2            1   OPEN                         4                       3   \n3            1   OPEN                         3                       2   \n4            1   OPEN                         3                       4   \n..         ...    ...                       ...                     ...   \n995         12   OPEN                         8                       1   \n996         12   OPEN                         8                       2   \n997         12   OPEN                        10                       2   \n998         12   OPEN                        10                       2   \n999         12   OPEN                        11                       2   \n\n     StandsAvailable           LastUpdated  \n0                  2  2024-03-05T14:01:57Z  \n1                 21  2024-03-06T08:49:11Z  \n2                 24  2024-03-06T15:54:38Z  \n3                 26  2024-03-06T16:07:46Z  \n4                 24  2024-03-06T16:35:06Z  \n..               ...                   ...  \n995               11  2024-03-06T19:53:14Z  \n996               10  2024-03-06T20:03:22Z  \n997                8  2024-03-06T20:15:30Z  \n998                8  2024-03-06T20:33:39Z  \n999                7  2024-03-06T20:43:46Z  \n\n[1000 rows x 6 columns]",
      "text/html": "<div>\n<style scoped>\n    .dataframe tbody tr th:only-of-type {\n        vertical-align: middle;\n    }\n\n    .dataframe tbody tr th {\n        vertical-align: top;\n    }\n\n    .dataframe thead th {\n        text-align: right;\n    }\n</style>\n<table border=\"1\" class=\"dataframe\">\n  <thead>\n    <tr style=\"text-align: right;\">\n      <th></th>\n      <th>StationId</th>\n      <th>Status</th>\n      <th>MechanicalBikesAvailable</th>\n      <th>ElectricBikesAvailable</th>\n      <th>StandsAvailable</th>\n      <th>LastUpdated</th>\n    </tr>\n  </thead>\n  <tbody>\n    <tr>\n      <th>0</th>\n      <td>1</td>\n      <td>OPEN</td>\n      <td>11</td>\n      <td>18</td>\n      <td>2</td>\n      <td>2024-03-05T14:01:57Z</td>\n    </tr>\n    <tr>\n      <th>1</th>\n      <td>1</td>\n      <td>OPEN</td>\n      <td>8</td>\n      <td>2</td>\n      <td>21</td>\n      <td>2024-03-06T08:49:11Z</td>\n    </tr>\n    <tr>\n      <th>2</th>\n      <td>1</td>\n      <td>OPEN</td>\n      <td>4</td>\n      <td>3</td>\n      <td>24</td>\n      <td>2024-03-06T15:54:38Z</td>\n    </tr>\n    <tr>\n      <th>3</th>\n      <td>1</td>\n      <td>OPEN</td>\n      <td>3</td>\n      <td>2</td>\n      <td>26</td>\n      <td>2024-03-06T16:07:46Z</td>\n    </tr>\n    <tr>\n      <th>4</th>\n      <td>1</td>\n      <td>OPEN</td>\n      <td>3</td>\n      <td>4</td>\n      <td>24</td>\n      <td>2024-03-06T16:35:06Z</td>\n    </tr>\n    <tr>\n      <th>...</th>\n      <td>...</td>\n      <td>...</td>\n      <td>...</td>\n      <td>...</td>\n      <td>...</td>\n      <td>...</td>\n    </tr>\n    <tr>\n      <th>995</th>\n      <td>12</td>\n      <td>OPEN</td>\n      <td>8</td>\n      <td>1</td>\n      <td>11</td>\n      <td>2024-03-06T19:53:14Z</td>\n    </tr>\n    <tr>\n      <th>996</th>\n      <td>12</td>\n      <td>OPEN</td>\n      <td>8</td>\n      <td>2</td>\n      <td>10</td>\n      <td>2024-03-06T20:03:22Z</td>\n    </tr>\n    <tr>\n      <th>997</th>\n      <td>12</td>\n      <td>OPEN</td>\n      <td>10</td>\n      <td>2</td>\n      <td>8</td>\n      <td>2024-03-06T20:15:30Z</td>\n    </tr>\n    <tr>\n      <th>998</th>\n      <td>12</td>\n      <td>OPEN</td>\n      <td>10</td>\n      <td>2</td>\n      <td>8</td>\n      <td>2024-03-06T20:33:39Z</td>\n    </tr>\n    <tr>\n      <th>999</th>\n      <td>12</td>\n      <td>OPEN</td>\n      <td>11</td>\n      <td>2</td>\n      <td>7</td>\n      <td>2024-03-06T20:43:46Z</td>\n    </tr>\n  </tbody>\n</table>\n<p>1000 rows × 6 columns</p>\n</div>"
     },
     "execution_count": 17,
     "metadata": {},
     "output_type": "execute_result"
    }
   ],
   "source": [
    "station_data"
   ],
   "metadata": {
    "collapsed": false,
    "pycharm": {
     "name": "#%%\n"
    }
   }
  },
  {
   "cell_type": "code",
   "execution_count": 18,
   "outputs": [
    {
     "data": {
      "text/plain": "StationId                    int64\nStatus                      object\nMechanicalBikesAvailable     int64\nElectricBikesAvailable       int64\nStandsAvailable              int64\nLastUpdated                 object\ndtype: object"
     },
     "execution_count": 18,
     "metadata": {},
     "output_type": "execute_result"
    }
   ],
   "source": [
    "station_data.dtypes"
   ],
   "metadata": {
    "collapsed": false,
    "pycharm": {
     "name": "#%%\n"
    }
   }
  },
  {
   "cell_type": "code",
   "execution_count": 19,
   "outputs": [
    {
     "data": {
      "text/plain": "           DateTime    ForecastDate  FeelsLike  Humidity   Pop  Pressure  \\\n0     2024/3/7 7:41   2024/3/7 8:00       4.09        85  0.00      1019   \n1     2024/3/7 7:41   2024/3/7 9:00       3.92        84  0.00      1019   \n2     2024/3/7 7:41  2024/3/7 10:00       3.94        83  0.00      1019   \n3     2024/3/7 7:41  2024/3/7 11:00       4.46        79  0.00      1020   \n4     2024/3/7 7:41  2024/3/7 12:00       4.88        75  0.00      1019   \n..              ...             ...        ...       ...   ...       ...   \n995  2024/3/7 17:00   2024/3/9 5:00       0.70        89  0.00       999   \n996  2024/3/7 17:00   2024/3/9 6:00       0.74        88  0.00       998   \n997  2024/3/7 17:00   2024/3/9 7:00       0.76        88  0.12       998   \n998  2024/3/7 17:00   2024/3/9 8:00       0.91        88  0.21       998   \n999  2024/3/7 17:00   2024/3/9 9:00       0.75        95  0.63       998   \n\n     Temperature  UVI  WeatherId  WindSpeed  WindGust  Rain1h  Snow1h  \n0           7.12  NaN        803       4.77      9.83     NaN     NaN  \n1           7.19  NaN        803       5.38     10.62     NaN     NaN  \n2           7.43  NaN        803       6.10     10.76     NaN     NaN  \n3           7.89  NaN        803       6.30     10.58     NaN     NaN  \n4           8.27  NaN        802       6.48     10.92     NaN     NaN  \n..           ...  ...        ...        ...       ...     ...     ...  \n995         5.73  NaN        804       9.45     14.42     NaN     NaN  \n996         5.81  NaN        804       9.70     14.93     NaN     NaN  \n997         5.89  NaN        804      10.05     15.39     NaN     NaN  \n998         6.02  NaN        804      10.12     14.96     NaN     NaN  \n999         5.85  NaN        500       9.87     13.77     0.6     NaN  \n\n[1000 rows x 13 columns]",
      "text/html": "<div>\n<style scoped>\n    .dataframe tbody tr th:only-of-type {\n        vertical-align: middle;\n    }\n\n    .dataframe tbody tr th {\n        vertical-align: top;\n    }\n\n    .dataframe thead th {\n        text-align: right;\n    }\n</style>\n<table border=\"1\" class=\"dataframe\">\n  <thead>\n    <tr style=\"text-align: right;\">\n      <th></th>\n      <th>DateTime</th>\n      <th>ForecastDate</th>\n      <th>FeelsLike</th>\n      <th>Humidity</th>\n      <th>Pop</th>\n      <th>Pressure</th>\n      <th>Temperature</th>\n      <th>UVI</th>\n      <th>WeatherId</th>\n      <th>WindSpeed</th>\n      <th>WindGust</th>\n      <th>Rain1h</th>\n      <th>Snow1h</th>\n    </tr>\n  </thead>\n  <tbody>\n    <tr>\n      <th>0</th>\n      <td>2024/3/7 7:41</td>\n      <td>2024/3/7 8:00</td>\n      <td>4.09</td>\n      <td>85</td>\n      <td>0.00</td>\n      <td>1019</td>\n      <td>7.12</td>\n      <td>NaN</td>\n      <td>803</td>\n      <td>4.77</td>\n      <td>9.83</td>\n      <td>NaN</td>\n      <td>NaN</td>\n    </tr>\n    <tr>\n      <th>1</th>\n      <td>2024/3/7 7:41</td>\n      <td>2024/3/7 9:00</td>\n      <td>3.92</td>\n      <td>84</td>\n      <td>0.00</td>\n      <td>1019</td>\n      <td>7.19</td>\n      <td>NaN</td>\n      <td>803</td>\n      <td>5.38</td>\n      <td>10.62</td>\n      <td>NaN</td>\n      <td>NaN</td>\n    </tr>\n    <tr>\n      <th>2</th>\n      <td>2024/3/7 7:41</td>\n      <td>2024/3/7 10:00</td>\n      <td>3.94</td>\n      <td>83</td>\n      <td>0.00</td>\n      <td>1019</td>\n      <td>7.43</td>\n      <td>NaN</td>\n      <td>803</td>\n      <td>6.10</td>\n      <td>10.76</td>\n      <td>NaN</td>\n      <td>NaN</td>\n    </tr>\n    <tr>\n      <th>3</th>\n      <td>2024/3/7 7:41</td>\n      <td>2024/3/7 11:00</td>\n      <td>4.46</td>\n      <td>79</td>\n      <td>0.00</td>\n      <td>1020</td>\n      <td>7.89</td>\n      <td>NaN</td>\n      <td>803</td>\n      <td>6.30</td>\n      <td>10.58</td>\n      <td>NaN</td>\n      <td>NaN</td>\n    </tr>\n    <tr>\n      <th>4</th>\n      <td>2024/3/7 7:41</td>\n      <td>2024/3/7 12:00</td>\n      <td>4.88</td>\n      <td>75</td>\n      <td>0.00</td>\n      <td>1019</td>\n      <td>8.27</td>\n      <td>NaN</td>\n      <td>802</td>\n      <td>6.48</td>\n      <td>10.92</td>\n      <td>NaN</td>\n      <td>NaN</td>\n    </tr>\n    <tr>\n      <th>...</th>\n      <td>...</td>\n      <td>...</td>\n      <td>...</td>\n      <td>...</td>\n      <td>...</td>\n      <td>...</td>\n      <td>...</td>\n      <td>...</td>\n      <td>...</td>\n      <td>...</td>\n      <td>...</td>\n      <td>...</td>\n      <td>...</td>\n    </tr>\n    <tr>\n      <th>995</th>\n      <td>2024/3/7 17:00</td>\n      <td>2024/3/9 5:00</td>\n      <td>0.70</td>\n      <td>89</td>\n      <td>0.00</td>\n      <td>999</td>\n      <td>5.73</td>\n      <td>NaN</td>\n      <td>804</td>\n      <td>9.45</td>\n      <td>14.42</td>\n      <td>NaN</td>\n      <td>NaN</td>\n    </tr>\n    <tr>\n      <th>996</th>\n      <td>2024/3/7 17:00</td>\n      <td>2024/3/9 6:00</td>\n      <td>0.74</td>\n      <td>88</td>\n      <td>0.00</td>\n      <td>998</td>\n      <td>5.81</td>\n      <td>NaN</td>\n      <td>804</td>\n      <td>9.70</td>\n      <td>14.93</td>\n      <td>NaN</td>\n      <td>NaN</td>\n    </tr>\n    <tr>\n      <th>997</th>\n      <td>2024/3/7 17:00</td>\n      <td>2024/3/9 7:00</td>\n      <td>0.76</td>\n      <td>88</td>\n      <td>0.12</td>\n      <td>998</td>\n      <td>5.89</td>\n      <td>NaN</td>\n      <td>804</td>\n      <td>10.05</td>\n      <td>15.39</td>\n      <td>NaN</td>\n      <td>NaN</td>\n    </tr>\n    <tr>\n      <th>998</th>\n      <td>2024/3/7 17:00</td>\n      <td>2024/3/9 8:00</td>\n      <td>0.91</td>\n      <td>88</td>\n      <td>0.21</td>\n      <td>998</td>\n      <td>6.02</td>\n      <td>NaN</td>\n      <td>804</td>\n      <td>10.12</td>\n      <td>14.96</td>\n      <td>NaN</td>\n      <td>NaN</td>\n    </tr>\n    <tr>\n      <th>999</th>\n      <td>2024/3/7 17:00</td>\n      <td>2024/3/9 9:00</td>\n      <td>0.75</td>\n      <td>95</td>\n      <td>0.63</td>\n      <td>998</td>\n      <td>5.85</td>\n      <td>NaN</td>\n      <td>500</td>\n      <td>9.87</td>\n      <td>13.77</td>\n      <td>0.6</td>\n      <td>NaN</td>\n    </tr>\n  </tbody>\n</table>\n<p>1000 rows × 13 columns</p>\n</div>"
     },
     "execution_count": 19,
     "metadata": {},
     "output_type": "execute_result"
    }
   ],
   "source": [
    "weather_data"
   ],
   "metadata": {
    "collapsed": false,
    "pycharm": {
     "name": "#%%\n"
    }
   }
  },
  {
   "cell_type": "code",
   "execution_count": 20,
   "outputs": [],
   "source": [
    "# Preprocess the data\n",
    "weather_data['time'] = pd.to_datetime(weather_data['ForecastDate'])\n",
    "station_data['last_update'] = pd.to_datetime(station_data['LastUpdated'])"
   ],
   "metadata": {
    "collapsed": false,
    "pycharm": {
     "name": "#%%\n"
    }
   }
  },
  {
   "cell_type": "code",
   "execution_count": 21,
   "outputs": [],
   "source": [
    "# Extract day and hour\n",
    "weather_data['year'] = weather_data['time'].dt.year\n",
    "weather_data['month'] = weather_data['time'].dt.month\n",
    "weather_data['day'] = weather_data['time'].dt.day\n",
    "weather_data['hour'] = weather_data['time'].dt.hour\n",
    "weather_data['minute'] = weather_data['time'].dt.minute\n",
    "weather_data['is_weekday'] = ((weather_data['time'].dt.weekday >= 0) & (weather_data['time'].dt.weekday <= 4)).astype(int)\n",
    "\n",
    "\n",
    "station_data['year'] = station_data['last_update'].dt.year\n",
    "station_data['month'] = station_data['last_update'].dt.month\n",
    "station_data['day'] = station_data['last_update'].dt.day\n",
    "station_data['hour'] = station_data['last_update'].dt.hour\n",
    "station_data['minute'] = station_data['last_update'].dt.minute"
   ],
   "metadata": {
    "collapsed": false,
    "pycharm": {
     "name": "#%%\n"
    }
   }
  },
  {
   "cell_type": "code",
   "execution_count": 8,
   "outputs": [
    {
     "data": {
      "text/plain": "           DateTime    ForecastDate  FeelsLike  Humidity   Pop  Pressure  \\\n0     2024/3/7 7:41   2024/3/7 8:00       4.09        85  0.00      1019   \n1     2024/3/7 7:41   2024/3/7 9:00       3.92        84  0.00      1019   \n2     2024/3/7 7:41  2024/3/7 10:00       3.94        83  0.00      1019   \n3     2024/3/7 7:41  2024/3/7 11:00       4.46        79  0.00      1020   \n4     2024/3/7 7:41  2024/3/7 12:00       4.88        75  0.00      1019   \n..              ...             ...        ...       ...   ...       ...   \n995  2024/3/7 17:00   2024/3/9 5:00       0.70        89  0.00       999   \n996  2024/3/7 17:00   2024/3/9 6:00       0.74        88  0.00       998   \n997  2024/3/7 17:00   2024/3/9 7:00       0.76        88  0.12       998   \n998  2024/3/7 17:00   2024/3/9 8:00       0.91        88  0.21       998   \n999  2024/3/7 17:00   2024/3/9 9:00       0.75        95  0.63       998   \n\n     Temperature  UVI  WeatherId  WindSpeed  WindGust  Rain1h  Snow1h  \\\n0           7.12  NaN        803       4.77      9.83     NaN     NaN   \n1           7.19  NaN        803       5.38     10.62     NaN     NaN   \n2           7.43  NaN        803       6.10     10.76     NaN     NaN   \n3           7.89  NaN        803       6.30     10.58     NaN     NaN   \n4           8.27  NaN        802       6.48     10.92     NaN     NaN   \n..           ...  ...        ...        ...       ...     ...     ...   \n995         5.73  NaN        804       9.45     14.42     NaN     NaN   \n996         5.81  NaN        804       9.70     14.93     NaN     NaN   \n997         5.89  NaN        804      10.05     15.39     NaN     NaN   \n998         6.02  NaN        804      10.12     14.96     NaN     NaN   \n999         5.85  NaN        500       9.87     13.77     0.6     NaN   \n\n                   time  year  month  day  hour  minute  is_weekday  \n0   2024-03-07 08:00:00  2024      3    7     8       0           1  \n1   2024-03-07 09:00:00  2024      3    7     9       0           1  \n2   2024-03-07 10:00:00  2024      3    7    10       0           1  \n3   2024-03-07 11:00:00  2024      3    7    11       0           1  \n4   2024-03-07 12:00:00  2024      3    7    12       0           1  \n..                  ...   ...    ...  ...   ...     ...         ...  \n995 2024-03-09 05:00:00  2024      3    9     5       0           0  \n996 2024-03-09 06:00:00  2024      3    9     6       0           0  \n997 2024-03-09 07:00:00  2024      3    9     7       0           0  \n998 2024-03-09 08:00:00  2024      3    9     8       0           0  \n999 2024-03-09 09:00:00  2024      3    9     9       0           0  \n\n[1000 rows x 20 columns]",
      "text/html": "<div>\n<style scoped>\n    .dataframe tbody tr th:only-of-type {\n        vertical-align: middle;\n    }\n\n    .dataframe tbody tr th {\n        vertical-align: top;\n    }\n\n    .dataframe thead th {\n        text-align: right;\n    }\n</style>\n<table border=\"1\" class=\"dataframe\">\n  <thead>\n    <tr style=\"text-align: right;\">\n      <th></th>\n      <th>DateTime</th>\n      <th>ForecastDate</th>\n      <th>FeelsLike</th>\n      <th>Humidity</th>\n      <th>Pop</th>\n      <th>Pressure</th>\n      <th>Temperature</th>\n      <th>UVI</th>\n      <th>WeatherId</th>\n      <th>WindSpeed</th>\n      <th>WindGust</th>\n      <th>Rain1h</th>\n      <th>Snow1h</th>\n      <th>time</th>\n      <th>year</th>\n      <th>month</th>\n      <th>day</th>\n      <th>hour</th>\n      <th>minute</th>\n      <th>is_weekday</th>\n    </tr>\n  </thead>\n  <tbody>\n    <tr>\n      <th>0</th>\n      <td>2024/3/7 7:41</td>\n      <td>2024/3/7 8:00</td>\n      <td>4.09</td>\n      <td>85</td>\n      <td>0.00</td>\n      <td>1019</td>\n      <td>7.12</td>\n      <td>NaN</td>\n      <td>803</td>\n      <td>4.77</td>\n      <td>9.83</td>\n      <td>NaN</td>\n      <td>NaN</td>\n      <td>2024-03-07 08:00:00</td>\n      <td>2024</td>\n      <td>3</td>\n      <td>7</td>\n      <td>8</td>\n      <td>0</td>\n      <td>1</td>\n    </tr>\n    <tr>\n      <th>1</th>\n      <td>2024/3/7 7:41</td>\n      <td>2024/3/7 9:00</td>\n      <td>3.92</td>\n      <td>84</td>\n      <td>0.00</td>\n      <td>1019</td>\n      <td>7.19</td>\n      <td>NaN</td>\n      <td>803</td>\n      <td>5.38</td>\n      <td>10.62</td>\n      <td>NaN</td>\n      <td>NaN</td>\n      <td>2024-03-07 09:00:00</td>\n      <td>2024</td>\n      <td>3</td>\n      <td>7</td>\n      <td>9</td>\n      <td>0</td>\n      <td>1</td>\n    </tr>\n    <tr>\n      <th>2</th>\n      <td>2024/3/7 7:41</td>\n      <td>2024/3/7 10:00</td>\n      <td>3.94</td>\n      <td>83</td>\n      <td>0.00</td>\n      <td>1019</td>\n      <td>7.43</td>\n      <td>NaN</td>\n      <td>803</td>\n      <td>6.10</td>\n      <td>10.76</td>\n      <td>NaN</td>\n      <td>NaN</td>\n      <td>2024-03-07 10:00:00</td>\n      <td>2024</td>\n      <td>3</td>\n      <td>7</td>\n      <td>10</td>\n      <td>0</td>\n      <td>1</td>\n    </tr>\n    <tr>\n      <th>3</th>\n      <td>2024/3/7 7:41</td>\n      <td>2024/3/7 11:00</td>\n      <td>4.46</td>\n      <td>79</td>\n      <td>0.00</td>\n      <td>1020</td>\n      <td>7.89</td>\n      <td>NaN</td>\n      <td>803</td>\n      <td>6.30</td>\n      <td>10.58</td>\n      <td>NaN</td>\n      <td>NaN</td>\n      <td>2024-03-07 11:00:00</td>\n      <td>2024</td>\n      <td>3</td>\n      <td>7</td>\n      <td>11</td>\n      <td>0</td>\n      <td>1</td>\n    </tr>\n    <tr>\n      <th>4</th>\n      <td>2024/3/7 7:41</td>\n      <td>2024/3/7 12:00</td>\n      <td>4.88</td>\n      <td>75</td>\n      <td>0.00</td>\n      <td>1019</td>\n      <td>8.27</td>\n      <td>NaN</td>\n      <td>802</td>\n      <td>6.48</td>\n      <td>10.92</td>\n      <td>NaN</td>\n      <td>NaN</td>\n      <td>2024-03-07 12:00:00</td>\n      <td>2024</td>\n      <td>3</td>\n      <td>7</td>\n      <td>12</td>\n      <td>0</td>\n      <td>1</td>\n    </tr>\n    <tr>\n      <th>...</th>\n      <td>...</td>\n      <td>...</td>\n      <td>...</td>\n      <td>...</td>\n      <td>...</td>\n      <td>...</td>\n      <td>...</td>\n      <td>...</td>\n      <td>...</td>\n      <td>...</td>\n      <td>...</td>\n      <td>...</td>\n      <td>...</td>\n      <td>...</td>\n      <td>...</td>\n      <td>...</td>\n      <td>...</td>\n      <td>...</td>\n      <td>...</td>\n      <td>...</td>\n    </tr>\n    <tr>\n      <th>995</th>\n      <td>2024/3/7 17:00</td>\n      <td>2024/3/9 5:00</td>\n      <td>0.70</td>\n      <td>89</td>\n      <td>0.00</td>\n      <td>999</td>\n      <td>5.73</td>\n      <td>NaN</td>\n      <td>804</td>\n      <td>9.45</td>\n      <td>14.42</td>\n      <td>NaN</td>\n      <td>NaN</td>\n      <td>2024-03-09 05:00:00</td>\n      <td>2024</td>\n      <td>3</td>\n      <td>9</td>\n      <td>5</td>\n      <td>0</td>\n      <td>0</td>\n    </tr>\n    <tr>\n      <th>996</th>\n      <td>2024/3/7 17:00</td>\n      <td>2024/3/9 6:00</td>\n      <td>0.74</td>\n      <td>88</td>\n      <td>0.00</td>\n      <td>998</td>\n      <td>5.81</td>\n      <td>NaN</td>\n      <td>804</td>\n      <td>9.70</td>\n      <td>14.93</td>\n      <td>NaN</td>\n      <td>NaN</td>\n      <td>2024-03-09 06:00:00</td>\n      <td>2024</td>\n      <td>3</td>\n      <td>9</td>\n      <td>6</td>\n      <td>0</td>\n      <td>0</td>\n    </tr>\n    <tr>\n      <th>997</th>\n      <td>2024/3/7 17:00</td>\n      <td>2024/3/9 7:00</td>\n      <td>0.76</td>\n      <td>88</td>\n      <td>0.12</td>\n      <td>998</td>\n      <td>5.89</td>\n      <td>NaN</td>\n      <td>804</td>\n      <td>10.05</td>\n      <td>15.39</td>\n      <td>NaN</td>\n      <td>NaN</td>\n      <td>2024-03-09 07:00:00</td>\n      <td>2024</td>\n      <td>3</td>\n      <td>9</td>\n      <td>7</td>\n      <td>0</td>\n      <td>0</td>\n    </tr>\n    <tr>\n      <th>998</th>\n      <td>2024/3/7 17:00</td>\n      <td>2024/3/9 8:00</td>\n      <td>0.91</td>\n      <td>88</td>\n      <td>0.21</td>\n      <td>998</td>\n      <td>6.02</td>\n      <td>NaN</td>\n      <td>804</td>\n      <td>10.12</td>\n      <td>14.96</td>\n      <td>NaN</td>\n      <td>NaN</td>\n      <td>2024-03-09 08:00:00</td>\n      <td>2024</td>\n      <td>3</td>\n      <td>9</td>\n      <td>8</td>\n      <td>0</td>\n      <td>0</td>\n    </tr>\n    <tr>\n      <th>999</th>\n      <td>2024/3/7 17:00</td>\n      <td>2024/3/9 9:00</td>\n      <td>0.75</td>\n      <td>95</td>\n      <td>0.63</td>\n      <td>998</td>\n      <td>5.85</td>\n      <td>NaN</td>\n      <td>500</td>\n      <td>9.87</td>\n      <td>13.77</td>\n      <td>0.6</td>\n      <td>NaN</td>\n      <td>2024-03-09 09:00:00</td>\n      <td>2024</td>\n      <td>3</td>\n      <td>9</td>\n      <td>9</td>\n      <td>0</td>\n      <td>0</td>\n    </tr>\n  </tbody>\n</table>\n<p>1000 rows × 20 columns</p>\n</div>"
     },
     "execution_count": 8,
     "metadata": {},
     "output_type": "execute_result"
    }
   ],
   "source": [
    "weather_data"
   ],
   "metadata": {
    "collapsed": false,
    "pycharm": {
     "name": "#%%\n"
    }
   }
  },
  {
   "cell_type": "code",
   "execution_count": 60,
   "outputs": [
    {
     "data": {
      "text/plain": "Index(['DateTime', 'ForecastDate', 'FeelsLike', 'Humidity', 'Pop', 'Pressure',\n       'Temperature', 'UVI', 'WeatherId', 'WindSpeed', 'WindGust', 'Rain1h',\n       'Snow1h', 'time', 'year', 'month', 'day', 'hour', 'minute',\n       'is_weekday'],\n      dtype='object')"
     },
     "execution_count": 60,
     "metadata": {},
     "output_type": "execute_result"
    }
   ],
   "source": [
    "weather_data.columns"
   ],
   "metadata": {
    "collapsed": false,
    "pycharm": {
     "name": "#%%\n"
    }
   }
  },
  {
   "cell_type": "code",
   "execution_count": 22,
   "outputs": [],
   "source": [
    "# Merge the datasets\n",
    "merged_data = pd.merge(station_data, weather_data, on = ['year','month','day','hour'])"
   ],
   "metadata": {
    "collapsed": false,
    "pycharm": {
     "name": "#%%\n"
    }
   }
  },
  {
   "cell_type": "code",
   "execution_count": 23,
   "outputs": [],
   "source": [
    "# Drop every redundent columns\n",
    "merged_data = merged_data.drop(columns=['Status','LastUpdated', 'DateTime','FeelsLike','Pop','UVI','WindGust','Rain1h','Snow1h',])\n",
    "merged_data = merged_data.drop(columns=['last_update'])\n",
    "merged_data = merged_data.drop(columns=['ForecastDate','time'])"
   ],
   "metadata": {
    "collapsed": false,
    "pycharm": {
     "name": "#%%\n"
    }
   }
  },
  {
   "cell_type": "code",
   "execution_count": 25,
   "outputs": [
    {
     "data": {
      "text/plain": "    StationId  MechanicalBikesAvailable  ElectricBikesAvailable  \\\n0           1                         4                       1   \n1           1                         4                       1   \n2           1                         4                       1   \n3           1                         4                       1   \n4           1                         4                       1   \n..        ...                       ...                     ...   \n72         11                        15                       9   \n73         11                        15                       9   \n74         11                        15                       9   \n75         11                        15                       9   \n76         11                        15                       9   \n\n    StandsAvailable  year  month  day  hour  minute_x  Humidity  Pressure  \\\n0                26  2024      3    7    14        43        72      1019   \n1                26  2024      3    7    14        43        72      1019   \n2                26  2024      3    7    14        43        72      1019   \n3                26  2024      3    7    14        43        74      1019   \n4                26  2024      3    7    14        43        75      1019   \n..              ...   ...    ...  ...   ...       ...       ...       ...   \n72                6  2024      3    7    14        42        72      1019   \n73                6  2024      3    7    14        42        74      1019   \n74                6  2024      3    7    14        42        75      1019   \n75                6  2024      3    7    14        42        75      1019   \n76                6  2024      3    7    14        42        75      1019   \n\n    Temperature  WeatherId  WindSpeed  minute_y  is_weekday  \n0          8.89        800       6.32         0           1  \n1          8.89        800       6.32         0           1  \n2          8.89        800       6.32         0           1  \n3          8.70        801       6.32         0           1  \n4          8.68        802       6.32         0           1  \n..          ...        ...        ...       ...         ...  \n72         8.89        800       6.32         0           1  \n73         8.70        801       6.32         0           1  \n74         8.68        802       6.32         0           1  \n75         8.67        802       6.32         0           1  \n76         8.49        803       6.38         0           1  \n\n[77 rows x 16 columns]",
      "text/html": "<div>\n<style scoped>\n    .dataframe tbody tr th:only-of-type {\n        vertical-align: middle;\n    }\n\n    .dataframe tbody tr th {\n        vertical-align: top;\n    }\n\n    .dataframe thead th {\n        text-align: right;\n    }\n</style>\n<table border=\"1\" class=\"dataframe\">\n  <thead>\n    <tr style=\"text-align: right;\">\n      <th></th>\n      <th>StationId</th>\n      <th>MechanicalBikesAvailable</th>\n      <th>ElectricBikesAvailable</th>\n      <th>StandsAvailable</th>\n      <th>year</th>\n      <th>month</th>\n      <th>day</th>\n      <th>hour</th>\n      <th>minute_x</th>\n      <th>Humidity</th>\n      <th>Pressure</th>\n      <th>Temperature</th>\n      <th>WeatherId</th>\n      <th>WindSpeed</th>\n      <th>minute_y</th>\n      <th>is_weekday</th>\n    </tr>\n  </thead>\n  <tbody>\n    <tr>\n      <th>0</th>\n      <td>1</td>\n      <td>4</td>\n      <td>1</td>\n      <td>26</td>\n      <td>2024</td>\n      <td>3</td>\n      <td>7</td>\n      <td>14</td>\n      <td>43</td>\n      <td>72</td>\n      <td>1019</td>\n      <td>8.89</td>\n      <td>800</td>\n      <td>6.32</td>\n      <td>0</td>\n      <td>1</td>\n    </tr>\n    <tr>\n      <th>1</th>\n      <td>1</td>\n      <td>4</td>\n      <td>1</td>\n      <td>26</td>\n      <td>2024</td>\n      <td>3</td>\n      <td>7</td>\n      <td>14</td>\n      <td>43</td>\n      <td>72</td>\n      <td>1019</td>\n      <td>8.89</td>\n      <td>800</td>\n      <td>6.32</td>\n      <td>0</td>\n      <td>1</td>\n    </tr>\n    <tr>\n      <th>2</th>\n      <td>1</td>\n      <td>4</td>\n      <td>1</td>\n      <td>26</td>\n      <td>2024</td>\n      <td>3</td>\n      <td>7</td>\n      <td>14</td>\n      <td>43</td>\n      <td>72</td>\n      <td>1019</td>\n      <td>8.89</td>\n      <td>800</td>\n      <td>6.32</td>\n      <td>0</td>\n      <td>1</td>\n    </tr>\n    <tr>\n      <th>3</th>\n      <td>1</td>\n      <td>4</td>\n      <td>1</td>\n      <td>26</td>\n      <td>2024</td>\n      <td>3</td>\n      <td>7</td>\n      <td>14</td>\n      <td>43</td>\n      <td>74</td>\n      <td>1019</td>\n      <td>8.70</td>\n      <td>801</td>\n      <td>6.32</td>\n      <td>0</td>\n      <td>1</td>\n    </tr>\n    <tr>\n      <th>4</th>\n      <td>1</td>\n      <td>4</td>\n      <td>1</td>\n      <td>26</td>\n      <td>2024</td>\n      <td>3</td>\n      <td>7</td>\n      <td>14</td>\n      <td>43</td>\n      <td>75</td>\n      <td>1019</td>\n      <td>8.68</td>\n      <td>802</td>\n      <td>6.32</td>\n      <td>0</td>\n      <td>1</td>\n    </tr>\n    <tr>\n      <th>...</th>\n      <td>...</td>\n      <td>...</td>\n      <td>...</td>\n      <td>...</td>\n      <td>...</td>\n      <td>...</td>\n      <td>...</td>\n      <td>...</td>\n      <td>...</td>\n      <td>...</td>\n      <td>...</td>\n      <td>...</td>\n      <td>...</td>\n      <td>...</td>\n      <td>...</td>\n      <td>...</td>\n    </tr>\n    <tr>\n      <th>72</th>\n      <td>11</td>\n      <td>15</td>\n      <td>9</td>\n      <td>6</td>\n      <td>2024</td>\n      <td>3</td>\n      <td>7</td>\n      <td>14</td>\n      <td>42</td>\n      <td>72</td>\n      <td>1019</td>\n      <td>8.89</td>\n      <td>800</td>\n      <td>6.32</td>\n      <td>0</td>\n      <td>1</td>\n    </tr>\n    <tr>\n      <th>73</th>\n      <td>11</td>\n      <td>15</td>\n      <td>9</td>\n      <td>6</td>\n      <td>2024</td>\n      <td>3</td>\n      <td>7</td>\n      <td>14</td>\n      <td>42</td>\n      <td>74</td>\n      <td>1019</td>\n      <td>8.70</td>\n      <td>801</td>\n      <td>6.32</td>\n      <td>0</td>\n      <td>1</td>\n    </tr>\n    <tr>\n      <th>74</th>\n      <td>11</td>\n      <td>15</td>\n      <td>9</td>\n      <td>6</td>\n      <td>2024</td>\n      <td>3</td>\n      <td>7</td>\n      <td>14</td>\n      <td>42</td>\n      <td>75</td>\n      <td>1019</td>\n      <td>8.68</td>\n      <td>802</td>\n      <td>6.32</td>\n      <td>0</td>\n      <td>1</td>\n    </tr>\n    <tr>\n      <th>75</th>\n      <td>11</td>\n      <td>15</td>\n      <td>9</td>\n      <td>6</td>\n      <td>2024</td>\n      <td>3</td>\n      <td>7</td>\n      <td>14</td>\n      <td>42</td>\n      <td>75</td>\n      <td>1019</td>\n      <td>8.67</td>\n      <td>802</td>\n      <td>6.32</td>\n      <td>0</td>\n      <td>1</td>\n    </tr>\n    <tr>\n      <th>76</th>\n      <td>11</td>\n      <td>15</td>\n      <td>9</td>\n      <td>6</td>\n      <td>2024</td>\n      <td>3</td>\n      <td>7</td>\n      <td>14</td>\n      <td>42</td>\n      <td>75</td>\n      <td>1019</td>\n      <td>8.49</td>\n      <td>803</td>\n      <td>6.38</td>\n      <td>0</td>\n      <td>1</td>\n    </tr>\n  </tbody>\n</table>\n<p>77 rows × 16 columns</p>\n</div>"
     },
     "execution_count": 25,
     "metadata": {},
     "output_type": "execute_result"
    }
   ],
   "source": [
    "merged_data"
   ],
   "metadata": {
    "collapsed": false,
    "pycharm": {
     "name": "#%%\n"
    }
   }
  },
  {
   "cell_type": "code",
   "execution_count": 24,
   "outputs": [
    {
     "data": {
      "text/plain": "StationId                     int64\nMechanicalBikesAvailable      int64\nElectricBikesAvailable        int64\nStandsAvailable               int64\nyear                          int64\nmonth                         int64\nday                           int64\nhour                          int64\nminute_x                      int64\nHumidity                      int64\nPressure                      int64\nTemperature                 float64\nWeatherId                     int64\nWindSpeed                   float64\nminute_y                      int64\nis_weekday                    int32\ndtype: object"
     },
     "execution_count": 24,
     "metadata": {},
     "output_type": "execute_result"
    }
   ],
   "source": [
    "merged_data.dtypes"
   ],
   "metadata": {
    "collapsed": false,
    "pycharm": {
     "name": "#%%\n"
    }
   }
  },
  {
   "cell_type": "code",
   "execution_count": 27,
   "outputs": [],
   "source": [
    "# Engineer is_busy_hours feature\n",
    "merged_data['is_busy_hours'] = ((merged_data['hour'] >= 7) & (merged_data['hour'] <= 10)) | ((merged_data['hour'] >= 16) & (merged_data['hour'] <= 19)).astype(int)"
   ],
   "metadata": {
    "collapsed": false,
    "pycharm": {
     "name": "#%%\n"
    }
   }
  },
  {
   "cell_type": "code",
   "execution_count": 29,
   "outputs": [],
   "source": [
    "merged_data['cold_weather'] = (merged_data['Temperature'] < 5).astype(float)\n",
    "merged_data['windy_weather'] = (merged_data['WindSpeed'] > 8).astype(float)"
   ],
   "metadata": {
    "collapsed": false,
    "pycharm": {
     "name": "#%%\n"
    }
   }
  },
  {
   "cell_type": "code",
   "execution_count": 30,
   "outputs": [
    {
     "data": {
      "text/plain": "    StationId  MechanicalBikesAvailable  ElectricBikesAvailable  \\\n0           1                         4                       1   \n1           1                         4                       1   \n2           1                         4                       1   \n3           1                         4                       1   \n4           1                         4                       1   \n..        ...                       ...                     ...   \n72         11                        15                       9   \n73         11                        15                       9   \n74         11                        15                       9   \n75         11                        15                       9   \n76         11                        15                       9   \n\n    StandsAvailable  year  month  day  hour  minute_x  Humidity  Pressure  \\\n0                26  2024      3    7    14        43        72      1019   \n1                26  2024      3    7    14        43        72      1019   \n2                26  2024      3    7    14        43        72      1019   \n3                26  2024      3    7    14        43        74      1019   \n4                26  2024      3    7    14        43        75      1019   \n..              ...   ...    ...  ...   ...       ...       ...       ...   \n72                6  2024      3    7    14        42        72      1019   \n73                6  2024      3    7    14        42        74      1019   \n74                6  2024      3    7    14        42        75      1019   \n75                6  2024      3    7    14        42        75      1019   \n76                6  2024      3    7    14        42        75      1019   \n\n    Temperature  WeatherId  WindSpeed  minute_y  is_weekday  is_busy_hours  \\\n0          8.89        800       6.32         0           1          False   \n1          8.89        800       6.32         0           1          False   \n2          8.89        800       6.32         0           1          False   \n3          8.70        801       6.32         0           1          False   \n4          8.68        802       6.32         0           1          False   \n..          ...        ...        ...       ...         ...            ...   \n72         8.89        800       6.32         0           1          False   \n73         8.70        801       6.32         0           1          False   \n74         8.68        802       6.32         0           1          False   \n75         8.67        802       6.32         0           1          False   \n76         8.49        803       6.38         0           1          False   \n\n    cold_weather  windy_weather  \n0            0.0            0.0  \n1            0.0            0.0  \n2            0.0            0.0  \n3            0.0            0.0  \n4            0.0            0.0  \n..           ...            ...  \n72           0.0            0.0  \n73           0.0            0.0  \n74           0.0            0.0  \n75           0.0            0.0  \n76           0.0            0.0  \n\n[77 rows x 19 columns]",
      "text/html": "<div>\n<style scoped>\n    .dataframe tbody tr th:only-of-type {\n        vertical-align: middle;\n    }\n\n    .dataframe tbody tr th {\n        vertical-align: top;\n    }\n\n    .dataframe thead th {\n        text-align: right;\n    }\n</style>\n<table border=\"1\" class=\"dataframe\">\n  <thead>\n    <tr style=\"text-align: right;\">\n      <th></th>\n      <th>StationId</th>\n      <th>MechanicalBikesAvailable</th>\n      <th>ElectricBikesAvailable</th>\n      <th>StandsAvailable</th>\n      <th>year</th>\n      <th>month</th>\n      <th>day</th>\n      <th>hour</th>\n      <th>minute_x</th>\n      <th>Humidity</th>\n      <th>Pressure</th>\n      <th>Temperature</th>\n      <th>WeatherId</th>\n      <th>WindSpeed</th>\n      <th>minute_y</th>\n      <th>is_weekday</th>\n      <th>is_busy_hours</th>\n      <th>cold_weather</th>\n      <th>windy_weather</th>\n    </tr>\n  </thead>\n  <tbody>\n    <tr>\n      <th>0</th>\n      <td>1</td>\n      <td>4</td>\n      <td>1</td>\n      <td>26</td>\n      <td>2024</td>\n      <td>3</td>\n      <td>7</td>\n      <td>14</td>\n      <td>43</td>\n      <td>72</td>\n      <td>1019</td>\n      <td>8.89</td>\n      <td>800</td>\n      <td>6.32</td>\n      <td>0</td>\n      <td>1</td>\n      <td>False</td>\n      <td>0.0</td>\n      <td>0.0</td>\n    </tr>\n    <tr>\n      <th>1</th>\n      <td>1</td>\n      <td>4</td>\n      <td>1</td>\n      <td>26</td>\n      <td>2024</td>\n      <td>3</td>\n      <td>7</td>\n      <td>14</td>\n      <td>43</td>\n      <td>72</td>\n      <td>1019</td>\n      <td>8.89</td>\n      <td>800</td>\n      <td>6.32</td>\n      <td>0</td>\n      <td>1</td>\n      <td>False</td>\n      <td>0.0</td>\n      <td>0.0</td>\n    </tr>\n    <tr>\n      <th>2</th>\n      <td>1</td>\n      <td>4</td>\n      <td>1</td>\n      <td>26</td>\n      <td>2024</td>\n      <td>3</td>\n      <td>7</td>\n      <td>14</td>\n      <td>43</td>\n      <td>72</td>\n      <td>1019</td>\n      <td>8.89</td>\n      <td>800</td>\n      <td>6.32</td>\n      <td>0</td>\n      <td>1</td>\n      <td>False</td>\n      <td>0.0</td>\n      <td>0.0</td>\n    </tr>\n    <tr>\n      <th>3</th>\n      <td>1</td>\n      <td>4</td>\n      <td>1</td>\n      <td>26</td>\n      <td>2024</td>\n      <td>3</td>\n      <td>7</td>\n      <td>14</td>\n      <td>43</td>\n      <td>74</td>\n      <td>1019</td>\n      <td>8.70</td>\n      <td>801</td>\n      <td>6.32</td>\n      <td>0</td>\n      <td>1</td>\n      <td>False</td>\n      <td>0.0</td>\n      <td>0.0</td>\n    </tr>\n    <tr>\n      <th>4</th>\n      <td>1</td>\n      <td>4</td>\n      <td>1</td>\n      <td>26</td>\n      <td>2024</td>\n      <td>3</td>\n      <td>7</td>\n      <td>14</td>\n      <td>43</td>\n      <td>75</td>\n      <td>1019</td>\n      <td>8.68</td>\n      <td>802</td>\n      <td>6.32</td>\n      <td>0</td>\n      <td>1</td>\n      <td>False</td>\n      <td>0.0</td>\n      <td>0.0</td>\n    </tr>\n    <tr>\n      <th>...</th>\n      <td>...</td>\n      <td>...</td>\n      <td>...</td>\n      <td>...</td>\n      <td>...</td>\n      <td>...</td>\n      <td>...</td>\n      <td>...</td>\n      <td>...</td>\n      <td>...</td>\n      <td>...</td>\n      <td>...</td>\n      <td>...</td>\n      <td>...</td>\n      <td>...</td>\n      <td>...</td>\n      <td>...</td>\n      <td>...</td>\n      <td>...</td>\n    </tr>\n    <tr>\n      <th>72</th>\n      <td>11</td>\n      <td>15</td>\n      <td>9</td>\n      <td>6</td>\n      <td>2024</td>\n      <td>3</td>\n      <td>7</td>\n      <td>14</td>\n      <td>42</td>\n      <td>72</td>\n      <td>1019</td>\n      <td>8.89</td>\n      <td>800</td>\n      <td>6.32</td>\n      <td>0</td>\n      <td>1</td>\n      <td>False</td>\n      <td>0.0</td>\n      <td>0.0</td>\n    </tr>\n    <tr>\n      <th>73</th>\n      <td>11</td>\n      <td>15</td>\n      <td>9</td>\n      <td>6</td>\n      <td>2024</td>\n      <td>3</td>\n      <td>7</td>\n      <td>14</td>\n      <td>42</td>\n      <td>74</td>\n      <td>1019</td>\n      <td>8.70</td>\n      <td>801</td>\n      <td>6.32</td>\n      <td>0</td>\n      <td>1</td>\n      <td>False</td>\n      <td>0.0</td>\n      <td>0.0</td>\n    </tr>\n    <tr>\n      <th>74</th>\n      <td>11</td>\n      <td>15</td>\n      <td>9</td>\n      <td>6</td>\n      <td>2024</td>\n      <td>3</td>\n      <td>7</td>\n      <td>14</td>\n      <td>42</td>\n      <td>75</td>\n      <td>1019</td>\n      <td>8.68</td>\n      <td>802</td>\n      <td>6.32</td>\n      <td>0</td>\n      <td>1</td>\n      <td>False</td>\n      <td>0.0</td>\n      <td>0.0</td>\n    </tr>\n    <tr>\n      <th>75</th>\n      <td>11</td>\n      <td>15</td>\n      <td>9</td>\n      <td>6</td>\n      <td>2024</td>\n      <td>3</td>\n      <td>7</td>\n      <td>14</td>\n      <td>42</td>\n      <td>75</td>\n      <td>1019</td>\n      <td>8.67</td>\n      <td>802</td>\n      <td>6.32</td>\n      <td>0</td>\n      <td>1</td>\n      <td>False</td>\n      <td>0.0</td>\n      <td>0.0</td>\n    </tr>\n    <tr>\n      <th>76</th>\n      <td>11</td>\n      <td>15</td>\n      <td>9</td>\n      <td>6</td>\n      <td>2024</td>\n      <td>3</td>\n      <td>7</td>\n      <td>14</td>\n      <td>42</td>\n      <td>75</td>\n      <td>1019</td>\n      <td>8.49</td>\n      <td>803</td>\n      <td>6.38</td>\n      <td>0</td>\n      <td>1</td>\n      <td>False</td>\n      <td>0.0</td>\n      <td>0.0</td>\n    </tr>\n  </tbody>\n</table>\n<p>77 rows × 19 columns</p>\n</div>"
     },
     "execution_count": 30,
     "metadata": {},
     "output_type": "execute_result"
    }
   ],
   "source": [
    "merged_data"
   ],
   "metadata": {
    "collapsed": false,
    "pycharm": {
     "name": "#%%\n"
    }
   }
  },
  {
   "cell_type": "code",
   "execution_count": 31,
   "outputs": [
    {
     "data": {
      "text/plain": "StationId                     int64\nMechanicalBikesAvailable      int64\nElectricBikesAvailable        int64\nStandsAvailable               int64\nyear                          int64\nmonth                         int64\nday                           int64\nhour                          int64\nminute_x                      int64\nHumidity                      int64\nPressure                      int64\nTemperature                 float64\nWeatherId                     int64\nWindSpeed                   float64\nminute_y                      int64\nis_weekday                    int32\nis_busy_hours                  bool\ncold_weather                float64\nwindy_weather               float64\ndtype: object"
     },
     "execution_count": 31,
     "metadata": {},
     "output_type": "execute_result"
    }
   ],
   "source": [
    "merged_data.dtypes"
   ],
   "metadata": {
    "collapsed": false,
    "pycharm": {
     "name": "#%%\n"
    }
   }
  },
  {
   "cell_type": "code",
   "execution_count": 15,
   "outputs": [],
   "source": [
    "unique_stations = list(merged_data['StationId'].unique())\n",
    "unique_stations.sort()"
   ],
   "metadata": {
    "collapsed": false,
    "pycharm": {
     "name": "#%%\n"
    }
   }
  },
  {
   "cell_type": "code",
   "execution_count": 16,
   "outputs": [
    {
     "name": "stdout",
     "output_type": "stream",
     "text": [
      "Mean Squared Error for station 1: 0.0\n",
      "Mean Squared Error for station 2: 0.0\n",
      "Mean Squared Error for station 3: 0.0\n",
      "Mean Squared Error for station 4: 0.0\n",
      "Mean Squared Error for station 5: 0.0\n",
      "Mean Squared Error for station 6: 0.0\n",
      "Mean Squared Error for station 7: 0.0\n",
      "Mean Squared Error for station 8: 0.0\n",
      "Mean Squared Error for station 9: 0.0\n",
      "Mean Squared Error for station 10: 0.0\n",
      "Mean Squared Error for station 11: 0.0\n"
     ]
    }
   ],
   "source": [
    "for station_id in unique_stations:\n",
    "    # station_id=int(station_id)\n",
    "    station_data = merged_data[merged_data['StationId'] == station_id]\n",
    "\n",
    "    # Split the data into training and testing sets\n",
    "    X = station_data.drop(columns=['MechanicalBikesAvailable', 'ElectricBikesAvailable', 'StandsAvailable'])\n",
    "    y = station_data[['MechanicalBikesAvailable', 'ElectricBikesAvailable', 'StandsAvailable']]\n",
    "\n",
    "    X_train, X_test, y_train, y_test = train_test_split(X, y, test_size=0.2, random_state=42)\n",
    "\n",
    "    # Train a machine learning model\n",
    "    model = LinearRegression()\n",
    "    # model = RandomForestRegressor(n_estimators=100, random_state=42)\n",
    "    model.fit(X_train, y_train)\n",
    "    # Serialize the trained model into a file called model.pkl\n",
    "    with open(f'model_{station_id}.pkl', 'wb') as handle:\n",
    "        pickle.dump(model, handle, pickle.HIGHEST_PROTOCOL)\n",
    "\n",
    "    # Deserialize the model.pkl file into an object called model\n",
    "    with open(f'model_{station_id}.pkl', 'rb') as handle:\n",
    "        model = pickle.load(handle)\n",
    "\n",
    "    # Evaluate the model\n",
    "    y_pred = model.predict(X_test)\n",
    "    mse = mean_squared_error(y_test, y_pred)\n",
    "    print(f\"Mean Squared Error for station {station_id}:\", mse)"
   ],
   "metadata": {
    "collapsed": false,
    "pycharm": {
     "name": "#%%\n"
    }
   }
  }
 ],
 "metadata": {
  "kernelspec": {
   "display_name": "Python 3",
   "language": "python",
   "name": "python3"
  },
  "language_info": {
   "codemirror_mode": {
    "name": "ipython",
    "version": 2
   },
   "file_extension": ".py",
   "mimetype": "text/x-python",
   "name": "python",
   "nbconvert_exporter": "python",
   "pygments_lexer": "ipython2",
   "version": "2.7.6"
  }
 },
 "nbformat": 4,
 "nbformat_minor": 0
}