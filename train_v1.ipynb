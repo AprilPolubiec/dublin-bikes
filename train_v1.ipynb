{
 "cells": [
  {
   "cell_type": "code",
   "execution_count": 2,
   "metadata": {
    "collapsed": true
   },
   "outputs": [
    {
     "name": "stdout",
     "output_type": "stream",
     "text": [
      "env: DBIKE_DEV=True\n",
      "True\n",
      "2024-04-04 14:20:33,045 INFO sqlalchemy.engine.Engine SELECT DATABASE()\n",
      "2024-04-04 14:20:33,046 INFO sqlalchemy.engine.Engine [raw sql] {}\n",
      "2024-04-04 14:20:33,419 INFO sqlalchemy.engine.Engine SELECT @@sql_mode\n",
      "2024-04-04 14:20:33,420 INFO sqlalchemy.engine.Engine [raw sql] {}\n",
      "2024-04-04 14:20:33,606 INFO sqlalchemy.engine.Engine SELECT @@lower_case_table_names\n",
      "2024-04-04 14:20:33,607 INFO sqlalchemy.engine.Engine [raw sql] {}\n",
      "2024-04-04 14:20:33,991 INFO sqlalchemy.engine.Engine BEGIN (implicit)\n",
      "2024-04-04 14:20:33,992 INFO sqlalchemy.engine.Engine SHOW CREATE TABLE `Station`\n",
      "2024-04-04 14:20:33,993 INFO sqlalchemy.engine.Engine [raw sql] {}\n",
      "2024-04-04 14:20:34,088 INFO sqlalchemy.engine.Engine ROLLBACK\n",
      "2024-04-04 14:20:34,369 INFO sqlalchemy.engine.Engine BEGIN (implicit)\n",
      "2024-04-04 14:20:34,370 INFO sqlalchemy.engine.Engine SHOW CREATE TABLE `CurrentWeather`\n",
      "2024-04-04 14:20:34,371 INFO sqlalchemy.engine.Engine [raw sql] {}\n",
      "2024-04-04 14:20:34,468 INFO sqlalchemy.engine.Engine ROLLBACK\n",
      "2024-04-04 14:20:34,752 INFO sqlalchemy.engine.Engine BEGIN (implicit)\n",
      "2024-04-04 14:20:34,752 INFO sqlalchemy.engine.Engine SHOW CREATE TABLE `DailyWeather`\n",
      "2024-04-04 14:20:34,753 INFO sqlalchemy.engine.Engine [raw sql] {}\n",
      "2024-04-04 14:20:34,849 INFO sqlalchemy.engine.Engine ROLLBACK\n",
      "2024-04-04 14:20:35,130 INFO sqlalchemy.engine.Engine BEGIN (implicit)\n",
      "2024-04-04 14:20:35,131 INFO sqlalchemy.engine.Engine SHOW CREATE TABLE `HourlyWeather`\n",
      "2024-04-04 14:20:35,132 INFO sqlalchemy.engine.Engine [raw sql] {}\n",
      "2024-04-04 14:20:35,228 INFO sqlalchemy.engine.Engine ROLLBACK\n",
      "2024-04-04 14:20:35,508 INFO sqlalchemy.engine.Engine BEGIN (implicit)\n",
      "2024-04-04 14:20:35,510 INFO sqlalchemy.engine.Engine SHOW CREATE TABLE `Availability`\n",
      "2024-04-04 14:20:35,510 INFO sqlalchemy.engine.Engine [raw sql] {}\n",
      "2024-04-04 14:20:35,605 INFO sqlalchemy.engine.Engine ROLLBACK\n"
     ]
    }
   ],
   "source": [
    "%set_env DBIKE_DEV=True\n",
    "import pandas as pd\n",
    "import pickle\n",
    "from sklearn.model_selection import train_test_split\n",
    "from sklearn.ensemble import RandomForestRegressor\n",
    "from sklearn.linear_model import LinearRegression\n",
    "\n",
    "from sklearn.metrics import mean_squared_error\n",
    "import web.db_utils\n",
    "import datetime"
   ]
  },
  {
   "cell_type": "code",
   "execution_count": null,
   "metadata": {},
   "outputs": [],
   "source": []
  },
  {
   "cell_type": "code",
   "execution_count": 3,
   "metadata": {},
   "outputs": [],
   "source": [
    "DAYS_BACK = 30\n",
    "FEATURE_COLUMNS = [\n",
    "        \"FeelsLike\",\n",
    "        \"Humidity\",\n",
    "        \"Pressure\",\n",
    "        \"Temperature\",\n",
    "        \"day\",\n",
    "        \"month\",\n",
    "        \"hour\",\n",
    "        \"is_weekday\",\n",
    "        \"minute\",\n",
    "        \"cold_weather\",\n",
    "        \"windy_weather\"\n",
    "    ]\n",
    "TARGET_COLUMNS = [\"StandsAvailable\"]"
   ]
  },
  {
   "cell_type": "code",
   "execution_count": 4,
   "metadata": {
    "collapsed": false,
    "pycharm": {
     "name": "#%%\n"
    }
   },
   "outputs": [
    {
     "name": "stdout",
     "output_type": "stream",
     "text": [
      "2024-04-04 14:20:35,819 INFO sqlalchemy.engine.Engine BEGIN (implicit)\n",
      "2024-04-04 14:20:35,819 INFO sqlalchemy.engine.Engine SELECT `CurrentWeather`.`DateTime`, `CurrentWeather`.`FeelsLike`, `CurrentWeather`.`Humidity`, `CurrentWeather`.`Pressure`, `CurrentWeather`.`Sunrise`, `CurrentWeather`.`Sunset`, `CurrentWeather`.`Temperature`, `CurrentWeather`.`UVI`, `CurrentWeather`.`WeatherId`, `CurrentWeather`.`WindGust`, `CurrentWeather`.`WindSpeed`, `CurrentWeather`.`Rain1h`, `CurrentWeather`.`Snow1h` \n",
      "FROM `CurrentWeather` \n",
      "WHERE DATE(`CurrentWeather`.`DateTime`) >= %(DATE_1)s\n",
      "2024-04-04 14:20:35,820 INFO sqlalchemy.engine.Engine [generated in 0.09397s] {'DATE_1': datetime.datetime(2024, 3, 5, 14, 20, 35, 723222)}\n",
      "2024-04-04 14:20:36,108 INFO sqlalchemy.engine.Engine ROLLBACK\n"
     ]
    }
   ],
   "source": [
    "# Load the datasets using Pandas\n",
    "weather = web.db_utils.get_historical_weather(30)\n",
    "weather_data = pd.DataFrame(weather)\n"
   ]
  },
  {
   "cell_type": "code",
   "execution_count": 5,
   "metadata": {
    "collapsed": false,
    "pycharm": {
     "name": "#%%\n"
    }
   },
   "outputs": [
    {
     "data": {
      "text/html": [
       "<div>\n",
       "<style scoped>\n",
       "    .dataframe tbody tr th:only-of-type {\n",
       "        vertical-align: middle;\n",
       "    }\n",
       "\n",
       "    .dataframe tbody tr th {\n",
       "        vertical-align: top;\n",
       "    }\n",
       "\n",
       "    .dataframe thead th {\n",
       "        text-align: right;\n",
       "    }\n",
       "</style>\n",
       "<table border=\"1\" class=\"dataframe\">\n",
       "  <thead>\n",
       "    <tr style=\"text-align: right;\">\n",
       "      <th></th>\n",
       "      <th>DateTime</th>\n",
       "      <th>FeelsLike</th>\n",
       "      <th>Humidity</th>\n",
       "      <th>Pressure</th>\n",
       "      <th>Sunrise</th>\n",
       "      <th>Sunset</th>\n",
       "      <th>Temperature</th>\n",
       "      <th>UVI</th>\n",
       "      <th>WeatherId</th>\n",
       "      <th>WindGust</th>\n",
       "      <th>WindSpeed</th>\n",
       "      <th>Rain1h</th>\n",
       "      <th>Snow1h</th>\n",
       "      <th>time</th>\n",
       "      <th>month</th>\n",
       "      <th>day</th>\n",
       "      <th>hour</th>\n",
       "      <th>minute</th>\n",
       "      <th>is_weekday</th>\n",
       "    </tr>\n",
       "  </thead>\n",
       "  <tbody>\n",
       "    <tr>\n",
       "      <th>0</th>\n",
       "      <td>2024-03-07 07:40:46</td>\n",
       "      <td>3.64</td>\n",
       "      <td>85</td>\n",
       "      <td>1019</td>\n",
       "      <td>2024-03-07 06:58:06</td>\n",
       "      <td>2024-03-07 18:14:13</td>\n",
       "      <td>7.06</td>\n",
       "      <td>None</td>\n",
       "      <td>803</td>\n",
       "      <td>None</td>\n",
       "      <td>5.66</td>\n",
       "      <td>None</td>\n",
       "      <td>None</td>\n",
       "      <td>2024-03-07 07:40:46</td>\n",
       "      <td>3</td>\n",
       "      <td>7</td>\n",
       "      <td>7</td>\n",
       "      <td>40</td>\n",
       "      <td>1</td>\n",
       "    </tr>\n",
       "    <tr>\n",
       "      <th>1</th>\n",
       "      <td>2024-03-07 08:04:06</td>\n",
       "      <td>3.80</td>\n",
       "      <td>85</td>\n",
       "      <td>1019</td>\n",
       "      <td>2024-03-07 06:58:06</td>\n",
       "      <td>2024-03-07 18:14:14</td>\n",
       "      <td>7.19</td>\n",
       "      <td>None</td>\n",
       "      <td>803</td>\n",
       "      <td>None</td>\n",
       "      <td>5.66</td>\n",
       "      <td>None</td>\n",
       "      <td>None</td>\n",
       "      <td>2024-03-07 08:04:06</td>\n",
       "      <td>3</td>\n",
       "      <td>7</td>\n",
       "      <td>8</td>\n",
       "      <td>4</td>\n",
       "      <td>1</td>\n",
       "    </tr>\n",
       "    <tr>\n",
       "      <th>2</th>\n",
       "      <td>2024-03-07 08:09:47</td>\n",
       "      <td>4.20</td>\n",
       "      <td>85</td>\n",
       "      <td>1019</td>\n",
       "      <td>2024-03-07 06:58:05</td>\n",
       "      <td>2024-03-07 18:14:13</td>\n",
       "      <td>7.34</td>\n",
       "      <td>None</td>\n",
       "      <td>803</td>\n",
       "      <td>None</td>\n",
       "      <td>5.14</td>\n",
       "      <td>None</td>\n",
       "      <td>None</td>\n",
       "      <td>2024-03-07 08:09:47</td>\n",
       "      <td>3</td>\n",
       "      <td>7</td>\n",
       "      <td>8</td>\n",
       "      <td>9</td>\n",
       "      <td>1</td>\n",
       "    </tr>\n",
       "    <tr>\n",
       "      <th>3</th>\n",
       "      <td>2024-03-07 09:00:04</td>\n",
       "      <td>4.29</td>\n",
       "      <td>84</td>\n",
       "      <td>1020</td>\n",
       "      <td>2024-03-07 06:58:05</td>\n",
       "      <td>2024-03-07 18:14:13</td>\n",
       "      <td>7.48</td>\n",
       "      <td>None</td>\n",
       "      <td>803</td>\n",
       "      <td>None</td>\n",
       "      <td>5.36</td>\n",
       "      <td>None</td>\n",
       "      <td>None</td>\n",
       "      <td>2024-03-07 09:00:04</td>\n",
       "      <td>3</td>\n",
       "      <td>7</td>\n",
       "      <td>9</td>\n",
       "      <td>0</td>\n",
       "      <td>1</td>\n",
       "    </tr>\n",
       "    <tr>\n",
       "      <th>4</th>\n",
       "      <td>2024-03-07 10:00:11</td>\n",
       "      <td>4.36</td>\n",
       "      <td>82</td>\n",
       "      <td>1020</td>\n",
       "      <td>2024-03-07 06:58:05</td>\n",
       "      <td>2024-03-07 18:14:13</td>\n",
       "      <td>7.92</td>\n",
       "      <td>None</td>\n",
       "      <td>803</td>\n",
       "      <td>None</td>\n",
       "      <td>6.71</td>\n",
       "      <td>None</td>\n",
       "      <td>None</td>\n",
       "      <td>2024-03-07 10:00:11</td>\n",
       "      <td>3</td>\n",
       "      <td>7</td>\n",
       "      <td>10</td>\n",
       "      <td>0</td>\n",
       "      <td>1</td>\n",
       "    </tr>\n",
       "    <tr>\n",
       "      <th>5</th>\n",
       "      <td>2024-03-07 11:00:08</td>\n",
       "      <td>4.62</td>\n",
       "      <td>80</td>\n",
       "      <td>1020</td>\n",
       "      <td>2024-03-07 06:58:05</td>\n",
       "      <td>2024-03-07 18:14:13</td>\n",
       "      <td>8.36</td>\n",
       "      <td>None</td>\n",
       "      <td>803</td>\n",
       "      <td>None</td>\n",
       "      <td>7.72</td>\n",
       "      <td>None</td>\n",
       "      <td>None</td>\n",
       "      <td>2024-03-07 11:00:08</td>\n",
       "      <td>3</td>\n",
       "      <td>7</td>\n",
       "      <td>11</td>\n",
       "      <td>0</td>\n",
       "      <td>1</td>\n",
       "    </tr>\n",
       "    <tr>\n",
       "      <th>6</th>\n",
       "      <td>2024-03-07 12:00:05</td>\n",
       "      <td>5.15</td>\n",
       "      <td>78</td>\n",
       "      <td>1019</td>\n",
       "      <td>2024-03-07 06:58:05</td>\n",
       "      <td>2024-03-07 18:14:13</td>\n",
       "      <td>8.53</td>\n",
       "      <td>None</td>\n",
       "      <td>803</td>\n",
       "      <td>None</td>\n",
       "      <td>6.69</td>\n",
       "      <td>None</td>\n",
       "      <td>None</td>\n",
       "      <td>2024-03-07 12:00:05</td>\n",
       "      <td>3</td>\n",
       "      <td>7</td>\n",
       "      <td>12</td>\n",
       "      <td>0</td>\n",
       "      <td>1</td>\n",
       "    </tr>\n",
       "    <tr>\n",
       "      <th>7</th>\n",
       "      <td>2024-03-07 13:00:07</td>\n",
       "      <td>4.98</td>\n",
       "      <td>76</td>\n",
       "      <td>1019</td>\n",
       "      <td>2024-03-07 06:58:05</td>\n",
       "      <td>2024-03-07 18:14:13</td>\n",
       "      <td>8.52</td>\n",
       "      <td>None</td>\n",
       "      <td>803</td>\n",
       "      <td>None</td>\n",
       "      <td>7.20</td>\n",
       "      <td>None</td>\n",
       "      <td>None</td>\n",
       "      <td>2024-03-07 13:00:07</td>\n",
       "      <td>3</td>\n",
       "      <td>7</td>\n",
       "      <td>13</td>\n",
       "      <td>0</td>\n",
       "      <td>1</td>\n",
       "    </tr>\n",
       "    <tr>\n",
       "      <th>8</th>\n",
       "      <td>2024-03-07 14:00:07</td>\n",
       "      <td>4.15</td>\n",
       "      <td>77</td>\n",
       "      <td>1018</td>\n",
       "      <td>2024-03-07 06:58:05</td>\n",
       "      <td>2024-03-07 18:14:13</td>\n",
       "      <td>8.00</td>\n",
       "      <td>None</td>\n",
       "      <td>802</td>\n",
       "      <td>None</td>\n",
       "      <td>7.72</td>\n",
       "      <td>None</td>\n",
       "      <td>None</td>\n",
       "      <td>2024-03-07 14:00:07</td>\n",
       "      <td>3</td>\n",
       "      <td>7</td>\n",
       "      <td>14</td>\n",
       "      <td>0</td>\n",
       "      <td>1</td>\n",
       "    </tr>\n",
       "    <tr>\n",
       "      <th>9</th>\n",
       "      <td>2024-03-07 15:00:08</td>\n",
       "      <td>4.71</td>\n",
       "      <td>73</td>\n",
       "      <td>1018</td>\n",
       "      <td>2024-03-07 06:58:05</td>\n",
       "      <td>2024-03-07 18:14:13</td>\n",
       "      <td>8.43</td>\n",
       "      <td>None</td>\n",
       "      <td>802</td>\n",
       "      <td>None</td>\n",
       "      <td>7.72</td>\n",
       "      <td>None</td>\n",
       "      <td>None</td>\n",
       "      <td>2024-03-07 15:00:08</td>\n",
       "      <td>3</td>\n",
       "      <td>7</td>\n",
       "      <td>15</td>\n",
       "      <td>0</td>\n",
       "      <td>1</td>\n",
       "    </tr>\n",
       "  </tbody>\n",
       "</table>\n",
       "</div>"
      ],
      "text/plain": [
       "             DateTime  FeelsLike  Humidity  Pressure             Sunrise  \\\n",
       "0 2024-03-07 07:40:46       3.64        85      1019 2024-03-07 06:58:06   \n",
       "1 2024-03-07 08:04:06       3.80        85      1019 2024-03-07 06:58:06   \n",
       "2 2024-03-07 08:09:47       4.20        85      1019 2024-03-07 06:58:05   \n",
       "3 2024-03-07 09:00:04       4.29        84      1020 2024-03-07 06:58:05   \n",
       "4 2024-03-07 10:00:11       4.36        82      1020 2024-03-07 06:58:05   \n",
       "5 2024-03-07 11:00:08       4.62        80      1020 2024-03-07 06:58:05   \n",
       "6 2024-03-07 12:00:05       5.15        78      1019 2024-03-07 06:58:05   \n",
       "7 2024-03-07 13:00:07       4.98        76      1019 2024-03-07 06:58:05   \n",
       "8 2024-03-07 14:00:07       4.15        77      1018 2024-03-07 06:58:05   \n",
       "9 2024-03-07 15:00:08       4.71        73      1018 2024-03-07 06:58:05   \n",
       "\n",
       "               Sunset  Temperature   UVI  WeatherId WindGust  WindSpeed  \\\n",
       "0 2024-03-07 18:14:13         7.06  None        803     None       5.66   \n",
       "1 2024-03-07 18:14:14         7.19  None        803     None       5.66   \n",
       "2 2024-03-07 18:14:13         7.34  None        803     None       5.14   \n",
       "3 2024-03-07 18:14:13         7.48  None        803     None       5.36   \n",
       "4 2024-03-07 18:14:13         7.92  None        803     None       6.71   \n",
       "5 2024-03-07 18:14:13         8.36  None        803     None       7.72   \n",
       "6 2024-03-07 18:14:13         8.53  None        803     None       6.69   \n",
       "7 2024-03-07 18:14:13         8.52  None        803     None       7.20   \n",
       "8 2024-03-07 18:14:13         8.00  None        802     None       7.72   \n",
       "9 2024-03-07 18:14:13         8.43  None        802     None       7.72   \n",
       "\n",
       "  Rain1h Snow1h                time  month  day  hour  minute  is_weekday  \n",
       "0   None   None 2024-03-07 07:40:46      3    7     7      40           1  \n",
       "1   None   None 2024-03-07 08:04:06      3    7     8       4           1  \n",
       "2   None   None 2024-03-07 08:09:47      3    7     8       9           1  \n",
       "3   None   None 2024-03-07 09:00:04      3    7     9       0           1  \n",
       "4   None   None 2024-03-07 10:00:11      3    7    10       0           1  \n",
       "5   None   None 2024-03-07 11:00:08      3    7    11       0           1  \n",
       "6   None   None 2024-03-07 12:00:05      3    7    12       0           1  \n",
       "7   None   None 2024-03-07 13:00:07      3    7    13       0           1  \n",
       "8   None   None 2024-03-07 14:00:07      3    7    14       0           1  \n",
       "9   None   None 2024-03-07 15:00:08      3    7    15       0           1  "
      ]
     },
     "execution_count": 5,
     "metadata": {},
     "output_type": "execute_result"
    }
   ],
   "source": [
    "# Preprocess the data\n",
    "weather_data['time'] = pd.to_datetime(weather_data['DateTime'])\n",
    "\n",
    "weather_data['month'] = weather_data['time'].dt.month\n",
    "weather_data['day'] = weather_data['time'].dt.day\n",
    "weather_data['hour'] = weather_data['time'].dt.hour\n",
    "weather_data['minute'] = weather_data['time'].dt.minute\n",
    "weather_data['is_weekday'] = ((weather_data['time'].dt.weekday >= 0) & (weather_data['time'].dt.weekday <= 4)).astype(int)\n",
    "\n",
    "weather_data.head(10)\n"
   ]
  },
  {
   "cell_type": "code",
   "execution_count": 6,
   "metadata": {
    "collapsed": false,
    "pycharm": {
     "name": "#%%\n"
    }
   },
   "outputs": [
    {
     "name": "stdout",
     "output_type": "stream",
     "text": [
      "2024-04-04 14:20:36,346 INFO sqlalchemy.engine.Engine BEGIN (implicit)\n",
      "2024-04-04 14:20:36,347 INFO sqlalchemy.engine.Engine SELECT `Station`.`Id`, `Station`.`Name`, `Station`.`PositionLatitude`, `Station`.`PositionLongitude`, `Station`.`Address`, `Station`.`City`, `Station`.`AcceptsCard`, `Station`.`TotalStands` \n",
      "FROM `Station`\n",
      "2024-04-04 14:20:36,347 INFO sqlalchemy.engine.Engine [generated in 0.09420s] {}\n",
      "2024-04-04 14:20:36,446 INFO sqlalchemy.engine.Engine ROLLBACK\n"
     ]
    }
   ],
   "source": [
    "# Extract day and hour\n",
    "stations = web.db_utils.get_stations()\n",
    "station_ids = [s[\"Id\"] for s in stations]\n"
   ]
  },
  {
   "cell_type": "code",
   "execution_count": 7,
   "metadata": {},
   "outputs": [],
   "source": [
    "def to_date(date_str):\n",
    "    try:\n",
    "        dt = datetime.datetime.strptime(date_str, '%Y-%m-%dT%H:%M:%SZ')\n",
    "        return dt\n",
    "    except:\n",
    "        dt = datetime.datetime.strptime(date_str, '%Y-%m-%d %H:%M:%S')\n",
    "        return dt"
   ]
  },
  {
   "cell_type": "code",
   "execution_count": 9,
   "metadata": {},
   "outputs": [
    {
     "name": "stdout",
     "output_type": "stream",
     "text": [
      "2024-04-04 14:37:58,816 INFO sqlalchemy.engine.Engine BEGIN (implicit)\n",
      "2024-04-04 14:37:58,817 INFO sqlalchemy.engine.Engine SELECT `Availability`.`StationId`, `Availability`.`Status`, `Availability`.`MechanicalBikesAvailable`, `Availability`.`ElectricBikesAvailable`, `Availability`.`StandsAvailable`, `Availability`.`LastUpdated` \n",
      "FROM `Availability` \n",
      "WHERE `Availability`.`StationId` = %(StationId_1)s AND DATE(`Availability`.`LastUpdated`) >= %(DATE_1)s\n",
      "2024-04-04 14:37:58,818 INFO sqlalchemy.engine.Engine [cached since 271.1s ago] {'StationId_1': 1, 'DATE_1': datetime.datetime(2024, 3, 5, 14, 37, 58, 692253)}\n",
      "2024-04-04 14:37:59,210 INFO sqlalchemy.engine.Engine ROLLBACK\n",
      "2024-04-04 14:37:59,506 INFO sqlalchemy.engine.Engine BEGIN (implicit)\n",
      "2024-04-04 14:37:59,506 INFO sqlalchemy.engine.Engine SELECT `Availability`.`StationId`, `Availability`.`Status`, `Availability`.`MechanicalBikesAvailable`, `Availability`.`ElectricBikesAvailable`, `Availability`.`StandsAvailable`, `Availability`.`LastUpdated` \n",
      "FROM `Availability` \n",
      "WHERE `Availability`.`StationId` = %(StationId_1)s AND DATE(`Availability`.`LastUpdated`) >= %(DATE_1)s\n",
      "2024-04-04 14:37:59,507 INFO sqlalchemy.engine.Engine [cached since 271.7s ago] {'StationId_1': 2, 'DATE_1': datetime.datetime(2024, 3, 5, 14, 37, 59, 411873)}\n"
     ]
    },
    {
     "name": "stderr",
     "output_type": "stream",
     "text": [
      "/Users/aprilpolubiec/anaconda3/envs/dublin-bikes/lib/python3.11/site-packages/sklearn/base.py:1474: DataConversionWarning: A column-vector y was passed when a 1d array was expected. Please change the shape of y to (n_samples,), for example using ravel().\n",
      "  return fit_method(estimator, *args, **kwargs)\n"
     ]
    },
    {
     "name": "stdout",
     "output_type": "stream",
     "text": [
      "2024-04-04 14:37:59,630 INFO sqlalchemy.engine.Engine ROLLBACK\n",
      "2024-04-04 14:37:59,913 INFO sqlalchemy.engine.Engine BEGIN (implicit)\n",
      "2024-04-04 14:37:59,913 INFO sqlalchemy.engine.Engine SELECT `Availability`.`StationId`, `Availability`.`Status`, `Availability`.`MechanicalBikesAvailable`, `Availability`.`ElectricBikesAvailable`, `Availability`.`StandsAvailable`, `Availability`.`LastUpdated` \n",
      "FROM `Availability` \n",
      "WHERE `Availability`.`StationId` = %(StationId_1)s AND DATE(`Availability`.`LastUpdated`) >= %(DATE_1)s\n",
      "2024-04-04 14:37:59,913 INFO sqlalchemy.engine.Engine [cached since 272.1s ago] {'StationId_1': 3, 'DATE_1': datetime.datetime(2024, 3, 5, 14, 37, 59, 816144)}\n"
     ]
    },
    {
     "name": "stderr",
     "output_type": "stream",
     "text": [
      "/Users/aprilpolubiec/anaconda3/envs/dublin-bikes/lib/python3.11/site-packages/sklearn/base.py:1474: DataConversionWarning: A column-vector y was passed when a 1d array was expected. Please change the shape of y to (n_samples,), for example using ravel().\n",
      "  return fit_method(estimator, *args, **kwargs)\n"
     ]
    },
    {
     "name": "stdout",
     "output_type": "stream",
     "text": [
      "2024-04-04 14:38:00,139 INFO sqlalchemy.engine.Engine ROLLBACK\n",
      "2024-04-04 14:38:00,437 INFO sqlalchemy.engine.Engine BEGIN (implicit)\n",
      "2024-04-04 14:38:00,438 INFO sqlalchemy.engine.Engine SELECT `Availability`.`StationId`, `Availability`.`Status`, `Availability`.`MechanicalBikesAvailable`, `Availability`.`ElectricBikesAvailable`, `Availability`.`StandsAvailable`, `Availability`.`LastUpdated` \n",
      "FROM `Availability` \n",
      "WHERE `Availability`.`StationId` = %(StationId_1)s AND DATE(`Availability`.`LastUpdated`) >= %(DATE_1)s\n",
      "2024-04-04 14:38:00,438 INFO sqlalchemy.engine.Engine [cached since 272.7s ago] {'StationId_1': 4, 'DATE_1': datetime.datetime(2024, 3, 5, 14, 38, 0, 328160)}\n"
     ]
    },
    {
     "name": "stderr",
     "output_type": "stream",
     "text": [
      "/Users/aprilpolubiec/anaconda3/envs/dublin-bikes/lib/python3.11/site-packages/sklearn/base.py:1474: DataConversionWarning: A column-vector y was passed when a 1d array was expected. Please change the shape of y to (n_samples,), for example using ravel().\n",
      "  return fit_method(estimator, *args, **kwargs)\n"
     ]
    },
    {
     "name": "stdout",
     "output_type": "stream",
     "text": [
      "2024-04-04 14:38:00,629 INFO sqlalchemy.engine.Engine ROLLBACK\n"
     ]
    },
    {
     "name": "stderr",
     "output_type": "stream",
     "text": [
      "/Users/aprilpolubiec/anaconda3/envs/dublin-bikes/lib/python3.11/site-packages/sklearn/base.py:1474: DataConversionWarning: A column-vector y was passed when a 1d array was expected. Please change the shape of y to (n_samples,), for example using ravel().\n",
      "  return fit_method(estimator, *args, **kwargs)\n"
     ]
    },
    {
     "name": "stdout",
     "output_type": "stream",
     "text": [
      "2024-04-04 14:38:01,139 INFO sqlalchemy.engine.Engine BEGIN (implicit)\n",
      "2024-04-04 14:38:01,139 INFO sqlalchemy.engine.Engine SELECT `Availability`.`StationId`, `Availability`.`Status`, `Availability`.`MechanicalBikesAvailable`, `Availability`.`ElectricBikesAvailable`, `Availability`.`StandsAvailable`, `Availability`.`LastUpdated` \n",
      "FROM `Availability` \n",
      "WHERE `Availability`.`StationId` = %(StationId_1)s AND DATE(`Availability`.`LastUpdated`) >= %(DATE_1)s\n",
      "2024-04-04 14:38:01,140 INFO sqlalchemy.engine.Engine [cached since 273.4s ago] {'StationId_1': 5, 'DATE_1': datetime.datetime(2024, 3, 5, 14, 38, 0, 954118)}\n",
      "2024-04-04 14:38:01,264 INFO sqlalchemy.engine.Engine ROLLBACK\n"
     ]
    },
    {
     "name": "stderr",
     "output_type": "stream",
     "text": [
      "/Users/aprilpolubiec/anaconda3/envs/dublin-bikes/lib/python3.11/site-packages/sklearn/base.py:1474: DataConversionWarning: A column-vector y was passed when a 1d array was expected. Please change the shape of y to (n_samples,), for example using ravel().\n",
      "  return fit_method(estimator, *args, **kwargs)\n"
     ]
    },
    {
     "name": "stdout",
     "output_type": "stream",
     "text": [
      "2024-04-04 14:38:01,839 INFO sqlalchemy.engine.Engine BEGIN (implicit)\n",
      "2024-04-04 14:38:01,840 INFO sqlalchemy.engine.Engine SELECT `Availability`.`StationId`, `Availability`.`Status`, `Availability`.`MechanicalBikesAvailable`, `Availability`.`ElectricBikesAvailable`, `Availability`.`StandsAvailable`, `Availability`.`LastUpdated` \n",
      "FROM `Availability` \n",
      "WHERE `Availability`.`StationId` = %(StationId_1)s AND DATE(`Availability`.`LastUpdated`) >= %(DATE_1)s\n",
      "2024-04-04 14:38:01,840 INFO sqlalchemy.engine.Engine [cached since 274.1s ago] {'StationId_1': 6, 'DATE_1': datetime.datetime(2024, 3, 5, 14, 38, 1, 603197)}\n",
      "2024-04-04 14:38:02,029 INFO sqlalchemy.engine.Engine ROLLBACK\n"
     ]
    },
    {
     "name": "stderr",
     "output_type": "stream",
     "text": [
      "/Users/aprilpolubiec/anaconda3/envs/dublin-bikes/lib/python3.11/site-packages/sklearn/base.py:1474: DataConversionWarning: A column-vector y was passed when a 1d array was expected. Please change the shape of y to (n_samples,), for example using ravel().\n",
      "  return fit_method(estimator, *args, **kwargs)\n"
     ]
    },
    {
     "name": "stdout",
     "output_type": "stream",
     "text": [
      "2024-04-04 14:38:02,415 INFO sqlalchemy.engine.Engine BEGIN (implicit)\n",
      "2024-04-04 14:38:02,415 INFO sqlalchemy.engine.Engine SELECT `Availability`.`StationId`, `Availability`.`Status`, `Availability`.`MechanicalBikesAvailable`, `Availability`.`ElectricBikesAvailable`, `Availability`.`StandsAvailable`, `Availability`.`LastUpdated` \n",
      "FROM `Availability` \n",
      "WHERE `Availability`.`StationId` = %(StationId_1)s AND DATE(`Availability`.`LastUpdated`) >= %(DATE_1)s\n",
      "2024-04-04 14:38:02,416 INFO sqlalchemy.engine.Engine [cached since 274.7s ago] {'StationId_1': 7, 'DATE_1': datetime.datetime(2024, 3, 5, 14, 38, 2, 214556)}\n",
      "2024-04-04 14:38:02,541 INFO sqlalchemy.engine.Engine ROLLBACK\n"
     ]
    },
    {
     "name": "stderr",
     "output_type": "stream",
     "text": [
      "/Users/aprilpolubiec/anaconda3/envs/dublin-bikes/lib/python3.11/site-packages/sklearn/base.py:1474: DataConversionWarning: A column-vector y was passed when a 1d array was expected. Please change the shape of y to (n_samples,), for example using ravel().\n",
      "  return fit_method(estimator, *args, **kwargs)\n"
     ]
    },
    {
     "name": "stdout",
     "output_type": "stream",
     "text": [
      "2024-04-04 14:38:03,047 INFO sqlalchemy.engine.Engine BEGIN (implicit)\n",
      "2024-04-04 14:38:03,048 INFO sqlalchemy.engine.Engine SELECT `Availability`.`StationId`, `Availability`.`Status`, `Availability`.`MechanicalBikesAvailable`, `Availability`.`ElectricBikesAvailable`, `Availability`.`StandsAvailable`, `Availability`.`LastUpdated` \n",
      "FROM `Availability` \n",
      "WHERE `Availability`.`StationId` = %(StationId_1)s AND DATE(`Availability`.`LastUpdated`) >= %(DATE_1)s\n",
      "2024-04-04 14:38:03,048 INFO sqlalchemy.engine.Engine [cached since 275.3s ago] {'StationId_1': 8, 'DATE_1': datetime.datetime(2024, 3, 5, 14, 38, 2, 815834)}\n",
      "2024-04-04 14:38:03,254 INFO sqlalchemy.engine.Engine ROLLBACK\n"
     ]
    },
    {
     "name": "stderr",
     "output_type": "stream",
     "text": [
      "/Users/aprilpolubiec/anaconda3/envs/dublin-bikes/lib/python3.11/site-packages/sklearn/base.py:1474: DataConversionWarning: A column-vector y was passed when a 1d array was expected. Please change the shape of y to (n_samples,), for example using ravel().\n",
      "  return fit_method(estimator, *args, **kwargs)\n"
     ]
    },
    {
     "name": "stdout",
     "output_type": "stream",
     "text": [
      "2024-04-04 14:38:03,692 INFO sqlalchemy.engine.Engine BEGIN (implicit)\n",
      "2024-04-04 14:38:03,693 INFO sqlalchemy.engine.Engine SELECT `Availability`.`StationId`, `Availability`.`Status`, `Availability`.`MechanicalBikesAvailable`, `Availability`.`ElectricBikesAvailable`, `Availability`.`StandsAvailable`, `Availability`.`LastUpdated` \n",
      "FROM `Availability` \n",
      "WHERE `Availability`.`StationId` = %(StationId_1)s AND DATE(`Availability`.`LastUpdated`) >= %(DATE_1)s\n",
      "2024-04-04 14:38:03,694 INFO sqlalchemy.engine.Engine [cached since 275.9s ago] {'StationId_1': 9, 'DATE_1': datetime.datetime(2024, 3, 5, 14, 38, 3, 464022)}\n",
      "2024-04-04 14:38:03,889 INFO sqlalchemy.engine.Engine ROLLBACK\n",
      "2024-04-04 14:38:04,348 INFO sqlalchemy.engine.Engine BEGIN (implicit)\n",
      "2024-04-04 14:38:04,348 INFO sqlalchemy.engine.Engine SELECT `Availability`.`StationId`, `Availability`.`Status`, `Availability`.`MechanicalBikesAvailable`, `Availability`.`ElectricBikesAvailable`, `Availability`.`StandsAvailable`, `Availability`.`LastUpdated` \n",
      "FROM `Availability` \n",
      "WHERE `Availability`.`StationId` = %(StationId_1)s AND DATE(`Availability`.`LastUpdated`) >= %(DATE_1)s\n",
      "2024-04-04 14:38:04,349 INFO sqlalchemy.engine.Engine [cached since 276.6s ago] {'StationId_1': 10, 'DATE_1': datetime.datetime(2024, 3, 5, 14, 38, 4, 241185)}\n"
     ]
    },
    {
     "name": "stderr",
     "output_type": "stream",
     "text": [
      "/Users/aprilpolubiec/anaconda3/envs/dublin-bikes/lib/python3.11/site-packages/sklearn/base.py:1474: DataConversionWarning: A column-vector y was passed when a 1d array was expected. Please change the shape of y to (n_samples,), for example using ravel().\n",
      "  return fit_method(estimator, *args, **kwargs)\n"
     ]
    },
    {
     "name": "stdout",
     "output_type": "stream",
     "text": [
      "2024-04-04 14:38:04,469 INFO sqlalchemy.engine.Engine ROLLBACK\n"
     ]
    },
    {
     "name": "stderr",
     "output_type": "stream",
     "text": [
      "/Users/aprilpolubiec/anaconda3/envs/dublin-bikes/lib/python3.11/site-packages/sklearn/base.py:1474: DataConversionWarning: A column-vector y was passed when a 1d array was expected. Please change the shape of y to (n_samples,), for example using ravel().\n",
      "  return fit_method(estimator, *args, **kwargs)\n"
     ]
    },
    {
     "name": "stdout",
     "output_type": "stream",
     "text": [
      "2024-04-04 14:38:04,971 INFO sqlalchemy.engine.Engine BEGIN (implicit)\n",
      "2024-04-04 14:38:04,973 INFO sqlalchemy.engine.Engine SELECT `Availability`.`StationId`, `Availability`.`Status`, `Availability`.`MechanicalBikesAvailable`, `Availability`.`ElectricBikesAvailable`, `Availability`.`StandsAvailable`, `Availability`.`LastUpdated` \n",
      "FROM `Availability` \n",
      "WHERE `Availability`.`StationId` = %(StationId_1)s AND DATE(`Availability`.`LastUpdated`) >= %(DATE_1)s\n",
      "2024-04-04 14:38:04,974 INFO sqlalchemy.engine.Engine [cached since 277.2s ago] {'StationId_1': 11, 'DATE_1': datetime.datetime(2024, 3, 5, 14, 38, 4, 726329)}\n",
      "2024-04-04 14:38:05,196 INFO sqlalchemy.engine.Engine ROLLBACK\n",
      "2024-04-04 14:38:05,480 INFO sqlalchemy.engine.Engine BEGIN (implicit)\n",
      "2024-04-04 14:38:05,481 INFO sqlalchemy.engine.Engine SELECT `Availability`.`StationId`, `Availability`.`Status`, `Availability`.`MechanicalBikesAvailable`, `Availability`.`ElectricBikesAvailable`, `Availability`.`StandsAvailable`, `Availability`.`LastUpdated` \n",
      "FROM `Availability` \n",
      "WHERE `Availability`.`StationId` = %(StationId_1)s AND DATE(`Availability`.`LastUpdated`) >= %(DATE_1)s\n",
      "2024-04-04 14:38:05,481 INFO sqlalchemy.engine.Engine [cached since 277.7s ago] {'StationId_1': 12, 'DATE_1': datetime.datetime(2024, 3, 5, 14, 38, 5, 387873)}\n"
     ]
    },
    {
     "name": "stderr",
     "output_type": "stream",
     "text": [
      "/Users/aprilpolubiec/anaconda3/envs/dublin-bikes/lib/python3.11/site-packages/sklearn/base.py:1474: DataConversionWarning: A column-vector y was passed when a 1d array was expected. Please change the shape of y to (n_samples,), for example using ravel().\n",
      "  return fit_method(estimator, *args, **kwargs)\n"
     ]
    },
    {
     "name": "stdout",
     "output_type": "stream",
     "text": [
      "2024-04-04 14:38:05,602 INFO sqlalchemy.engine.Engine ROLLBACK\n",
      "2024-04-04 14:38:05,875 INFO sqlalchemy.engine.Engine BEGIN (implicit)\n",
      "2024-04-04 14:38:05,875 INFO sqlalchemy.engine.Engine SELECT `Availability`.`StationId`, `Availability`.`Status`, `Availability`.`MechanicalBikesAvailable`, `Availability`.`ElectricBikesAvailable`, `Availability`.`StandsAvailable`, `Availability`.`LastUpdated` \n",
      "FROM `Availability` \n",
      "WHERE `Availability`.`StationId` = %(StationId_1)s AND DATE(`Availability`.`LastUpdated`) >= %(DATE_1)s\n",
      "2024-04-04 14:38:05,876 INFO sqlalchemy.engine.Engine [cached since 278.1s ago] {'StationId_1': 13, 'DATE_1': datetime.datetime(2024, 3, 5, 14, 38, 5, 781358)}\n"
     ]
    },
    {
     "name": "stderr",
     "output_type": "stream",
     "text": [
      "/Users/aprilpolubiec/anaconda3/envs/dublin-bikes/lib/python3.11/site-packages/sklearn/base.py:1474: DataConversionWarning: A column-vector y was passed when a 1d array was expected. Please change the shape of y to (n_samples,), for example using ravel().\n",
      "  return fit_method(estimator, *args, **kwargs)\n"
     ]
    },
    {
     "name": "stdout",
     "output_type": "stream",
     "text": [
      "2024-04-04 14:38:05,995 INFO sqlalchemy.engine.Engine ROLLBACK\n",
      "2024-04-04 14:38:06,264 INFO sqlalchemy.engine.Engine BEGIN (implicit)\n",
      "2024-04-04 14:38:06,265 INFO sqlalchemy.engine.Engine SELECT `Availability`.`StationId`, `Availability`.`Status`, `Availability`.`MechanicalBikesAvailable`, `Availability`.`ElectricBikesAvailable`, `Availability`.`StandsAvailable`, `Availability`.`LastUpdated` \n",
      "FROM `Availability` \n",
      "WHERE `Availability`.`StationId` = %(StationId_1)s AND DATE(`Availability`.`LastUpdated`) >= %(DATE_1)s\n",
      "2024-04-04 14:38:06,265 INFO sqlalchemy.engine.Engine [cached since 278.5s ago] {'StationId_1': 14, 'DATE_1': datetime.datetime(2024, 3, 5, 14, 38, 6, 171958)}\n"
     ]
    },
    {
     "name": "stderr",
     "output_type": "stream",
     "text": [
      "/Users/aprilpolubiec/anaconda3/envs/dublin-bikes/lib/python3.11/site-packages/sklearn/base.py:1474: DataConversionWarning: A column-vector y was passed when a 1d array was expected. Please change the shape of y to (n_samples,), for example using ravel().\n",
      "  return fit_method(estimator, *args, **kwargs)\n"
     ]
    },
    {
     "name": "stdout",
     "output_type": "stream",
     "text": [
      "2024-04-04 14:38:06,389 INFO sqlalchemy.engine.Engine ROLLBACK\n",
      "2024-04-04 14:38:06,669 INFO sqlalchemy.engine.Engine BEGIN (implicit)\n",
      "2024-04-04 14:38:06,670 INFO sqlalchemy.engine.Engine SELECT `Availability`.`StationId`, `Availability`.`Status`, `Availability`.`MechanicalBikesAvailable`, `Availability`.`ElectricBikesAvailable`, `Availability`.`StandsAvailable`, `Availability`.`LastUpdated` \n",
      "FROM `Availability` \n",
      "WHERE `Availability`.`StationId` = %(StationId_1)s AND DATE(`Availability`.`LastUpdated`) >= %(DATE_1)s\n",
      "2024-04-04 14:38:06,670 INFO sqlalchemy.engine.Engine [cached since 278.9s ago] {'StationId_1': 15, 'DATE_1': datetime.datetime(2024, 3, 5, 14, 38, 6, 576154)}\n"
     ]
    },
    {
     "name": "stderr",
     "output_type": "stream",
     "text": [
      "/Users/aprilpolubiec/anaconda3/envs/dublin-bikes/lib/python3.11/site-packages/sklearn/base.py:1474: DataConversionWarning: A column-vector y was passed when a 1d array was expected. Please change the shape of y to (n_samples,), for example using ravel().\n",
      "  return fit_method(estimator, *args, **kwargs)\n"
     ]
    },
    {
     "name": "stdout",
     "output_type": "stream",
     "text": [
      "2024-04-04 14:38:06,794 INFO sqlalchemy.engine.Engine ROLLBACK\n",
      "2024-04-04 14:38:07,058 INFO sqlalchemy.engine.Engine BEGIN (implicit)\n",
      "2024-04-04 14:38:07,059 INFO sqlalchemy.engine.Engine SELECT `Availability`.`StationId`, `Availability`.`Status`, `Availability`.`MechanicalBikesAvailable`, `Availability`.`ElectricBikesAvailable`, `Availability`.`StandsAvailable`, `Availability`.`LastUpdated` \n",
      "FROM `Availability` \n",
      "WHERE `Availability`.`StationId` = %(StationId_1)s AND DATE(`Availability`.`LastUpdated`) >= %(DATE_1)s\n",
      "2024-04-04 14:38:07,059 INFO sqlalchemy.engine.Engine [cached since 279.3s ago] {'StationId_1': 16, 'DATE_1': datetime.datetime(2024, 3, 5, 14, 38, 6, 965842)}\n"
     ]
    },
    {
     "name": "stderr",
     "output_type": "stream",
     "text": [
      "/Users/aprilpolubiec/anaconda3/envs/dublin-bikes/lib/python3.11/site-packages/sklearn/base.py:1474: DataConversionWarning: A column-vector y was passed when a 1d array was expected. Please change the shape of y to (n_samples,), for example using ravel().\n",
      "  return fit_method(estimator, *args, **kwargs)\n"
     ]
    },
    {
     "name": "stdout",
     "output_type": "stream",
     "text": [
      "2024-04-04 14:38:07,181 INFO sqlalchemy.engine.Engine ROLLBACK\n",
      "2024-04-04 14:38:07,464 INFO sqlalchemy.engine.Engine BEGIN (implicit)\n",
      "2024-04-04 14:38:07,464 INFO sqlalchemy.engine.Engine SELECT `Availability`.`StationId`, `Availability`.`Status`, `Availability`.`MechanicalBikesAvailable`, `Availability`.`ElectricBikesAvailable`, `Availability`.`StandsAvailable`, `Availability`.`LastUpdated` \n",
      "FROM `Availability` \n",
      "WHERE `Availability`.`StationId` = %(StationId_1)s AND DATE(`Availability`.`LastUpdated`) >= %(DATE_1)s\n",
      "2024-04-04 14:38:07,465 INFO sqlalchemy.engine.Engine [cached since 279.7s ago] {'StationId_1': 17, 'DATE_1': datetime.datetime(2024, 3, 5, 14, 38, 7, 370293)}\n"
     ]
    },
    {
     "name": "stderr",
     "output_type": "stream",
     "text": [
      "/Users/aprilpolubiec/anaconda3/envs/dublin-bikes/lib/python3.11/site-packages/sklearn/base.py:1474: DataConversionWarning: A column-vector y was passed when a 1d array was expected. Please change the shape of y to (n_samples,), for example using ravel().\n",
      "  return fit_method(estimator, *args, **kwargs)\n"
     ]
    },
    {
     "name": "stdout",
     "output_type": "stream",
     "text": [
      "2024-04-04 14:38:07,585 INFO sqlalchemy.engine.Engine ROLLBACK\n",
      "2024-04-04 14:38:07,859 INFO sqlalchemy.engine.Engine BEGIN (implicit)\n",
      "2024-04-04 14:38:07,860 INFO sqlalchemy.engine.Engine SELECT `Availability`.`StationId`, `Availability`.`Status`, `Availability`.`MechanicalBikesAvailable`, `Availability`.`ElectricBikesAvailable`, `Availability`.`StandsAvailable`, `Availability`.`LastUpdated` \n",
      "FROM `Availability` \n",
      "WHERE `Availability`.`StationId` = %(StationId_1)s AND DATE(`Availability`.`LastUpdated`) >= %(DATE_1)s\n",
      "2024-04-04 14:38:07,861 INFO sqlalchemy.engine.Engine [cached since 280.1s ago] {'StationId_1': 18, 'DATE_1': datetime.datetime(2024, 3, 5, 14, 38, 7, 766377)}\n"
     ]
    },
    {
     "name": "stderr",
     "output_type": "stream",
     "text": [
      "/Users/aprilpolubiec/anaconda3/envs/dublin-bikes/lib/python3.11/site-packages/sklearn/base.py:1474: DataConversionWarning: A column-vector y was passed when a 1d array was expected. Please change the shape of y to (n_samples,), for example using ravel().\n",
      "  return fit_method(estimator, *args, **kwargs)\n"
     ]
    },
    {
     "name": "stdout",
     "output_type": "stream",
     "text": [
      "2024-04-04 14:38:07,984 INFO sqlalchemy.engine.Engine ROLLBACK\n",
      "2024-04-04 14:38:08,263 INFO sqlalchemy.engine.Engine BEGIN (implicit)\n",
      "2024-04-04 14:38:08,264 INFO sqlalchemy.engine.Engine SELECT `Availability`.`StationId`, `Availability`.`Status`, `Availability`.`MechanicalBikesAvailable`, `Availability`.`ElectricBikesAvailable`, `Availability`.`StandsAvailable`, `Availability`.`LastUpdated` \n",
      "FROM `Availability` \n",
      "WHERE `Availability`.`StationId` = %(StationId_1)s AND DATE(`Availability`.`LastUpdated`) >= %(DATE_1)s\n",
      "2024-04-04 14:38:08,264 INFO sqlalchemy.engine.Engine [cached since 280.5s ago] {'StationId_1': 19, 'DATE_1': datetime.datetime(2024, 3, 5, 14, 38, 8, 170194)}\n"
     ]
    },
    {
     "name": "stderr",
     "output_type": "stream",
     "text": [
      "/Users/aprilpolubiec/anaconda3/envs/dublin-bikes/lib/python3.11/site-packages/sklearn/base.py:1474: DataConversionWarning: A column-vector y was passed when a 1d array was expected. Please change the shape of y to (n_samples,), for example using ravel().\n",
      "  return fit_method(estimator, *args, **kwargs)\n"
     ]
    },
    {
     "name": "stdout",
     "output_type": "stream",
     "text": [
      "2024-04-04 14:38:08,392 INFO sqlalchemy.engine.Engine ROLLBACK\n",
      "2024-04-04 14:38:08,734 INFO sqlalchemy.engine.Engine BEGIN (implicit)\n",
      "2024-04-04 14:38:08,735 INFO sqlalchemy.engine.Engine SELECT `Availability`.`StationId`, `Availability`.`Status`, `Availability`.`MechanicalBikesAvailable`, `Availability`.`ElectricBikesAvailable`, `Availability`.`StandsAvailable`, `Availability`.`LastUpdated` \n",
      "FROM `Availability` \n",
      "WHERE `Availability`.`StationId` = %(StationId_1)s AND DATE(`Availability`.`LastUpdated`) >= %(DATE_1)s\n",
      "2024-04-04 14:38:08,735 INFO sqlalchemy.engine.Engine [cached since 281s ago] {'StationId_1': 20, 'DATE_1': datetime.datetime(2024, 3, 5, 14, 38, 8, 641172)}\n"
     ]
    },
    {
     "name": "stderr",
     "output_type": "stream",
     "text": [
      "/Users/aprilpolubiec/anaconda3/envs/dublin-bikes/lib/python3.11/site-packages/sklearn/base.py:1474: DataConversionWarning: A column-vector y was passed when a 1d array was expected. Please change the shape of y to (n_samples,), for example using ravel().\n",
      "  return fit_method(estimator, *args, **kwargs)\n"
     ]
    },
    {
     "name": "stdout",
     "output_type": "stream",
     "text": [
      "2024-04-04 14:38:08,857 INFO sqlalchemy.engine.Engine ROLLBACK\n",
      "2024-04-04 14:38:09,122 INFO sqlalchemy.engine.Engine BEGIN (implicit)\n",
      "2024-04-04 14:38:09,122 INFO sqlalchemy.engine.Engine SELECT `Availability`.`StationId`, `Availability`.`Status`, `Availability`.`MechanicalBikesAvailable`, `Availability`.`ElectricBikesAvailable`, `Availability`.`StandsAvailable`, `Availability`.`LastUpdated` \n",
      "FROM `Availability` \n",
      "WHERE `Availability`.`StationId` = %(StationId_1)s AND DATE(`Availability`.`LastUpdated`) >= %(DATE_1)s\n",
      "2024-04-04 14:38:09,123 INFO sqlalchemy.engine.Engine [cached since 281.4s ago] {'StationId_1': 21, 'DATE_1': datetime.datetime(2024, 3, 5, 14, 38, 9, 30266)}\n"
     ]
    },
    {
     "name": "stderr",
     "output_type": "stream",
     "text": [
      "/Users/aprilpolubiec/anaconda3/envs/dublin-bikes/lib/python3.11/site-packages/sklearn/base.py:1474: DataConversionWarning: A column-vector y was passed when a 1d array was expected. Please change the shape of y to (n_samples,), for example using ravel().\n",
      "  return fit_method(estimator, *args, **kwargs)\n"
     ]
    },
    {
     "name": "stdout",
     "output_type": "stream",
     "text": [
      "2024-04-04 14:38:09,251 INFO sqlalchemy.engine.Engine ROLLBACK\n",
      "2024-04-04 14:38:09,543 INFO sqlalchemy.engine.Engine BEGIN (implicit)\n",
      "2024-04-04 14:38:09,544 INFO sqlalchemy.engine.Engine SELECT `Availability`.`StationId`, `Availability`.`Status`, `Availability`.`MechanicalBikesAvailable`, `Availability`.`ElectricBikesAvailable`, `Availability`.`StandsAvailable`, `Availability`.`LastUpdated` \n",
      "FROM `Availability` \n",
      "WHERE `Availability`.`StationId` = %(StationId_1)s AND DATE(`Availability`.`LastUpdated`) >= %(DATE_1)s\n",
      "2024-04-04 14:38:09,544 INFO sqlalchemy.engine.Engine [cached since 281.8s ago] {'StationId_1': 22, 'DATE_1': datetime.datetime(2024, 3, 5, 14, 38, 9, 435827)}\n"
     ]
    },
    {
     "name": "stderr",
     "output_type": "stream",
     "text": [
      "/Users/aprilpolubiec/anaconda3/envs/dublin-bikes/lib/python3.11/site-packages/sklearn/base.py:1474: DataConversionWarning: A column-vector y was passed when a 1d array was expected. Please change the shape of y to (n_samples,), for example using ravel().\n",
      "  return fit_method(estimator, *args, **kwargs)\n"
     ]
    },
    {
     "name": "stdout",
     "output_type": "stream",
     "text": [
      "2024-04-04 14:38:09,670 INFO sqlalchemy.engine.Engine ROLLBACK\n",
      "2024-04-04 14:38:09,947 INFO sqlalchemy.engine.Engine BEGIN (implicit)\n",
      "2024-04-04 14:38:09,948 INFO sqlalchemy.engine.Engine SELECT `Availability`.`StationId`, `Availability`.`Status`, `Availability`.`MechanicalBikesAvailable`, `Availability`.`ElectricBikesAvailable`, `Availability`.`StandsAvailable`, `Availability`.`LastUpdated` \n",
      "FROM `Availability` \n",
      "WHERE `Availability`.`StationId` = %(StationId_1)s AND DATE(`Availability`.`LastUpdated`) >= %(DATE_1)s\n",
      "2024-04-04 14:38:09,948 INFO sqlalchemy.engine.Engine [cached since 282.2s ago] {'StationId_1': 23, 'DATE_1': datetime.datetime(2024, 3, 5, 14, 38, 9, 854663)}\n"
     ]
    },
    {
     "name": "stderr",
     "output_type": "stream",
     "text": [
      "/Users/aprilpolubiec/anaconda3/envs/dublin-bikes/lib/python3.11/site-packages/sklearn/base.py:1474: DataConversionWarning: A column-vector y was passed when a 1d array was expected. Please change the shape of y to (n_samples,), for example using ravel().\n",
      "  return fit_method(estimator, *args, **kwargs)\n"
     ]
    },
    {
     "name": "stdout",
     "output_type": "stream",
     "text": [
      "2024-04-04 14:38:10,108 INFO sqlalchemy.engine.Engine ROLLBACK\n",
      "2024-04-04 14:38:10,375 INFO sqlalchemy.engine.Engine BEGIN (implicit)\n",
      "2024-04-04 14:38:10,376 INFO sqlalchemy.engine.Engine SELECT `Availability`.`StationId`, `Availability`.`Status`, `Availability`.`MechanicalBikesAvailable`, `Availability`.`ElectricBikesAvailable`, `Availability`.`StandsAvailable`, `Availability`.`LastUpdated` \n",
      "FROM `Availability` \n",
      "WHERE `Availability`.`StationId` = %(StationId_1)s AND DATE(`Availability`.`LastUpdated`) >= %(DATE_1)s\n",
      "2024-04-04 14:38:10,377 INFO sqlalchemy.engine.Engine [cached since 282.6s ago] {'StationId_1': 24, 'DATE_1': datetime.datetime(2024, 3, 5, 14, 38, 10, 282722)}\n"
     ]
    },
    {
     "name": "stderr",
     "output_type": "stream",
     "text": [
      "/Users/aprilpolubiec/anaconda3/envs/dublin-bikes/lib/python3.11/site-packages/sklearn/base.py:1474: DataConversionWarning: A column-vector y was passed when a 1d array was expected. Please change the shape of y to (n_samples,), for example using ravel().\n",
      "  return fit_method(estimator, *args, **kwargs)\n"
     ]
    },
    {
     "name": "stdout",
     "output_type": "stream",
     "text": [
      "2024-04-04 14:38:10,495 INFO sqlalchemy.engine.Engine ROLLBACK\n",
      "2024-04-04 14:38:10,766 INFO sqlalchemy.engine.Engine BEGIN (implicit)\n",
      "2024-04-04 14:38:10,766 INFO sqlalchemy.engine.Engine SELECT `Availability`.`StationId`, `Availability`.`Status`, `Availability`.`MechanicalBikesAvailable`, `Availability`.`ElectricBikesAvailable`, `Availability`.`StandsAvailable`, `Availability`.`LastUpdated` \n",
      "FROM `Availability` \n",
      "WHERE `Availability`.`StationId` = %(StationId_1)s AND DATE(`Availability`.`LastUpdated`) >= %(DATE_1)s\n",
      "2024-04-04 14:38:10,767 INFO sqlalchemy.engine.Engine [cached since 283s ago] {'StationId_1': 25, 'DATE_1': datetime.datetime(2024, 3, 5, 14, 38, 10, 673490)}\n"
     ]
    },
    {
     "name": "stderr",
     "output_type": "stream",
     "text": [
      "/Users/aprilpolubiec/anaconda3/envs/dublin-bikes/lib/python3.11/site-packages/sklearn/base.py:1474: DataConversionWarning: A column-vector y was passed when a 1d array was expected. Please change the shape of y to (n_samples,), for example using ravel().\n",
      "  return fit_method(estimator, *args, **kwargs)\n"
     ]
    },
    {
     "name": "stdout",
     "output_type": "stream",
     "text": [
      "2024-04-04 14:38:10,891 INFO sqlalchemy.engine.Engine ROLLBACK\n",
      "2024-04-04 14:38:11,186 INFO sqlalchemy.engine.Engine BEGIN (implicit)\n",
      "2024-04-04 14:38:11,187 INFO sqlalchemy.engine.Engine SELECT `Availability`.`StationId`, `Availability`.`Status`, `Availability`.`MechanicalBikesAvailable`, `Availability`.`ElectricBikesAvailable`, `Availability`.`StandsAvailable`, `Availability`.`LastUpdated` \n",
      "FROM `Availability` \n",
      "WHERE `Availability`.`StationId` = %(StationId_1)s AND DATE(`Availability`.`LastUpdated`) >= %(DATE_1)s\n",
      "2024-04-04 14:38:11,187 INFO sqlalchemy.engine.Engine [cached since 283.4s ago] {'StationId_1': 26, 'DATE_1': datetime.datetime(2024, 3, 5, 14, 38, 11, 94337)}\n"
     ]
    },
    {
     "name": "stderr",
     "output_type": "stream",
     "text": [
      "/Users/aprilpolubiec/anaconda3/envs/dublin-bikes/lib/python3.11/site-packages/sklearn/base.py:1474: DataConversionWarning: A column-vector y was passed when a 1d array was expected. Please change the shape of y to (n_samples,), for example using ravel().\n",
      "  return fit_method(estimator, *args, **kwargs)\n"
     ]
    },
    {
     "name": "stdout",
     "output_type": "stream",
     "text": [
      "2024-04-04 14:38:11,308 INFO sqlalchemy.engine.Engine ROLLBACK\n",
      "2024-04-04 14:38:11,579 INFO sqlalchemy.engine.Engine BEGIN (implicit)\n",
      "2024-04-04 14:38:11,579 INFO sqlalchemy.engine.Engine SELECT `Availability`.`StationId`, `Availability`.`Status`, `Availability`.`MechanicalBikesAvailable`, `Availability`.`ElectricBikesAvailable`, `Availability`.`StandsAvailable`, `Availability`.`LastUpdated` \n",
      "FROM `Availability` \n",
      "WHERE `Availability`.`StationId` = %(StationId_1)s AND DATE(`Availability`.`LastUpdated`) >= %(DATE_1)s\n",
      "2024-04-04 14:38:11,580 INFO sqlalchemy.engine.Engine [cached since 283.8s ago] {'StationId_1': 27, 'DATE_1': datetime.datetime(2024, 3, 5, 14, 38, 11, 486597)}\n"
     ]
    },
    {
     "name": "stderr",
     "output_type": "stream",
     "text": [
      "/Users/aprilpolubiec/anaconda3/envs/dublin-bikes/lib/python3.11/site-packages/sklearn/base.py:1474: DataConversionWarning: A column-vector y was passed when a 1d array was expected. Please change the shape of y to (n_samples,), for example using ravel().\n",
      "  return fit_method(estimator, *args, **kwargs)\n"
     ]
    },
    {
     "name": "stdout",
     "output_type": "stream",
     "text": [
      "2024-04-04 14:38:11,703 INFO sqlalchemy.engine.Engine ROLLBACK\n",
      "2024-04-04 14:38:11,967 INFO sqlalchemy.engine.Engine BEGIN (implicit)\n",
      "2024-04-04 14:38:11,967 INFO sqlalchemy.engine.Engine SELECT `Availability`.`StationId`, `Availability`.`Status`, `Availability`.`MechanicalBikesAvailable`, `Availability`.`ElectricBikesAvailable`, `Availability`.`StandsAvailable`, `Availability`.`LastUpdated` \n",
      "FROM `Availability` \n",
      "WHERE `Availability`.`StationId` = %(StationId_1)s AND DATE(`Availability`.`LastUpdated`) >= %(DATE_1)s\n",
      "2024-04-04 14:38:11,967 INFO sqlalchemy.engine.Engine [cached since 284.2s ago] {'StationId_1': 28, 'DATE_1': datetime.datetime(2024, 3, 5, 14, 38, 11, 874404)}\n"
     ]
    },
    {
     "name": "stderr",
     "output_type": "stream",
     "text": [
      "/Users/aprilpolubiec/anaconda3/envs/dublin-bikes/lib/python3.11/site-packages/sklearn/base.py:1474: DataConversionWarning: A column-vector y was passed when a 1d array was expected. Please change the shape of y to (n_samples,), for example using ravel().\n",
      "  return fit_method(estimator, *args, **kwargs)\n"
     ]
    },
    {
     "name": "stdout",
     "output_type": "stream",
     "text": [
      "2024-04-04 14:38:12,089 INFO sqlalchemy.engine.Engine ROLLBACK\n",
      "2024-04-04 14:38:12,363 INFO sqlalchemy.engine.Engine BEGIN (implicit)\n",
      "2024-04-04 14:38:12,363 INFO sqlalchemy.engine.Engine SELECT `Availability`.`StationId`, `Availability`.`Status`, `Availability`.`MechanicalBikesAvailable`, `Availability`.`ElectricBikesAvailable`, `Availability`.`StandsAvailable`, `Availability`.`LastUpdated` \n",
      "FROM `Availability` \n",
      "WHERE `Availability`.`StationId` = %(StationId_1)s AND DATE(`Availability`.`LastUpdated`) >= %(DATE_1)s\n",
      "2024-04-04 14:38:12,364 INFO sqlalchemy.engine.Engine [cached since 284.6s ago] {'StationId_1': 29, 'DATE_1': datetime.datetime(2024, 3, 5, 14, 38, 12, 270288)}\n"
     ]
    },
    {
     "name": "stderr",
     "output_type": "stream",
     "text": [
      "/Users/aprilpolubiec/anaconda3/envs/dublin-bikes/lib/python3.11/site-packages/sklearn/base.py:1474: DataConversionWarning: A column-vector y was passed when a 1d array was expected. Please change the shape of y to (n_samples,), for example using ravel().\n",
      "  return fit_method(estimator, *args, **kwargs)\n"
     ]
    },
    {
     "name": "stdout",
     "output_type": "stream",
     "text": [
      "2024-04-04 14:38:12,490 INFO sqlalchemy.engine.Engine ROLLBACK\n",
      "2024-04-04 14:38:12,763 INFO sqlalchemy.engine.Engine BEGIN (implicit)\n",
      "2024-04-04 14:38:12,764 INFO sqlalchemy.engine.Engine SELECT `Availability`.`StationId`, `Availability`.`Status`, `Availability`.`MechanicalBikesAvailable`, `Availability`.`ElectricBikesAvailable`, `Availability`.`StandsAvailable`, `Availability`.`LastUpdated` \n",
      "FROM `Availability` \n",
      "WHERE `Availability`.`StationId` = %(StationId_1)s AND DATE(`Availability`.`LastUpdated`) >= %(DATE_1)s\n",
      "2024-04-04 14:38:12,764 INFO sqlalchemy.engine.Engine [cached since 285s ago] {'StationId_1': 30, 'DATE_1': datetime.datetime(2024, 3, 5, 14, 38, 12, 671184)}\n"
     ]
    },
    {
     "name": "stderr",
     "output_type": "stream",
     "text": [
      "/Users/aprilpolubiec/anaconda3/envs/dublin-bikes/lib/python3.11/site-packages/sklearn/base.py:1474: DataConversionWarning: A column-vector y was passed when a 1d array was expected. Please change the shape of y to (n_samples,), for example using ravel().\n",
      "  return fit_method(estimator, *args, **kwargs)\n"
     ]
    },
    {
     "name": "stdout",
     "output_type": "stream",
     "text": [
      "2024-04-04 14:38:12,884 INFO sqlalchemy.engine.Engine ROLLBACK\n",
      "2024-04-04 14:38:13,154 INFO sqlalchemy.engine.Engine BEGIN (implicit)\n",
      "2024-04-04 14:38:13,155 INFO sqlalchemy.engine.Engine SELECT `Availability`.`StationId`, `Availability`.`Status`, `Availability`.`MechanicalBikesAvailable`, `Availability`.`ElectricBikesAvailable`, `Availability`.`StandsAvailable`, `Availability`.`LastUpdated` \n",
      "FROM `Availability` \n",
      "WHERE `Availability`.`StationId` = %(StationId_1)s AND DATE(`Availability`.`LastUpdated`) >= %(DATE_1)s\n",
      "2024-04-04 14:38:13,155 INFO sqlalchemy.engine.Engine [cached since 285.4s ago] {'StationId_1': 31, 'DATE_1': datetime.datetime(2024, 3, 5, 14, 38, 13, 59940)}\n"
     ]
    },
    {
     "name": "stderr",
     "output_type": "stream",
     "text": [
      "/Users/aprilpolubiec/anaconda3/envs/dublin-bikes/lib/python3.11/site-packages/sklearn/base.py:1474: DataConversionWarning: A column-vector y was passed when a 1d array was expected. Please change the shape of y to (n_samples,), for example using ravel().\n",
      "  return fit_method(estimator, *args, **kwargs)\n"
     ]
    },
    {
     "name": "stdout",
     "output_type": "stream",
     "text": [
      "2024-04-04 14:38:13,277 INFO sqlalchemy.engine.Engine ROLLBACK\n",
      "2024-04-04 14:38:13,551 INFO sqlalchemy.engine.Engine BEGIN (implicit)\n",
      "2024-04-04 14:38:13,552 INFO sqlalchemy.engine.Engine SELECT `Availability`.`StationId`, `Availability`.`Status`, `Availability`.`MechanicalBikesAvailable`, `Availability`.`ElectricBikesAvailable`, `Availability`.`StandsAvailable`, `Availability`.`LastUpdated` \n",
      "FROM `Availability` \n",
      "WHERE `Availability`.`StationId` = %(StationId_1)s AND DATE(`Availability`.`LastUpdated`) >= %(DATE_1)s\n",
      "2024-04-04 14:38:13,552 INFO sqlalchemy.engine.Engine [cached since 285.8s ago] {'StationId_1': 32, 'DATE_1': datetime.datetime(2024, 3, 5, 14, 38, 13, 459007)}\n"
     ]
    },
    {
     "name": "stderr",
     "output_type": "stream",
     "text": [
      "/Users/aprilpolubiec/anaconda3/envs/dublin-bikes/lib/python3.11/site-packages/sklearn/base.py:1474: DataConversionWarning: A column-vector y was passed when a 1d array was expected. Please change the shape of y to (n_samples,), for example using ravel().\n",
      "  return fit_method(estimator, *args, **kwargs)\n"
     ]
    },
    {
     "name": "stdout",
     "output_type": "stream",
     "text": [
      "2024-04-04 14:38:13,677 INFO sqlalchemy.engine.Engine ROLLBACK\n",
      "2024-04-04 14:38:13,977 INFO sqlalchemy.engine.Engine BEGIN (implicit)\n",
      "2024-04-04 14:38:13,977 INFO sqlalchemy.engine.Engine SELECT `Availability`.`StationId`, `Availability`.`Status`, `Availability`.`MechanicalBikesAvailable`, `Availability`.`ElectricBikesAvailable`, `Availability`.`StandsAvailable`, `Availability`.`LastUpdated` \n",
      "FROM `Availability` \n",
      "WHERE `Availability`.`StationId` = %(StationId_1)s AND DATE(`Availability`.`LastUpdated`) >= %(DATE_1)s\n",
      "2024-04-04 14:38:13,978 INFO sqlalchemy.engine.Engine [cached since 286.2s ago] {'StationId_1': 33, 'DATE_1': datetime.datetime(2024, 3, 5, 14, 38, 13, 862257)}\n"
     ]
    },
    {
     "name": "stderr",
     "output_type": "stream",
     "text": [
      "/Users/aprilpolubiec/anaconda3/envs/dublin-bikes/lib/python3.11/site-packages/sklearn/base.py:1474: DataConversionWarning: A column-vector y was passed when a 1d array was expected. Please change the shape of y to (n_samples,), for example using ravel().\n",
      "  return fit_method(estimator, *args, **kwargs)\n"
     ]
    },
    {
     "name": "stdout",
     "output_type": "stream",
     "text": [
      "2024-04-04 14:38:14,102 INFO sqlalchemy.engine.Engine ROLLBACK\n",
      "2024-04-04 14:38:14,381 INFO sqlalchemy.engine.Engine BEGIN (implicit)\n",
      "2024-04-04 14:38:14,382 INFO sqlalchemy.engine.Engine SELECT `Availability`.`StationId`, `Availability`.`Status`, `Availability`.`MechanicalBikesAvailable`, `Availability`.`ElectricBikesAvailable`, `Availability`.`StandsAvailable`, `Availability`.`LastUpdated` \n",
      "FROM `Availability` \n",
      "WHERE `Availability`.`StationId` = %(StationId_1)s AND DATE(`Availability`.`LastUpdated`) >= %(DATE_1)s\n",
      "2024-04-04 14:38:14,382 INFO sqlalchemy.engine.Engine [cached since 286.6s ago] {'StationId_1': 34, 'DATE_1': datetime.datetime(2024, 3, 5, 14, 38, 14, 288186)}\n"
     ]
    },
    {
     "name": "stderr",
     "output_type": "stream",
     "text": [
      "/Users/aprilpolubiec/anaconda3/envs/dublin-bikes/lib/python3.11/site-packages/sklearn/base.py:1474: DataConversionWarning: A column-vector y was passed when a 1d array was expected. Please change the shape of y to (n_samples,), for example using ravel().\n",
      "  return fit_method(estimator, *args, **kwargs)\n"
     ]
    },
    {
     "name": "stdout",
     "output_type": "stream",
     "text": [
      "2024-04-04 14:38:14,545 INFO sqlalchemy.engine.Engine ROLLBACK\n",
      "2024-04-04 14:38:14,815 INFO sqlalchemy.engine.Engine BEGIN (implicit)\n",
      "2024-04-04 14:38:14,815 INFO sqlalchemy.engine.Engine SELECT `Availability`.`StationId`, `Availability`.`Status`, `Availability`.`MechanicalBikesAvailable`, `Availability`.`ElectricBikesAvailable`, `Availability`.`StandsAvailable`, `Availability`.`LastUpdated` \n",
      "FROM `Availability` \n",
      "WHERE `Availability`.`StationId` = %(StationId_1)s AND DATE(`Availability`.`LastUpdated`) >= %(DATE_1)s\n",
      "2024-04-04 14:38:14,816 INFO sqlalchemy.engine.Engine [cached since 287s ago] {'StationId_1': 35, 'DATE_1': datetime.datetime(2024, 3, 5, 14, 38, 14, 720347)}\n"
     ]
    },
    {
     "name": "stderr",
     "output_type": "stream",
     "text": [
      "/Users/aprilpolubiec/anaconda3/envs/dublin-bikes/lib/python3.11/site-packages/sklearn/base.py:1474: DataConversionWarning: A column-vector y was passed when a 1d array was expected. Please change the shape of y to (n_samples,), for example using ravel().\n",
      "  return fit_method(estimator, *args, **kwargs)\n"
     ]
    },
    {
     "name": "stdout",
     "output_type": "stream",
     "text": [
      "2024-04-04 14:38:14,940 INFO sqlalchemy.engine.Engine ROLLBACK\n",
      "2024-04-04 14:38:15,204 INFO sqlalchemy.engine.Engine BEGIN (implicit)\n",
      "2024-04-04 14:38:15,205 INFO sqlalchemy.engine.Engine SELECT `Availability`.`StationId`, `Availability`.`Status`, `Availability`.`MechanicalBikesAvailable`, `Availability`.`ElectricBikesAvailable`, `Availability`.`StandsAvailable`, `Availability`.`LastUpdated` \n",
      "FROM `Availability` \n",
      "WHERE `Availability`.`StationId` = %(StationId_1)s AND DATE(`Availability`.`LastUpdated`) >= %(DATE_1)s\n",
      "2024-04-04 14:38:15,205 INFO sqlalchemy.engine.Engine [cached since 287.4s ago] {'StationId_1': 36, 'DATE_1': datetime.datetime(2024, 3, 5, 14, 38, 15, 111576)}\n"
     ]
    },
    {
     "name": "stderr",
     "output_type": "stream",
     "text": [
      "/Users/aprilpolubiec/anaconda3/envs/dublin-bikes/lib/python3.11/site-packages/sklearn/base.py:1474: DataConversionWarning: A column-vector y was passed when a 1d array was expected. Please change the shape of y to (n_samples,), for example using ravel().\n",
      "  return fit_method(estimator, *args, **kwargs)\n"
     ]
    },
    {
     "name": "stdout",
     "output_type": "stream",
     "text": [
      "2024-04-04 14:38:15,327 INFO sqlalchemy.engine.Engine ROLLBACK\n",
      "2024-04-04 14:38:15,598 INFO sqlalchemy.engine.Engine BEGIN (implicit)\n",
      "2024-04-04 14:38:15,598 INFO sqlalchemy.engine.Engine SELECT `Availability`.`StationId`, `Availability`.`Status`, `Availability`.`MechanicalBikesAvailable`, `Availability`.`ElectricBikesAvailable`, `Availability`.`StandsAvailable`, `Availability`.`LastUpdated` \n",
      "FROM `Availability` \n",
      "WHERE `Availability`.`StationId` = %(StationId_1)s AND DATE(`Availability`.`LastUpdated`) >= %(DATE_1)s\n",
      "2024-04-04 14:38:15,599 INFO sqlalchemy.engine.Engine [cached since 287.8s ago] {'StationId_1': 37, 'DATE_1': datetime.datetime(2024, 3, 5, 14, 38, 15, 504146)}\n"
     ]
    },
    {
     "name": "stderr",
     "output_type": "stream",
     "text": [
      "/Users/aprilpolubiec/anaconda3/envs/dublin-bikes/lib/python3.11/site-packages/sklearn/base.py:1474: DataConversionWarning: A column-vector y was passed when a 1d array was expected. Please change the shape of y to (n_samples,), for example using ravel().\n",
      "  return fit_method(estimator, *args, **kwargs)\n"
     ]
    },
    {
     "name": "stdout",
     "output_type": "stream",
     "text": [
      "2024-04-04 14:38:15,720 INFO sqlalchemy.engine.Engine ROLLBACK\n",
      "2024-04-04 14:38:15,987 INFO sqlalchemy.engine.Engine BEGIN (implicit)\n",
      "2024-04-04 14:38:15,987 INFO sqlalchemy.engine.Engine SELECT `Availability`.`StationId`, `Availability`.`Status`, `Availability`.`MechanicalBikesAvailable`, `Availability`.`ElectricBikesAvailable`, `Availability`.`StandsAvailable`, `Availability`.`LastUpdated` \n",
      "FROM `Availability` \n",
      "WHERE `Availability`.`StationId` = %(StationId_1)s AND DATE(`Availability`.`LastUpdated`) >= %(DATE_1)s\n",
      "2024-04-04 14:38:15,988 INFO sqlalchemy.engine.Engine [cached since 288.2s ago] {'StationId_1': 38, 'DATE_1': datetime.datetime(2024, 3, 5, 14, 38, 15, 894703)}\n"
     ]
    },
    {
     "name": "stderr",
     "output_type": "stream",
     "text": [
      "/Users/aprilpolubiec/anaconda3/envs/dublin-bikes/lib/python3.11/site-packages/sklearn/base.py:1474: DataConversionWarning: A column-vector y was passed when a 1d array was expected. Please change the shape of y to (n_samples,), for example using ravel().\n",
      "  return fit_method(estimator, *args, **kwargs)\n"
     ]
    },
    {
     "name": "stdout",
     "output_type": "stream",
     "text": [
      "2024-04-04 14:38:16,113 INFO sqlalchemy.engine.Engine ROLLBACK\n",
      "2024-04-04 14:38:16,385 INFO sqlalchemy.engine.Engine BEGIN (implicit)\n",
      "2024-04-04 14:38:16,385 INFO sqlalchemy.engine.Engine SELECT `Availability`.`StationId`, `Availability`.`Status`, `Availability`.`MechanicalBikesAvailable`, `Availability`.`ElectricBikesAvailable`, `Availability`.`StandsAvailable`, `Availability`.`LastUpdated` \n",
      "FROM `Availability` \n",
      "WHERE `Availability`.`StationId` = %(StationId_1)s AND DATE(`Availability`.`LastUpdated`) >= %(DATE_1)s\n",
      "2024-04-04 14:38:16,386 INFO sqlalchemy.engine.Engine [cached since 288.6s ago] {'StationId_1': 39, 'DATE_1': datetime.datetime(2024, 3, 5, 14, 38, 16, 292187)}\n"
     ]
    },
    {
     "name": "stderr",
     "output_type": "stream",
     "text": [
      "/Users/aprilpolubiec/anaconda3/envs/dublin-bikes/lib/python3.11/site-packages/sklearn/base.py:1474: DataConversionWarning: A column-vector y was passed when a 1d array was expected. Please change the shape of y to (n_samples,), for example using ravel().\n",
      "  return fit_method(estimator, *args, **kwargs)\n"
     ]
    },
    {
     "name": "stdout",
     "output_type": "stream",
     "text": [
      "2024-04-04 14:38:16,516 INFO sqlalchemy.engine.Engine ROLLBACK\n",
      "2024-04-04 14:38:16,796 INFO sqlalchemy.engine.Engine BEGIN (implicit)\n",
      "2024-04-04 14:38:16,797 INFO sqlalchemy.engine.Engine SELECT `Availability`.`StationId`, `Availability`.`Status`, `Availability`.`MechanicalBikesAvailable`, `Availability`.`ElectricBikesAvailable`, `Availability`.`StandsAvailable`, `Availability`.`LastUpdated` \n",
      "FROM `Availability` \n",
      "WHERE `Availability`.`StationId` = %(StationId_1)s AND DATE(`Availability`.`LastUpdated`) >= %(DATE_1)s\n",
      "2024-04-04 14:38:16,797 INFO sqlalchemy.engine.Engine [cached since 289s ago] {'StationId_1': 40, 'DATE_1': datetime.datetime(2024, 3, 5, 14, 38, 16, 701320)}\n"
     ]
    },
    {
     "name": "stderr",
     "output_type": "stream",
     "text": [
      "/Users/aprilpolubiec/anaconda3/envs/dublin-bikes/lib/python3.11/site-packages/sklearn/base.py:1474: DataConversionWarning: A column-vector y was passed when a 1d array was expected. Please change the shape of y to (n_samples,), for example using ravel().\n",
      "  return fit_method(estimator, *args, **kwargs)\n"
     ]
    },
    {
     "name": "stdout",
     "output_type": "stream",
     "text": [
      "2024-04-04 14:38:16,917 INFO sqlalchemy.engine.Engine ROLLBACK\n",
      "2024-04-04 14:38:17,189 INFO sqlalchemy.engine.Engine BEGIN (implicit)\n",
      "2024-04-04 14:38:17,189 INFO sqlalchemy.engine.Engine SELECT `Availability`.`StationId`, `Availability`.`Status`, `Availability`.`MechanicalBikesAvailable`, `Availability`.`ElectricBikesAvailable`, `Availability`.`StandsAvailable`, `Availability`.`LastUpdated` \n",
      "FROM `Availability` \n",
      "WHERE `Availability`.`StationId` = %(StationId_1)s AND DATE(`Availability`.`LastUpdated`) >= %(DATE_1)s\n",
      "2024-04-04 14:38:17,189 INFO sqlalchemy.engine.Engine [cached since 289.4s ago] {'StationId_1': 41, 'DATE_1': datetime.datetime(2024, 3, 5, 14, 38, 17, 96701)}\n"
     ]
    },
    {
     "name": "stderr",
     "output_type": "stream",
     "text": [
      "/Users/aprilpolubiec/anaconda3/envs/dublin-bikes/lib/python3.11/site-packages/sklearn/base.py:1474: DataConversionWarning: A column-vector y was passed when a 1d array was expected. Please change the shape of y to (n_samples,), for example using ravel().\n",
      "  return fit_method(estimator, *args, **kwargs)\n"
     ]
    },
    {
     "name": "stdout",
     "output_type": "stream",
     "text": [
      "2024-04-04 14:38:17,306 INFO sqlalchemy.engine.Engine ROLLBACK\n",
      "2024-04-04 14:38:17,576 INFO sqlalchemy.engine.Engine BEGIN (implicit)\n",
      "2024-04-04 14:38:17,576 INFO sqlalchemy.engine.Engine SELECT `Availability`.`StationId`, `Availability`.`Status`, `Availability`.`MechanicalBikesAvailable`, `Availability`.`ElectricBikesAvailable`, `Availability`.`StandsAvailable`, `Availability`.`LastUpdated` \n",
      "FROM `Availability` \n",
      "WHERE `Availability`.`StationId` = %(StationId_1)s AND DATE(`Availability`.`LastUpdated`) >= %(DATE_1)s\n",
      "2024-04-04 14:38:17,576 INFO sqlalchemy.engine.Engine [cached since 289.8s ago] {'StationId_1': 42, 'DATE_1': datetime.datetime(2024, 3, 5, 14, 38, 17, 482777)}\n"
     ]
    },
    {
     "name": "stderr",
     "output_type": "stream",
     "text": [
      "/Users/aprilpolubiec/anaconda3/envs/dublin-bikes/lib/python3.11/site-packages/sklearn/base.py:1474: DataConversionWarning: A column-vector y was passed when a 1d array was expected. Please change the shape of y to (n_samples,), for example using ravel().\n",
      "  return fit_method(estimator, *args, **kwargs)\n"
     ]
    },
    {
     "name": "stdout",
     "output_type": "stream",
     "text": [
      "2024-04-04 14:38:17,697 INFO sqlalchemy.engine.Engine ROLLBACK\n",
      "2024-04-04 14:38:18,008 INFO sqlalchemy.engine.Engine BEGIN (implicit)\n",
      "2024-04-04 14:38:18,008 INFO sqlalchemy.engine.Engine SELECT `Availability`.`StationId`, `Availability`.`Status`, `Availability`.`MechanicalBikesAvailable`, `Availability`.`ElectricBikesAvailable`, `Availability`.`StandsAvailable`, `Availability`.`LastUpdated` \n",
      "FROM `Availability` \n",
      "WHERE `Availability`.`StationId` = %(StationId_1)s AND DATE(`Availability`.`LastUpdated`) >= %(DATE_1)s\n",
      "2024-04-04 14:38:18,008 INFO sqlalchemy.engine.Engine [cached since 290.2s ago] {'StationId_1': 43, 'DATE_1': datetime.datetime(2024, 3, 5, 14, 38, 17, 914724)}\n"
     ]
    },
    {
     "name": "stderr",
     "output_type": "stream",
     "text": [
      "/Users/aprilpolubiec/anaconda3/envs/dublin-bikes/lib/python3.11/site-packages/sklearn/base.py:1474: DataConversionWarning: A column-vector y was passed when a 1d array was expected. Please change the shape of y to (n_samples,), for example using ravel().\n",
      "  return fit_method(estimator, *args, **kwargs)\n"
     ]
    },
    {
     "name": "stdout",
     "output_type": "stream",
     "text": [
      "2024-04-04 14:38:18,141 INFO sqlalchemy.engine.Engine ROLLBACK\n",
      "2024-04-04 14:38:18,410 INFO sqlalchemy.engine.Engine BEGIN (implicit)\n",
      "2024-04-04 14:38:18,411 INFO sqlalchemy.engine.Engine SELECT `Availability`.`StationId`, `Availability`.`Status`, `Availability`.`MechanicalBikesAvailable`, `Availability`.`ElectricBikesAvailable`, `Availability`.`StandsAvailable`, `Availability`.`LastUpdated` \n",
      "FROM `Availability` \n",
      "WHERE `Availability`.`StationId` = %(StationId_1)s AND DATE(`Availability`.`LastUpdated`) >= %(DATE_1)s\n",
      "2024-04-04 14:38:18,412 INFO sqlalchemy.engine.Engine [cached since 290.6s ago] {'StationId_1': 44, 'DATE_1': datetime.datetime(2024, 3, 5, 14, 38, 18, 316844)}\n"
     ]
    },
    {
     "name": "stderr",
     "output_type": "stream",
     "text": [
      "/Users/aprilpolubiec/anaconda3/envs/dublin-bikes/lib/python3.11/site-packages/sklearn/base.py:1474: DataConversionWarning: A column-vector y was passed when a 1d array was expected. Please change the shape of y to (n_samples,), for example using ravel().\n",
      "  return fit_method(estimator, *args, **kwargs)\n"
     ]
    },
    {
     "name": "stdout",
     "output_type": "stream",
     "text": [
      "2024-04-04 14:38:18,536 INFO sqlalchemy.engine.Engine ROLLBACK\n",
      "2024-04-04 14:38:18,808 INFO sqlalchemy.engine.Engine BEGIN (implicit)\n",
      "2024-04-04 14:38:18,809 INFO sqlalchemy.engine.Engine SELECT `Availability`.`StationId`, `Availability`.`Status`, `Availability`.`MechanicalBikesAvailable`, `Availability`.`ElectricBikesAvailable`, `Availability`.`StandsAvailable`, `Availability`.`LastUpdated` \n",
      "FROM `Availability` \n",
      "WHERE `Availability`.`StationId` = %(StationId_1)s AND DATE(`Availability`.`LastUpdated`) >= %(DATE_1)s\n",
      "2024-04-04 14:38:18,809 INFO sqlalchemy.engine.Engine [cached since 291s ago] {'StationId_1': 45, 'DATE_1': datetime.datetime(2024, 3, 5, 14, 38, 18, 715258)}\n"
     ]
    },
    {
     "name": "stderr",
     "output_type": "stream",
     "text": [
      "/Users/aprilpolubiec/anaconda3/envs/dublin-bikes/lib/python3.11/site-packages/sklearn/base.py:1474: DataConversionWarning: A column-vector y was passed when a 1d array was expected. Please change the shape of y to (n_samples,), for example using ravel().\n",
      "  return fit_method(estimator, *args, **kwargs)\n"
     ]
    },
    {
     "name": "stdout",
     "output_type": "stream",
     "text": [
      "2024-04-04 14:38:18,929 INFO sqlalchemy.engine.Engine ROLLBACK\n",
      "2024-04-04 14:38:19,194 INFO sqlalchemy.engine.Engine BEGIN (implicit)\n",
      "2024-04-04 14:38:19,195 INFO sqlalchemy.engine.Engine SELECT `Availability`.`StationId`, `Availability`.`Status`, `Availability`.`MechanicalBikesAvailable`, `Availability`.`ElectricBikesAvailable`, `Availability`.`StandsAvailable`, `Availability`.`LastUpdated` \n",
      "FROM `Availability` \n",
      "WHERE `Availability`.`StationId` = %(StationId_1)s AND DATE(`Availability`.`LastUpdated`) >= %(DATE_1)s\n",
      "2024-04-04 14:38:19,195 INFO sqlalchemy.engine.Engine [cached since 291.4s ago] {'StationId_1': 47, 'DATE_1': datetime.datetime(2024, 3, 5, 14, 38, 19, 101460)}\n"
     ]
    },
    {
     "name": "stderr",
     "output_type": "stream",
     "text": [
      "/Users/aprilpolubiec/anaconda3/envs/dublin-bikes/lib/python3.11/site-packages/sklearn/base.py:1474: DataConversionWarning: A column-vector y was passed when a 1d array was expected. Please change the shape of y to (n_samples,), for example using ravel().\n",
      "  return fit_method(estimator, *args, **kwargs)\n"
     ]
    },
    {
     "name": "stdout",
     "output_type": "stream",
     "text": [
      "2024-04-04 14:38:19,359 INFO sqlalchemy.engine.Engine ROLLBACK\n",
      "2024-04-04 14:38:19,623 INFO sqlalchemy.engine.Engine BEGIN (implicit)\n",
      "2024-04-04 14:38:19,624 INFO sqlalchemy.engine.Engine SELECT `Availability`.`StationId`, `Availability`.`Status`, `Availability`.`MechanicalBikesAvailable`, `Availability`.`ElectricBikesAvailable`, `Availability`.`StandsAvailable`, `Availability`.`LastUpdated` \n",
      "FROM `Availability` \n",
      "WHERE `Availability`.`StationId` = %(StationId_1)s AND DATE(`Availability`.`LastUpdated`) >= %(DATE_1)s\n",
      "2024-04-04 14:38:19,624 INFO sqlalchemy.engine.Engine [cached since 291.9s ago] {'StationId_1': 48, 'DATE_1': datetime.datetime(2024, 3, 5, 14, 38, 19, 531794)}\n"
     ]
    },
    {
     "name": "stderr",
     "output_type": "stream",
     "text": [
      "/Users/aprilpolubiec/anaconda3/envs/dublin-bikes/lib/python3.11/site-packages/sklearn/base.py:1474: DataConversionWarning: A column-vector y was passed when a 1d array was expected. Please change the shape of y to (n_samples,), for example using ravel().\n",
      "  return fit_method(estimator, *args, **kwargs)\n"
     ]
    },
    {
     "name": "stdout",
     "output_type": "stream",
     "text": [
      "2024-04-04 14:38:19,741 INFO sqlalchemy.engine.Engine ROLLBACK\n",
      "2024-04-04 14:38:20,009 INFO sqlalchemy.engine.Engine BEGIN (implicit)\n",
      "2024-04-04 14:38:20,010 INFO sqlalchemy.engine.Engine SELECT `Availability`.`StationId`, `Availability`.`Status`, `Availability`.`MechanicalBikesAvailable`, `Availability`.`ElectricBikesAvailable`, `Availability`.`StandsAvailable`, `Availability`.`LastUpdated` \n",
      "FROM `Availability` \n",
      "WHERE `Availability`.`StationId` = %(StationId_1)s AND DATE(`Availability`.`LastUpdated`) >= %(DATE_1)s\n",
      "2024-04-04 14:38:20,011 INFO sqlalchemy.engine.Engine [cached since 292.2s ago] {'StationId_1': 49, 'DATE_1': datetime.datetime(2024, 3, 5, 14, 38, 19, 917316)}\n"
     ]
    },
    {
     "name": "stderr",
     "output_type": "stream",
     "text": [
      "/Users/aprilpolubiec/anaconda3/envs/dublin-bikes/lib/python3.11/site-packages/sklearn/base.py:1474: DataConversionWarning: A column-vector y was passed when a 1d array was expected. Please change the shape of y to (n_samples,), for example using ravel().\n",
      "  return fit_method(estimator, *args, **kwargs)\n"
     ]
    },
    {
     "name": "stdout",
     "output_type": "stream",
     "text": [
      "2024-04-04 14:38:20,132 INFO sqlalchemy.engine.Engine ROLLBACK\n",
      "2024-04-04 14:38:20,396 INFO sqlalchemy.engine.Engine BEGIN (implicit)\n",
      "2024-04-04 14:38:20,396 INFO sqlalchemy.engine.Engine SELECT `Availability`.`StationId`, `Availability`.`Status`, `Availability`.`MechanicalBikesAvailable`, `Availability`.`ElectricBikesAvailable`, `Availability`.`StandsAvailable`, `Availability`.`LastUpdated` \n",
      "FROM `Availability` \n",
      "WHERE `Availability`.`StationId` = %(StationId_1)s AND DATE(`Availability`.`LastUpdated`) >= %(DATE_1)s\n",
      "2024-04-04 14:38:20,397 INFO sqlalchemy.engine.Engine [cached since 292.6s ago] {'StationId_1': 50, 'DATE_1': datetime.datetime(2024, 3, 5, 14, 38, 20, 303573)}\n"
     ]
    },
    {
     "name": "stderr",
     "output_type": "stream",
     "text": [
      "/Users/aprilpolubiec/anaconda3/envs/dublin-bikes/lib/python3.11/site-packages/sklearn/base.py:1474: DataConversionWarning: A column-vector y was passed when a 1d array was expected. Please change the shape of y to (n_samples,), for example using ravel().\n",
      "  return fit_method(estimator, *args, **kwargs)\n"
     ]
    },
    {
     "name": "stdout",
     "output_type": "stream",
     "text": [
      "2024-04-04 14:38:20,517 INFO sqlalchemy.engine.Engine ROLLBACK\n",
      "2024-04-04 14:38:20,788 INFO sqlalchemy.engine.Engine BEGIN (implicit)\n",
      "2024-04-04 14:38:20,788 INFO sqlalchemy.engine.Engine SELECT `Availability`.`StationId`, `Availability`.`Status`, `Availability`.`MechanicalBikesAvailable`, `Availability`.`ElectricBikesAvailable`, `Availability`.`StandsAvailable`, `Availability`.`LastUpdated` \n",
      "FROM `Availability` \n",
      "WHERE `Availability`.`StationId` = %(StationId_1)s AND DATE(`Availability`.`LastUpdated`) >= %(DATE_1)s\n",
      "2024-04-04 14:38:20,789 INFO sqlalchemy.engine.Engine [cached since 293s ago] {'StationId_1': 51, 'DATE_1': datetime.datetime(2024, 3, 5, 14, 38, 20, 695002)}\n"
     ]
    },
    {
     "name": "stderr",
     "output_type": "stream",
     "text": [
      "/Users/aprilpolubiec/anaconda3/envs/dublin-bikes/lib/python3.11/site-packages/sklearn/base.py:1474: DataConversionWarning: A column-vector y was passed when a 1d array was expected. Please change the shape of y to (n_samples,), for example using ravel().\n",
      "  return fit_method(estimator, *args, **kwargs)\n"
     ]
    },
    {
     "name": "stdout",
     "output_type": "stream",
     "text": [
      "2024-04-04 14:38:20,909 INFO sqlalchemy.engine.Engine ROLLBACK\n",
      "2024-04-04 14:38:21,173 INFO sqlalchemy.engine.Engine BEGIN (implicit)\n",
      "2024-04-04 14:38:21,173 INFO sqlalchemy.engine.Engine SELECT `Availability`.`StationId`, `Availability`.`Status`, `Availability`.`MechanicalBikesAvailable`, `Availability`.`ElectricBikesAvailable`, `Availability`.`StandsAvailable`, `Availability`.`LastUpdated` \n",
      "FROM `Availability` \n",
      "WHERE `Availability`.`StationId` = %(StationId_1)s AND DATE(`Availability`.`LastUpdated`) >= %(DATE_1)s\n",
      "2024-04-04 14:38:21,173 INFO sqlalchemy.engine.Engine [cached since 293.4s ago] {'StationId_1': 52, 'DATE_1': datetime.datetime(2024, 3, 5, 14, 38, 21, 80850)}\n"
     ]
    },
    {
     "name": "stderr",
     "output_type": "stream",
     "text": [
      "/Users/aprilpolubiec/anaconda3/envs/dublin-bikes/lib/python3.11/site-packages/sklearn/base.py:1474: DataConversionWarning: A column-vector y was passed when a 1d array was expected. Please change the shape of y to (n_samples,), for example using ravel().\n",
      "  return fit_method(estimator, *args, **kwargs)\n"
     ]
    },
    {
     "name": "stdout",
     "output_type": "stream",
     "text": [
      "2024-04-04 14:38:21,291 INFO sqlalchemy.engine.Engine ROLLBACK\n",
      "2024-04-04 14:38:21,559 INFO sqlalchemy.engine.Engine BEGIN (implicit)\n",
      "2024-04-04 14:38:21,560 INFO sqlalchemy.engine.Engine SELECT `Availability`.`StationId`, `Availability`.`Status`, `Availability`.`MechanicalBikesAvailable`, `Availability`.`ElectricBikesAvailable`, `Availability`.`StandsAvailable`, `Availability`.`LastUpdated` \n",
      "FROM `Availability` \n",
      "WHERE `Availability`.`StationId` = %(StationId_1)s AND DATE(`Availability`.`LastUpdated`) >= %(DATE_1)s\n",
      "2024-04-04 14:38:21,560 INFO sqlalchemy.engine.Engine [cached since 293.8s ago] {'StationId_1': 53, 'DATE_1': datetime.datetime(2024, 3, 5, 14, 38, 21, 465035)}\n"
     ]
    },
    {
     "name": "stderr",
     "output_type": "stream",
     "text": [
      "/Users/aprilpolubiec/anaconda3/envs/dublin-bikes/lib/python3.11/site-packages/sklearn/base.py:1474: DataConversionWarning: A column-vector y was passed when a 1d array was expected. Please change the shape of y to (n_samples,), for example using ravel().\n",
      "  return fit_method(estimator, *args, **kwargs)\n"
     ]
    },
    {
     "name": "stdout",
     "output_type": "stream",
     "text": [
      "2024-04-04 14:38:21,682 INFO sqlalchemy.engine.Engine ROLLBACK\n",
      "2024-04-04 14:38:21,946 INFO sqlalchemy.engine.Engine BEGIN (implicit)\n",
      "2024-04-04 14:38:21,947 INFO sqlalchemy.engine.Engine SELECT `Availability`.`StationId`, `Availability`.`Status`, `Availability`.`MechanicalBikesAvailable`, `Availability`.`ElectricBikesAvailable`, `Availability`.`StandsAvailable`, `Availability`.`LastUpdated` \n",
      "FROM `Availability` \n",
      "WHERE `Availability`.`StationId` = %(StationId_1)s AND DATE(`Availability`.`LastUpdated`) >= %(DATE_1)s\n",
      "2024-04-04 14:38:21,947 INFO sqlalchemy.engine.Engine [cached since 294.2s ago] {'StationId_1': 54, 'DATE_1': datetime.datetime(2024, 3, 5, 14, 38, 21, 854096)}\n"
     ]
    },
    {
     "name": "stderr",
     "output_type": "stream",
     "text": [
      "/Users/aprilpolubiec/anaconda3/envs/dublin-bikes/lib/python3.11/site-packages/sklearn/base.py:1474: DataConversionWarning: A column-vector y was passed when a 1d array was expected. Please change the shape of y to (n_samples,), for example using ravel().\n",
      "  return fit_method(estimator, *args, **kwargs)\n"
     ]
    },
    {
     "name": "stdout",
     "output_type": "stream",
     "text": [
      "2024-04-04 14:38:22,062 INFO sqlalchemy.engine.Engine ROLLBACK\n",
      "2024-04-04 14:38:22,331 INFO sqlalchemy.engine.Engine BEGIN (implicit)\n",
      "2024-04-04 14:38:22,331 INFO sqlalchemy.engine.Engine SELECT `Availability`.`StationId`, `Availability`.`Status`, `Availability`.`MechanicalBikesAvailable`, `Availability`.`ElectricBikesAvailable`, `Availability`.`StandsAvailable`, `Availability`.`LastUpdated` \n",
      "FROM `Availability` \n",
      "WHERE `Availability`.`StationId` = %(StationId_1)s AND DATE(`Availability`.`LastUpdated`) >= %(DATE_1)s\n",
      "2024-04-04 14:38:22,332 INFO sqlalchemy.engine.Engine [cached since 294.6s ago] {'StationId_1': 55, 'DATE_1': datetime.datetime(2024, 3, 5, 14, 38, 22, 238537)}\n"
     ]
    },
    {
     "name": "stderr",
     "output_type": "stream",
     "text": [
      "/Users/aprilpolubiec/anaconda3/envs/dublin-bikes/lib/python3.11/site-packages/sklearn/base.py:1474: DataConversionWarning: A column-vector y was passed when a 1d array was expected. Please change the shape of y to (n_samples,), for example using ravel().\n",
      "  return fit_method(estimator, *args, **kwargs)\n"
     ]
    },
    {
     "name": "stdout",
     "output_type": "stream",
     "text": [
      "2024-04-04 14:38:22,455 INFO sqlalchemy.engine.Engine ROLLBACK\n",
      "2024-04-04 14:38:22,730 INFO sqlalchemy.engine.Engine BEGIN (implicit)\n",
      "2024-04-04 14:38:22,730 INFO sqlalchemy.engine.Engine SELECT `Availability`.`StationId`, `Availability`.`Status`, `Availability`.`MechanicalBikesAvailable`, `Availability`.`ElectricBikesAvailable`, `Availability`.`StandsAvailable`, `Availability`.`LastUpdated` \n",
      "FROM `Availability` \n",
      "WHERE `Availability`.`StationId` = %(StationId_1)s AND DATE(`Availability`.`LastUpdated`) >= %(DATE_1)s\n",
      "2024-04-04 14:38:22,731 INFO sqlalchemy.engine.Engine [cached since 295s ago] {'StationId_1': 56, 'DATE_1': datetime.datetime(2024, 3, 5, 14, 38, 22, 636599)}\n"
     ]
    },
    {
     "name": "stderr",
     "output_type": "stream",
     "text": [
      "/Users/aprilpolubiec/anaconda3/envs/dublin-bikes/lib/python3.11/site-packages/sklearn/base.py:1474: DataConversionWarning: A column-vector y was passed when a 1d array was expected. Please change the shape of y to (n_samples,), for example using ravel().\n",
      "  return fit_method(estimator, *args, **kwargs)\n"
     ]
    },
    {
     "name": "stdout",
     "output_type": "stream",
     "text": [
      "2024-04-04 14:38:22,852 INFO sqlalchemy.engine.Engine ROLLBACK\n",
      "2024-04-04 14:38:23,122 INFO sqlalchemy.engine.Engine BEGIN (implicit)\n",
      "2024-04-04 14:38:23,122 INFO sqlalchemy.engine.Engine SELECT `Availability`.`StationId`, `Availability`.`Status`, `Availability`.`MechanicalBikesAvailable`, `Availability`.`ElectricBikesAvailable`, `Availability`.`StandsAvailable`, `Availability`.`LastUpdated` \n",
      "FROM `Availability` \n",
      "WHERE `Availability`.`StationId` = %(StationId_1)s AND DATE(`Availability`.`LastUpdated`) >= %(DATE_1)s\n",
      "2024-04-04 14:38:23,123 INFO sqlalchemy.engine.Engine [cached since 295.4s ago] {'StationId_1': 57, 'DATE_1': datetime.datetime(2024, 3, 5, 14, 38, 23, 29530)}\n"
     ]
    },
    {
     "name": "stderr",
     "output_type": "stream",
     "text": [
      "/Users/aprilpolubiec/anaconda3/envs/dublin-bikes/lib/python3.11/site-packages/sklearn/base.py:1474: DataConversionWarning: A column-vector y was passed when a 1d array was expected. Please change the shape of y to (n_samples,), for example using ravel().\n",
      "  return fit_method(estimator, *args, **kwargs)\n"
     ]
    },
    {
     "name": "stdout",
     "output_type": "stream",
     "text": [
      "2024-04-04 14:38:23,245 INFO sqlalchemy.engine.Engine ROLLBACK\n",
      "2024-04-04 14:38:23,509 INFO sqlalchemy.engine.Engine BEGIN (implicit)\n",
      "2024-04-04 14:38:23,510 INFO sqlalchemy.engine.Engine SELECT `Availability`.`StationId`, `Availability`.`Status`, `Availability`.`MechanicalBikesAvailable`, `Availability`.`ElectricBikesAvailable`, `Availability`.`StandsAvailable`, `Availability`.`LastUpdated` \n",
      "FROM `Availability` \n",
      "WHERE `Availability`.`StationId` = %(StationId_1)s AND DATE(`Availability`.`LastUpdated`) >= %(DATE_1)s\n",
      "2024-04-04 14:38:23,510 INFO sqlalchemy.engine.Engine [cached since 295.7s ago] {'StationId_1': 58, 'DATE_1': datetime.datetime(2024, 3, 5, 14, 38, 23, 416365)}\n"
     ]
    },
    {
     "name": "stderr",
     "output_type": "stream",
     "text": [
      "/Users/aprilpolubiec/anaconda3/envs/dublin-bikes/lib/python3.11/site-packages/sklearn/base.py:1474: DataConversionWarning: A column-vector y was passed when a 1d array was expected. Please change the shape of y to (n_samples,), for example using ravel().\n",
      "  return fit_method(estimator, *args, **kwargs)\n"
     ]
    },
    {
     "name": "stdout",
     "output_type": "stream",
     "text": [
      "2024-04-04 14:38:23,633 INFO sqlalchemy.engine.Engine ROLLBACK\n",
      "2024-04-04 14:38:23,912 INFO sqlalchemy.engine.Engine BEGIN (implicit)\n",
      "2024-04-04 14:38:23,912 INFO sqlalchemy.engine.Engine SELECT `Availability`.`StationId`, `Availability`.`Status`, `Availability`.`MechanicalBikesAvailable`, `Availability`.`ElectricBikesAvailable`, `Availability`.`StandsAvailable`, `Availability`.`LastUpdated` \n",
      "FROM `Availability` \n",
      "WHERE `Availability`.`StationId` = %(StationId_1)s AND DATE(`Availability`.`LastUpdated`) >= %(DATE_1)s\n",
      "2024-04-04 14:38:23,913 INFO sqlalchemy.engine.Engine [cached since 296.1s ago] {'StationId_1': 59, 'DATE_1': datetime.datetime(2024, 3, 5, 14, 38, 23, 819692)}\n"
     ]
    },
    {
     "name": "stderr",
     "output_type": "stream",
     "text": [
      "/Users/aprilpolubiec/anaconda3/envs/dublin-bikes/lib/python3.11/site-packages/sklearn/base.py:1474: DataConversionWarning: A column-vector y was passed when a 1d array was expected. Please change the shape of y to (n_samples,), for example using ravel().\n",
      "  return fit_method(estimator, *args, **kwargs)\n"
     ]
    },
    {
     "name": "stdout",
     "output_type": "stream",
     "text": [
      "2024-04-04 14:38:24,033 INFO sqlalchemy.engine.Engine ROLLBACK\n",
      "2024-04-04 14:38:24,297 INFO sqlalchemy.engine.Engine BEGIN (implicit)\n",
      "2024-04-04 14:38:24,297 INFO sqlalchemy.engine.Engine SELECT `Availability`.`StationId`, `Availability`.`Status`, `Availability`.`MechanicalBikesAvailable`, `Availability`.`ElectricBikesAvailable`, `Availability`.`StandsAvailable`, `Availability`.`LastUpdated` \n",
      "FROM `Availability` \n",
      "WHERE `Availability`.`StationId` = %(StationId_1)s AND DATE(`Availability`.`LastUpdated`) >= %(DATE_1)s\n",
      "2024-04-04 14:38:24,297 INFO sqlalchemy.engine.Engine [cached since 296.5s ago] {'StationId_1': 60, 'DATE_1': datetime.datetime(2024, 3, 5, 14, 38, 24, 203817)}\n"
     ]
    },
    {
     "name": "stderr",
     "output_type": "stream",
     "text": [
      "/Users/aprilpolubiec/anaconda3/envs/dublin-bikes/lib/python3.11/site-packages/sklearn/base.py:1474: DataConversionWarning: A column-vector y was passed when a 1d array was expected. Please change the shape of y to (n_samples,), for example using ravel().\n",
      "  return fit_method(estimator, *args, **kwargs)\n"
     ]
    },
    {
     "name": "stdout",
     "output_type": "stream",
     "text": [
      "2024-04-04 14:38:24,455 INFO sqlalchemy.engine.Engine ROLLBACK\n",
      "2024-04-04 14:38:24,724 INFO sqlalchemy.engine.Engine BEGIN (implicit)\n",
      "2024-04-04 14:38:24,725 INFO sqlalchemy.engine.Engine SELECT `Availability`.`StationId`, `Availability`.`Status`, `Availability`.`MechanicalBikesAvailable`, `Availability`.`ElectricBikesAvailable`, `Availability`.`StandsAvailable`, `Availability`.`LastUpdated` \n",
      "FROM `Availability` \n",
      "WHERE `Availability`.`StationId` = %(StationId_1)s AND DATE(`Availability`.`LastUpdated`) >= %(DATE_1)s\n",
      "2024-04-04 14:38:24,725 INFO sqlalchemy.engine.Engine [cached since 297s ago] {'StationId_1': 61, 'DATE_1': datetime.datetime(2024, 3, 5, 14, 38, 24, 631848)}\n"
     ]
    },
    {
     "name": "stderr",
     "output_type": "stream",
     "text": [
      "/Users/aprilpolubiec/anaconda3/envs/dublin-bikes/lib/python3.11/site-packages/sklearn/base.py:1474: DataConversionWarning: A column-vector y was passed when a 1d array was expected. Please change the shape of y to (n_samples,), for example using ravel().\n",
      "  return fit_method(estimator, *args, **kwargs)\n"
     ]
    },
    {
     "name": "stdout",
     "output_type": "stream",
     "text": [
      "2024-04-04 14:38:24,843 INFO sqlalchemy.engine.Engine ROLLBACK\n",
      "2024-04-04 14:38:25,112 INFO sqlalchemy.engine.Engine BEGIN (implicit)\n",
      "2024-04-04 14:38:25,113 INFO sqlalchemy.engine.Engine SELECT `Availability`.`StationId`, `Availability`.`Status`, `Availability`.`MechanicalBikesAvailable`, `Availability`.`ElectricBikesAvailable`, `Availability`.`StandsAvailable`, `Availability`.`LastUpdated` \n",
      "FROM `Availability` \n",
      "WHERE `Availability`.`StationId` = %(StationId_1)s AND DATE(`Availability`.`LastUpdated`) >= %(DATE_1)s\n",
      "2024-04-04 14:38:25,113 INFO sqlalchemy.engine.Engine [cached since 297.3s ago] {'StationId_1': 62, 'DATE_1': datetime.datetime(2024, 3, 5, 14, 38, 25, 11858)}\n"
     ]
    },
    {
     "name": "stderr",
     "output_type": "stream",
     "text": [
      "/Users/aprilpolubiec/anaconda3/envs/dublin-bikes/lib/python3.11/site-packages/sklearn/base.py:1474: DataConversionWarning: A column-vector y was passed when a 1d array was expected. Please change the shape of y to (n_samples,), for example using ravel().\n",
      "  return fit_method(estimator, *args, **kwargs)\n"
     ]
    },
    {
     "name": "stdout",
     "output_type": "stream",
     "text": [
      "2024-04-04 14:38:25,236 INFO sqlalchemy.engine.Engine ROLLBACK\n",
      "2024-04-04 14:38:25,504 INFO sqlalchemy.engine.Engine BEGIN (implicit)\n",
      "2024-04-04 14:38:25,505 INFO sqlalchemy.engine.Engine SELECT `Availability`.`StationId`, `Availability`.`Status`, `Availability`.`MechanicalBikesAvailable`, `Availability`.`ElectricBikesAvailable`, `Availability`.`StandsAvailable`, `Availability`.`LastUpdated` \n",
      "FROM `Availability` \n",
      "WHERE `Availability`.`StationId` = %(StationId_1)s AND DATE(`Availability`.`LastUpdated`) >= %(DATE_1)s\n",
      "2024-04-04 14:38:25,505 INFO sqlalchemy.engine.Engine [cached since 297.7s ago] {'StationId_1': 63, 'DATE_1': datetime.datetime(2024, 3, 5, 14, 38, 25, 410655)}\n"
     ]
    },
    {
     "name": "stderr",
     "output_type": "stream",
     "text": [
      "/Users/aprilpolubiec/anaconda3/envs/dublin-bikes/lib/python3.11/site-packages/sklearn/base.py:1474: DataConversionWarning: A column-vector y was passed when a 1d array was expected. Please change the shape of y to (n_samples,), for example using ravel().\n",
      "  return fit_method(estimator, *args, **kwargs)\n"
     ]
    },
    {
     "name": "stdout",
     "output_type": "stream",
     "text": [
      "2024-04-04 14:38:25,641 INFO sqlalchemy.engine.Engine ROLLBACK\n",
      "2024-04-04 14:38:25,913 INFO sqlalchemy.engine.Engine BEGIN (implicit)\n",
      "2024-04-04 14:38:25,913 INFO sqlalchemy.engine.Engine SELECT `Availability`.`StationId`, `Availability`.`Status`, `Availability`.`MechanicalBikesAvailable`, `Availability`.`ElectricBikesAvailable`, `Availability`.`StandsAvailable`, `Availability`.`LastUpdated` \n",
      "FROM `Availability` \n",
      "WHERE `Availability`.`StationId` = %(StationId_1)s AND DATE(`Availability`.`LastUpdated`) >= %(DATE_1)s\n",
      "2024-04-04 14:38:25,914 INFO sqlalchemy.engine.Engine [cached since 298.1s ago] {'StationId_1': 64, 'DATE_1': datetime.datetime(2024, 3, 5, 14, 38, 25, 820709)}\n"
     ]
    },
    {
     "name": "stderr",
     "output_type": "stream",
     "text": [
      "/Users/aprilpolubiec/anaconda3/envs/dublin-bikes/lib/python3.11/site-packages/sklearn/base.py:1474: DataConversionWarning: A column-vector y was passed when a 1d array was expected. Please change the shape of y to (n_samples,), for example using ravel().\n",
      "  return fit_method(estimator, *args, **kwargs)\n"
     ]
    },
    {
     "name": "stdout",
     "output_type": "stream",
     "text": [
      "2024-04-04 14:38:26,038 INFO sqlalchemy.engine.Engine ROLLBACK\n",
      "2024-04-04 14:38:26,330 INFO sqlalchemy.engine.Engine BEGIN (implicit)\n",
      "2024-04-04 14:38:26,331 INFO sqlalchemy.engine.Engine SELECT `Availability`.`StationId`, `Availability`.`Status`, `Availability`.`MechanicalBikesAvailable`, `Availability`.`ElectricBikesAvailable`, `Availability`.`StandsAvailable`, `Availability`.`LastUpdated` \n",
      "FROM `Availability` \n",
      "WHERE `Availability`.`StationId` = %(StationId_1)s AND DATE(`Availability`.`LastUpdated`) >= %(DATE_1)s\n",
      "2024-04-04 14:38:26,331 INFO sqlalchemy.engine.Engine [cached since 298.6s ago] {'StationId_1': 65, 'DATE_1': datetime.datetime(2024, 3, 5, 14, 38, 26, 235473)}\n"
     ]
    },
    {
     "name": "stderr",
     "output_type": "stream",
     "text": [
      "/Users/aprilpolubiec/anaconda3/envs/dublin-bikes/lib/python3.11/site-packages/sklearn/base.py:1474: DataConversionWarning: A column-vector y was passed when a 1d array was expected. Please change the shape of y to (n_samples,), for example using ravel().\n",
      "  return fit_method(estimator, *args, **kwargs)\n"
     ]
    },
    {
     "name": "stdout",
     "output_type": "stream",
     "text": [
      "2024-04-04 14:38:26,452 INFO sqlalchemy.engine.Engine ROLLBACK\n",
      "2024-04-04 14:38:26,716 INFO sqlalchemy.engine.Engine BEGIN (implicit)\n",
      "2024-04-04 14:38:26,716 INFO sqlalchemy.engine.Engine SELECT `Availability`.`StationId`, `Availability`.`Status`, `Availability`.`MechanicalBikesAvailable`, `Availability`.`ElectricBikesAvailable`, `Availability`.`StandsAvailable`, `Availability`.`LastUpdated` \n",
      "FROM `Availability` \n",
      "WHERE `Availability`.`StationId` = %(StationId_1)s AND DATE(`Availability`.`LastUpdated`) >= %(DATE_1)s\n",
      "2024-04-04 14:38:26,717 INFO sqlalchemy.engine.Engine [cached since 299s ago] {'StationId_1': 66, 'DATE_1': datetime.datetime(2024, 3, 5, 14, 38, 26, 623459)}\n"
     ]
    },
    {
     "name": "stderr",
     "output_type": "stream",
     "text": [
      "/Users/aprilpolubiec/anaconda3/envs/dublin-bikes/lib/python3.11/site-packages/sklearn/base.py:1474: DataConversionWarning: A column-vector y was passed when a 1d array was expected. Please change the shape of y to (n_samples,), for example using ravel().\n",
      "  return fit_method(estimator, *args, **kwargs)\n"
     ]
    },
    {
     "name": "stdout",
     "output_type": "stream",
     "text": [
      "2024-04-04 14:38:26,840 INFO sqlalchemy.engine.Engine ROLLBACK\n",
      "2024-04-04 14:38:27,112 INFO sqlalchemy.engine.Engine BEGIN (implicit)\n",
      "2024-04-04 14:38:27,113 INFO sqlalchemy.engine.Engine SELECT `Availability`.`StationId`, `Availability`.`Status`, `Availability`.`MechanicalBikesAvailable`, `Availability`.`ElectricBikesAvailable`, `Availability`.`StandsAvailable`, `Availability`.`LastUpdated` \n",
      "FROM `Availability` \n",
      "WHERE `Availability`.`StationId` = %(StationId_1)s AND DATE(`Availability`.`LastUpdated`) >= %(DATE_1)s\n",
      "2024-04-04 14:38:27,113 INFO sqlalchemy.engine.Engine [cached since 299.3s ago] {'StationId_1': 67, 'DATE_1': datetime.datetime(2024, 3, 5, 14, 38, 27, 18094)}\n"
     ]
    },
    {
     "name": "stderr",
     "output_type": "stream",
     "text": [
      "/Users/aprilpolubiec/anaconda3/envs/dublin-bikes/lib/python3.11/site-packages/sklearn/base.py:1474: DataConversionWarning: A column-vector y was passed when a 1d array was expected. Please change the shape of y to (n_samples,), for example using ravel().\n",
      "  return fit_method(estimator, *args, **kwargs)\n"
     ]
    },
    {
     "name": "stdout",
     "output_type": "stream",
     "text": [
      "2024-04-04 14:38:27,275 INFO sqlalchemy.engine.Engine ROLLBACK\n",
      "2024-04-04 14:38:27,545 INFO sqlalchemy.engine.Engine BEGIN (implicit)\n",
      "2024-04-04 14:38:27,546 INFO sqlalchemy.engine.Engine SELECT `Availability`.`StationId`, `Availability`.`Status`, `Availability`.`MechanicalBikesAvailable`, `Availability`.`ElectricBikesAvailable`, `Availability`.`StandsAvailable`, `Availability`.`LastUpdated` \n",
      "FROM `Availability` \n",
      "WHERE `Availability`.`StationId` = %(StationId_1)s AND DATE(`Availability`.`LastUpdated`) >= %(DATE_1)s\n",
      "2024-04-04 14:38:27,546 INFO sqlalchemy.engine.Engine [cached since 299.8s ago] {'StationId_1': 68, 'DATE_1': datetime.datetime(2024, 3, 5, 14, 38, 27, 453629)}\n"
     ]
    },
    {
     "name": "stderr",
     "output_type": "stream",
     "text": [
      "/Users/aprilpolubiec/anaconda3/envs/dublin-bikes/lib/python3.11/site-packages/sklearn/base.py:1474: DataConversionWarning: A column-vector y was passed when a 1d array was expected. Please change the shape of y to (n_samples,), for example using ravel().\n",
      "  return fit_method(estimator, *args, **kwargs)\n"
     ]
    },
    {
     "name": "stdout",
     "output_type": "stream",
     "text": [
      "2024-04-04 14:38:27,668 INFO sqlalchemy.engine.Engine ROLLBACK\n",
      "2024-04-04 14:38:27,950 INFO sqlalchemy.engine.Engine BEGIN (implicit)\n",
      "2024-04-04 14:38:27,951 INFO sqlalchemy.engine.Engine SELECT `Availability`.`StationId`, `Availability`.`Status`, `Availability`.`MechanicalBikesAvailable`, `Availability`.`ElectricBikesAvailable`, `Availability`.`StandsAvailable`, `Availability`.`LastUpdated` \n",
      "FROM `Availability` \n",
      "WHERE `Availability`.`StationId` = %(StationId_1)s AND DATE(`Availability`.`LastUpdated`) >= %(DATE_1)s\n",
      "2024-04-04 14:38:27,951 INFO sqlalchemy.engine.Engine [cached since 300.2s ago] {'StationId_1': 69, 'DATE_1': datetime.datetime(2024, 3, 5, 14, 38, 27, 857748)}\n"
     ]
    },
    {
     "name": "stderr",
     "output_type": "stream",
     "text": [
      "/Users/aprilpolubiec/anaconda3/envs/dublin-bikes/lib/python3.11/site-packages/sklearn/base.py:1474: DataConversionWarning: A column-vector y was passed when a 1d array was expected. Please change the shape of y to (n_samples,), for example using ravel().\n",
      "  return fit_method(estimator, *args, **kwargs)\n"
     ]
    },
    {
     "name": "stdout",
     "output_type": "stream",
     "text": [
      "2024-04-04 14:38:28,059 INFO sqlalchemy.engine.Engine ROLLBACK\n",
      "2024-04-04 14:38:28,330 INFO sqlalchemy.engine.Engine BEGIN (implicit)\n",
      "2024-04-04 14:38:28,330 INFO sqlalchemy.engine.Engine SELECT `Availability`.`StationId`, `Availability`.`Status`, `Availability`.`MechanicalBikesAvailable`, `Availability`.`ElectricBikesAvailable`, `Availability`.`StandsAvailable`, `Availability`.`LastUpdated` \n",
      "FROM `Availability` \n",
      "WHERE `Availability`.`StationId` = %(StationId_1)s AND DATE(`Availability`.`LastUpdated`) >= %(DATE_1)s\n",
      "2024-04-04 14:38:28,331 INFO sqlalchemy.engine.Engine [cached since 300.6s ago] {'StationId_1': 71, 'DATE_1': datetime.datetime(2024, 3, 5, 14, 38, 28, 237161)}\n"
     ]
    },
    {
     "name": "stderr",
     "output_type": "stream",
     "text": [
      "/Users/aprilpolubiec/anaconda3/envs/dublin-bikes/lib/python3.11/site-packages/sklearn/base.py:1474: DataConversionWarning: A column-vector y was passed when a 1d array was expected. Please change the shape of y to (n_samples,), for example using ravel().\n",
      "  return fit_method(estimator, *args, **kwargs)\n"
     ]
    },
    {
     "name": "stdout",
     "output_type": "stream",
     "text": [
      "2024-04-04 14:38:28,431 INFO sqlalchemy.engine.Engine ROLLBACK\n",
      "2024-04-04 14:38:28,674 INFO sqlalchemy.engine.Engine BEGIN (implicit)\n",
      "2024-04-04 14:38:28,675 INFO sqlalchemy.engine.Engine SELECT `Availability`.`StationId`, `Availability`.`Status`, `Availability`.`MechanicalBikesAvailable`, `Availability`.`ElectricBikesAvailable`, `Availability`.`StandsAvailable`, `Availability`.`LastUpdated` \n",
      "FROM `Availability` \n",
      "WHERE `Availability`.`StationId` = %(StationId_1)s AND DATE(`Availability`.`LastUpdated`) >= %(DATE_1)s\n",
      "2024-04-04 14:38:28,675 INFO sqlalchemy.engine.Engine [cached since 300.9s ago] {'StationId_1': 72, 'DATE_1': datetime.datetime(2024, 3, 5, 14, 38, 28, 582184)}\n"
     ]
    },
    {
     "name": "stderr",
     "output_type": "stream",
     "text": [
      "/Users/aprilpolubiec/anaconda3/envs/dublin-bikes/lib/python3.11/site-packages/sklearn/base.py:1474: DataConversionWarning: A column-vector y was passed when a 1d array was expected. Please change the shape of y to (n_samples,), for example using ravel().\n",
      "  return fit_method(estimator, *args, **kwargs)\n"
     ]
    },
    {
     "name": "stdout",
     "output_type": "stream",
     "text": [
      "2024-04-04 14:38:28,782 INFO sqlalchemy.engine.Engine ROLLBACK\n",
      "2024-04-04 14:38:29,021 INFO sqlalchemy.engine.Engine BEGIN (implicit)\n",
      "2024-04-04 14:38:29,021 INFO sqlalchemy.engine.Engine SELECT `Availability`.`StationId`, `Availability`.`Status`, `Availability`.`MechanicalBikesAvailable`, `Availability`.`ElectricBikesAvailable`, `Availability`.`StandsAvailable`, `Availability`.`LastUpdated` \n",
      "FROM `Availability` \n",
      "WHERE `Availability`.`StationId` = %(StationId_1)s AND DATE(`Availability`.`LastUpdated`) >= %(DATE_1)s\n",
      "2024-04-04 14:38:29,021 INFO sqlalchemy.engine.Engine [cached since 301.3s ago] {'StationId_1': 73, 'DATE_1': datetime.datetime(2024, 3, 5, 14, 38, 28, 928563)}\n"
     ]
    },
    {
     "name": "stderr",
     "output_type": "stream",
     "text": [
      "/Users/aprilpolubiec/anaconda3/envs/dublin-bikes/lib/python3.11/site-packages/sklearn/base.py:1474: DataConversionWarning: A column-vector y was passed when a 1d array was expected. Please change the shape of y to (n_samples,), for example using ravel().\n",
      "  return fit_method(estimator, *args, **kwargs)\n"
     ]
    },
    {
     "name": "stdout",
     "output_type": "stream",
     "text": [
      "2024-04-04 14:38:29,125 INFO sqlalchemy.engine.Engine ROLLBACK\n",
      "2024-04-04 14:38:29,361 INFO sqlalchemy.engine.Engine BEGIN (implicit)\n",
      "2024-04-04 14:38:29,362 INFO sqlalchemy.engine.Engine SELECT `Availability`.`StationId`, `Availability`.`Status`, `Availability`.`MechanicalBikesAvailable`, `Availability`.`ElectricBikesAvailable`, `Availability`.`StandsAvailable`, `Availability`.`LastUpdated` \n",
      "FROM `Availability` \n",
      "WHERE `Availability`.`StationId` = %(StationId_1)s AND DATE(`Availability`.`LastUpdated`) >= %(DATE_1)s\n",
      "2024-04-04 14:38:29,362 INFO sqlalchemy.engine.Engine [cached since 301.6s ago] {'StationId_1': 74, 'DATE_1': datetime.datetime(2024, 3, 5, 14, 38, 29, 268710)}\n"
     ]
    },
    {
     "name": "stderr",
     "output_type": "stream",
     "text": [
      "/Users/aprilpolubiec/anaconda3/envs/dublin-bikes/lib/python3.11/site-packages/sklearn/base.py:1474: DataConversionWarning: A column-vector y was passed when a 1d array was expected. Please change the shape of y to (n_samples,), for example using ravel().\n",
      "  return fit_method(estimator, *args, **kwargs)\n"
     ]
    },
    {
     "name": "stdout",
     "output_type": "stream",
     "text": [
      "2024-04-04 14:38:29,465 INFO sqlalchemy.engine.Engine ROLLBACK\n",
      "2024-04-04 14:38:29,709 INFO sqlalchemy.engine.Engine BEGIN (implicit)\n",
      "2024-04-04 14:38:29,710 INFO sqlalchemy.engine.Engine SELECT `Availability`.`StationId`, `Availability`.`Status`, `Availability`.`MechanicalBikesAvailable`, `Availability`.`ElectricBikesAvailable`, `Availability`.`StandsAvailable`, `Availability`.`LastUpdated` \n",
      "FROM `Availability` \n",
      "WHERE `Availability`.`StationId` = %(StationId_1)s AND DATE(`Availability`.`LastUpdated`) >= %(DATE_1)s\n",
      "2024-04-04 14:38:29,711 INFO sqlalchemy.engine.Engine [cached since 301.9s ago] {'StationId_1': 75, 'DATE_1': datetime.datetime(2024, 3, 5, 14, 38, 29, 617102)}\n"
     ]
    },
    {
     "name": "stderr",
     "output_type": "stream",
     "text": [
      "/Users/aprilpolubiec/anaconda3/envs/dublin-bikes/lib/python3.11/site-packages/sklearn/base.py:1474: DataConversionWarning: A column-vector y was passed when a 1d array was expected. Please change the shape of y to (n_samples,), for example using ravel().\n",
      "  return fit_method(estimator, *args, **kwargs)\n"
     ]
    },
    {
     "name": "stdout",
     "output_type": "stream",
     "text": [
      "2024-04-04 14:38:29,813 INFO sqlalchemy.engine.Engine ROLLBACK\n",
      "2024-04-04 14:38:30,058 INFO sqlalchemy.engine.Engine BEGIN (implicit)\n",
      "2024-04-04 14:38:30,058 INFO sqlalchemy.engine.Engine SELECT `Availability`.`StationId`, `Availability`.`Status`, `Availability`.`MechanicalBikesAvailable`, `Availability`.`ElectricBikesAvailable`, `Availability`.`StandsAvailable`, `Availability`.`LastUpdated` \n",
      "FROM `Availability` \n",
      "WHERE `Availability`.`StationId` = %(StationId_1)s AND DATE(`Availability`.`LastUpdated`) >= %(DATE_1)s\n",
      "2024-04-04 14:38:30,058 INFO sqlalchemy.engine.Engine [cached since 302.3s ago] {'StationId_1': 76, 'DATE_1': datetime.datetime(2024, 3, 5, 14, 38, 29, 965895)}\n"
     ]
    },
    {
     "name": "stderr",
     "output_type": "stream",
     "text": [
      "/Users/aprilpolubiec/anaconda3/envs/dublin-bikes/lib/python3.11/site-packages/sklearn/base.py:1474: DataConversionWarning: A column-vector y was passed when a 1d array was expected. Please change the shape of y to (n_samples,), for example using ravel().\n",
      "  return fit_method(estimator, *args, **kwargs)\n"
     ]
    },
    {
     "name": "stdout",
     "output_type": "stream",
     "text": [
      "2024-04-04 14:38:30,162 INFO sqlalchemy.engine.Engine ROLLBACK\n",
      "2024-04-04 14:38:30,404 INFO sqlalchemy.engine.Engine BEGIN (implicit)\n",
      "2024-04-04 14:38:30,404 INFO sqlalchemy.engine.Engine SELECT `Availability`.`StationId`, `Availability`.`Status`, `Availability`.`MechanicalBikesAvailable`, `Availability`.`ElectricBikesAvailable`, `Availability`.`StandsAvailable`, `Availability`.`LastUpdated` \n",
      "FROM `Availability` \n",
      "WHERE `Availability`.`StationId` = %(StationId_1)s AND DATE(`Availability`.`LastUpdated`) >= %(DATE_1)s\n",
      "2024-04-04 14:38:30,404 INFO sqlalchemy.engine.Engine [cached since 302.6s ago] {'StationId_1': 77, 'DATE_1': datetime.datetime(2024, 3, 5, 14, 38, 30, 309786)}\n"
     ]
    },
    {
     "name": "stderr",
     "output_type": "stream",
     "text": [
      "/Users/aprilpolubiec/anaconda3/envs/dublin-bikes/lib/python3.11/site-packages/sklearn/base.py:1474: DataConversionWarning: A column-vector y was passed when a 1d array was expected. Please change the shape of y to (n_samples,), for example using ravel().\n",
      "  return fit_method(estimator, *args, **kwargs)\n"
     ]
    },
    {
     "name": "stdout",
     "output_type": "stream",
     "text": [
      "2024-04-04 14:38:30,505 INFO sqlalchemy.engine.Engine ROLLBACK\n",
      "2024-04-04 14:38:30,747 INFO sqlalchemy.engine.Engine BEGIN (implicit)\n",
      "2024-04-04 14:38:30,747 INFO sqlalchemy.engine.Engine SELECT `Availability`.`StationId`, `Availability`.`Status`, `Availability`.`MechanicalBikesAvailable`, `Availability`.`ElectricBikesAvailable`, `Availability`.`StandsAvailable`, `Availability`.`LastUpdated` \n",
      "FROM `Availability` \n",
      "WHERE `Availability`.`StationId` = %(StationId_1)s AND DATE(`Availability`.`LastUpdated`) >= %(DATE_1)s\n",
      "2024-04-04 14:38:30,748 INFO sqlalchemy.engine.Engine [cached since 303s ago] {'StationId_1': 78, 'DATE_1': datetime.datetime(2024, 3, 5, 14, 38, 30, 653550)}\n"
     ]
    },
    {
     "name": "stderr",
     "output_type": "stream",
     "text": [
      "/Users/aprilpolubiec/anaconda3/envs/dublin-bikes/lib/python3.11/site-packages/sklearn/base.py:1474: DataConversionWarning: A column-vector y was passed when a 1d array was expected. Please change the shape of y to (n_samples,), for example using ravel().\n",
      "  return fit_method(estimator, *args, **kwargs)\n"
     ]
    },
    {
     "name": "stdout",
     "output_type": "stream",
     "text": [
      "2024-04-04 14:38:30,851 INFO sqlalchemy.engine.Engine ROLLBACK\n",
      "2024-04-04 14:38:31,101 INFO sqlalchemy.engine.Engine BEGIN (implicit)\n",
      "2024-04-04 14:38:31,101 INFO sqlalchemy.engine.Engine SELECT `Availability`.`StationId`, `Availability`.`Status`, `Availability`.`MechanicalBikesAvailable`, `Availability`.`ElectricBikesAvailable`, `Availability`.`StandsAvailable`, `Availability`.`LastUpdated` \n",
      "FROM `Availability` \n",
      "WHERE `Availability`.`StationId` = %(StationId_1)s AND DATE(`Availability`.`LastUpdated`) >= %(DATE_1)s\n",
      "2024-04-04 14:38:31,102 INFO sqlalchemy.engine.Engine [cached since 303.3s ago] {'StationId_1': 79, 'DATE_1': datetime.datetime(2024, 3, 5, 14, 38, 31, 8327)}\n"
     ]
    },
    {
     "name": "stderr",
     "output_type": "stream",
     "text": [
      "/Users/aprilpolubiec/anaconda3/envs/dublin-bikes/lib/python3.11/site-packages/sklearn/base.py:1474: DataConversionWarning: A column-vector y was passed when a 1d array was expected. Please change the shape of y to (n_samples,), for example using ravel().\n",
      "  return fit_method(estimator, *args, **kwargs)\n"
     ]
    },
    {
     "name": "stdout",
     "output_type": "stream",
     "text": [
      "2024-04-04 14:38:31,203 INFO sqlalchemy.engine.Engine ROLLBACK\n",
      "2024-04-04 14:38:31,442 INFO sqlalchemy.engine.Engine BEGIN (implicit)\n",
      "2024-04-04 14:38:31,442 INFO sqlalchemy.engine.Engine SELECT `Availability`.`StationId`, `Availability`.`Status`, `Availability`.`MechanicalBikesAvailable`, `Availability`.`ElectricBikesAvailable`, `Availability`.`StandsAvailable`, `Availability`.`LastUpdated` \n",
      "FROM `Availability` \n",
      "WHERE `Availability`.`StationId` = %(StationId_1)s AND DATE(`Availability`.`LastUpdated`) >= %(DATE_1)s\n",
      "2024-04-04 14:38:31,443 INFO sqlalchemy.engine.Engine [cached since 303.7s ago] {'StationId_1': 80, 'DATE_1': datetime.datetime(2024, 3, 5, 14, 38, 31, 349100)}\n"
     ]
    },
    {
     "name": "stderr",
     "output_type": "stream",
     "text": [
      "/Users/aprilpolubiec/anaconda3/envs/dublin-bikes/lib/python3.11/site-packages/sklearn/base.py:1474: DataConversionWarning: A column-vector y was passed when a 1d array was expected. Please change the shape of y to (n_samples,), for example using ravel().\n",
      "  return fit_method(estimator, *args, **kwargs)\n"
     ]
    },
    {
     "name": "stdout",
     "output_type": "stream",
     "text": [
      "2024-04-04 14:38:31,547 INFO sqlalchemy.engine.Engine ROLLBACK\n",
      "2024-04-04 14:38:31,781 INFO sqlalchemy.engine.Engine BEGIN (implicit)\n",
      "2024-04-04 14:38:31,782 INFO sqlalchemy.engine.Engine SELECT `Availability`.`StationId`, `Availability`.`Status`, `Availability`.`MechanicalBikesAvailable`, `Availability`.`ElectricBikesAvailable`, `Availability`.`StandsAvailable`, `Availability`.`LastUpdated` \n",
      "FROM `Availability` \n",
      "WHERE `Availability`.`StationId` = %(StationId_1)s AND DATE(`Availability`.`LastUpdated`) >= %(DATE_1)s\n",
      "2024-04-04 14:38:31,782 INFO sqlalchemy.engine.Engine [cached since 304s ago] {'StationId_1': 82, 'DATE_1': datetime.datetime(2024, 3, 5, 14, 38, 31, 689203)}\n"
     ]
    },
    {
     "name": "stderr",
     "output_type": "stream",
     "text": [
      "/Users/aprilpolubiec/anaconda3/envs/dublin-bikes/lib/python3.11/site-packages/sklearn/base.py:1474: DataConversionWarning: A column-vector y was passed when a 1d array was expected. Please change the shape of y to (n_samples,), for example using ravel().\n",
      "  return fit_method(estimator, *args, **kwargs)\n"
     ]
    },
    {
     "name": "stdout",
     "output_type": "stream",
     "text": [
      "2024-04-04 14:38:31,926 INFO sqlalchemy.engine.Engine ROLLBACK\n",
      "2024-04-04 14:38:32,160 INFO sqlalchemy.engine.Engine BEGIN (implicit)\n",
      "2024-04-04 14:38:32,160 INFO sqlalchemy.engine.Engine SELECT `Availability`.`StationId`, `Availability`.`Status`, `Availability`.`MechanicalBikesAvailable`, `Availability`.`ElectricBikesAvailable`, `Availability`.`StandsAvailable`, `Availability`.`LastUpdated` \n",
      "FROM `Availability` \n",
      "WHERE `Availability`.`StationId` = %(StationId_1)s AND DATE(`Availability`.`LastUpdated`) >= %(DATE_1)s\n",
      "2024-04-04 14:38:32,160 INFO sqlalchemy.engine.Engine [cached since 304.4s ago] {'StationId_1': 83, 'DATE_1': datetime.datetime(2024, 3, 5, 14, 38, 32, 67388)}\n"
     ]
    },
    {
     "name": "stderr",
     "output_type": "stream",
     "text": [
      "/Users/aprilpolubiec/anaconda3/envs/dublin-bikes/lib/python3.11/site-packages/sklearn/base.py:1474: DataConversionWarning: A column-vector y was passed when a 1d array was expected. Please change the shape of y to (n_samples,), for example using ravel().\n",
      "  return fit_method(estimator, *args, **kwargs)\n"
     ]
    },
    {
     "name": "stdout",
     "output_type": "stream",
     "text": [
      "2024-04-04 14:38:32,264 INFO sqlalchemy.engine.Engine ROLLBACK\n",
      "2024-04-04 14:38:32,499 INFO sqlalchemy.engine.Engine BEGIN (implicit)\n",
      "2024-04-04 14:38:32,499 INFO sqlalchemy.engine.Engine SELECT `Availability`.`StationId`, `Availability`.`Status`, `Availability`.`MechanicalBikesAvailable`, `Availability`.`ElectricBikesAvailable`, `Availability`.`StandsAvailable`, `Availability`.`LastUpdated` \n",
      "FROM `Availability` \n",
      "WHERE `Availability`.`StationId` = %(StationId_1)s AND DATE(`Availability`.`LastUpdated`) >= %(DATE_1)s\n",
      "2024-04-04 14:38:32,499 INFO sqlalchemy.engine.Engine [cached since 304.7s ago] {'StationId_1': 84, 'DATE_1': datetime.datetime(2024, 3, 5, 14, 38, 32, 406298)}\n"
     ]
    },
    {
     "name": "stderr",
     "output_type": "stream",
     "text": [
      "/Users/aprilpolubiec/anaconda3/envs/dublin-bikes/lib/python3.11/site-packages/sklearn/base.py:1474: DataConversionWarning: A column-vector y was passed when a 1d array was expected. Please change the shape of y to (n_samples,), for example using ravel().\n",
      "  return fit_method(estimator, *args, **kwargs)\n"
     ]
    },
    {
     "name": "stdout",
     "output_type": "stream",
     "text": [
      "2024-04-04 14:38:32,601 INFO sqlalchemy.engine.Engine ROLLBACK\n",
      "2024-04-04 14:38:32,839 INFO sqlalchemy.engine.Engine BEGIN (implicit)\n",
      "2024-04-04 14:38:32,839 INFO sqlalchemy.engine.Engine SELECT `Availability`.`StationId`, `Availability`.`Status`, `Availability`.`MechanicalBikesAvailable`, `Availability`.`ElectricBikesAvailable`, `Availability`.`StandsAvailable`, `Availability`.`LastUpdated` \n",
      "FROM `Availability` \n",
      "WHERE `Availability`.`StationId` = %(StationId_1)s AND DATE(`Availability`.`LastUpdated`) >= %(DATE_1)s\n",
      "2024-04-04 14:38:32,839 INFO sqlalchemy.engine.Engine [cached since 305.1s ago] {'StationId_1': 85, 'DATE_1': datetime.datetime(2024, 3, 5, 14, 38, 32, 746366)}\n"
     ]
    },
    {
     "name": "stderr",
     "output_type": "stream",
     "text": [
      "/Users/aprilpolubiec/anaconda3/envs/dublin-bikes/lib/python3.11/site-packages/sklearn/base.py:1474: DataConversionWarning: A column-vector y was passed when a 1d array was expected. Please change the shape of y to (n_samples,), for example using ravel().\n",
      "  return fit_method(estimator, *args, **kwargs)\n"
     ]
    },
    {
     "name": "stdout",
     "output_type": "stream",
     "text": [
      "2024-04-04 14:38:32,940 INFO sqlalchemy.engine.Engine ROLLBACK\n",
      "2024-04-04 14:38:33,180 INFO sqlalchemy.engine.Engine BEGIN (implicit)\n",
      "2024-04-04 14:38:33,180 INFO sqlalchemy.engine.Engine SELECT `Availability`.`StationId`, `Availability`.`Status`, `Availability`.`MechanicalBikesAvailable`, `Availability`.`ElectricBikesAvailable`, `Availability`.`StandsAvailable`, `Availability`.`LastUpdated` \n",
      "FROM `Availability` \n",
      "WHERE `Availability`.`StationId` = %(StationId_1)s AND DATE(`Availability`.`LastUpdated`) >= %(DATE_1)s\n",
      "2024-04-04 14:38:33,180 INFO sqlalchemy.engine.Engine [cached since 305.4s ago] {'StationId_1': 86, 'DATE_1': datetime.datetime(2024, 3, 5, 14, 38, 33, 85352)}\n"
     ]
    },
    {
     "name": "stderr",
     "output_type": "stream",
     "text": [
      "/Users/aprilpolubiec/anaconda3/envs/dublin-bikes/lib/python3.11/site-packages/sklearn/base.py:1474: DataConversionWarning: A column-vector y was passed when a 1d array was expected. Please change the shape of y to (n_samples,), for example using ravel().\n",
      "  return fit_method(estimator, *args, **kwargs)\n"
     ]
    },
    {
     "name": "stdout",
     "output_type": "stream",
     "text": [
      "2024-04-04 14:38:33,282 INFO sqlalchemy.engine.Engine ROLLBACK\n",
      "2024-04-04 14:38:33,528 INFO sqlalchemy.engine.Engine BEGIN (implicit)\n",
      "2024-04-04 14:38:33,529 INFO sqlalchemy.engine.Engine SELECT `Availability`.`StationId`, `Availability`.`Status`, `Availability`.`MechanicalBikesAvailable`, `Availability`.`ElectricBikesAvailable`, `Availability`.`StandsAvailable`, `Availability`.`LastUpdated` \n",
      "FROM `Availability` \n",
      "WHERE `Availability`.`StationId` = %(StationId_1)s AND DATE(`Availability`.`LastUpdated`) >= %(DATE_1)s\n",
      "2024-04-04 14:38:33,529 INFO sqlalchemy.engine.Engine [cached since 305.8s ago] {'StationId_1': 87, 'DATE_1': datetime.datetime(2024, 3, 5, 14, 38, 33, 433448)}\n"
     ]
    },
    {
     "name": "stderr",
     "output_type": "stream",
     "text": [
      "/Users/aprilpolubiec/anaconda3/envs/dublin-bikes/lib/python3.11/site-packages/sklearn/base.py:1474: DataConversionWarning: A column-vector y was passed when a 1d array was expected. Please change the shape of y to (n_samples,), for example using ravel().\n",
      "  return fit_method(estimator, *args, **kwargs)\n"
     ]
    },
    {
     "name": "stdout",
     "output_type": "stream",
     "text": [
      "2024-04-04 14:38:33,631 INFO sqlalchemy.engine.Engine ROLLBACK\n",
      "2024-04-04 14:38:33,873 INFO sqlalchemy.engine.Engine BEGIN (implicit)\n",
      "2024-04-04 14:38:33,873 INFO sqlalchemy.engine.Engine SELECT `Availability`.`StationId`, `Availability`.`Status`, `Availability`.`MechanicalBikesAvailable`, `Availability`.`ElectricBikesAvailable`, `Availability`.`StandsAvailable`, `Availability`.`LastUpdated` \n",
      "FROM `Availability` \n",
      "WHERE `Availability`.`StationId` = %(StationId_1)s AND DATE(`Availability`.`LastUpdated`) >= %(DATE_1)s\n",
      "2024-04-04 14:38:33,874 INFO sqlalchemy.engine.Engine [cached since 306.1s ago] {'StationId_1': 88, 'DATE_1': datetime.datetime(2024, 3, 5, 14, 38, 33, 780877)}\n"
     ]
    },
    {
     "name": "stderr",
     "output_type": "stream",
     "text": [
      "/Users/aprilpolubiec/anaconda3/envs/dublin-bikes/lib/python3.11/site-packages/sklearn/base.py:1474: DataConversionWarning: A column-vector y was passed when a 1d array was expected. Please change the shape of y to (n_samples,), for example using ravel().\n",
      "  return fit_method(estimator, *args, **kwargs)\n"
     ]
    },
    {
     "name": "stdout",
     "output_type": "stream",
     "text": [
      "2024-04-04 14:38:33,976 INFO sqlalchemy.engine.Engine ROLLBACK\n",
      "2024-04-04 14:38:34,224 INFO sqlalchemy.engine.Engine BEGIN (implicit)\n",
      "2024-04-04 14:38:34,224 INFO sqlalchemy.engine.Engine SELECT `Availability`.`StationId`, `Availability`.`Status`, `Availability`.`MechanicalBikesAvailable`, `Availability`.`ElectricBikesAvailable`, `Availability`.`StandsAvailable`, `Availability`.`LastUpdated` \n",
      "FROM `Availability` \n",
      "WHERE `Availability`.`StationId` = %(StationId_1)s AND DATE(`Availability`.`LastUpdated`) >= %(DATE_1)s\n",
      "2024-04-04 14:38:34,224 INFO sqlalchemy.engine.Engine [cached since 306.5s ago] {'StationId_1': 89, 'DATE_1': datetime.datetime(2024, 3, 5, 14, 38, 34, 126081)}\n"
     ]
    },
    {
     "name": "stderr",
     "output_type": "stream",
     "text": [
      "/Users/aprilpolubiec/anaconda3/envs/dublin-bikes/lib/python3.11/site-packages/sklearn/base.py:1474: DataConversionWarning: A column-vector y was passed when a 1d array was expected. Please change the shape of y to (n_samples,), for example using ravel().\n",
      "  return fit_method(estimator, *args, **kwargs)\n"
     ]
    },
    {
     "name": "stdout",
     "output_type": "stream",
     "text": [
      "2024-04-04 14:38:34,331 INFO sqlalchemy.engine.Engine ROLLBACK\n",
      "2024-04-04 14:38:34,572 INFO sqlalchemy.engine.Engine BEGIN (implicit)\n",
      "2024-04-04 14:38:34,573 INFO sqlalchemy.engine.Engine SELECT `Availability`.`StationId`, `Availability`.`Status`, `Availability`.`MechanicalBikesAvailable`, `Availability`.`ElectricBikesAvailable`, `Availability`.`StandsAvailable`, `Availability`.`LastUpdated` \n",
      "FROM `Availability` \n",
      "WHERE `Availability`.`StationId` = %(StationId_1)s AND DATE(`Availability`.`LastUpdated`) >= %(DATE_1)s\n",
      "2024-04-04 14:38:34,573 INFO sqlalchemy.engine.Engine [cached since 306.8s ago] {'StationId_1': 90, 'DATE_1': datetime.datetime(2024, 3, 5, 14, 38, 34, 476957)}\n"
     ]
    },
    {
     "name": "stderr",
     "output_type": "stream",
     "text": [
      "/Users/aprilpolubiec/anaconda3/envs/dublin-bikes/lib/python3.11/site-packages/sklearn/base.py:1474: DataConversionWarning: A column-vector y was passed when a 1d array was expected. Please change the shape of y to (n_samples,), for example using ravel().\n",
      "  return fit_method(estimator, *args, **kwargs)\n"
     ]
    },
    {
     "name": "stdout",
     "output_type": "stream",
     "text": [
      "2024-04-04 14:38:34,678 INFO sqlalchemy.engine.Engine ROLLBACK\n",
      "2024-04-04 14:38:34,924 INFO sqlalchemy.engine.Engine BEGIN (implicit)\n",
      "2024-04-04 14:38:34,925 INFO sqlalchemy.engine.Engine SELECT `Availability`.`StationId`, `Availability`.`Status`, `Availability`.`MechanicalBikesAvailable`, `Availability`.`ElectricBikesAvailable`, `Availability`.`StandsAvailable`, `Availability`.`LastUpdated` \n",
      "FROM `Availability` \n",
      "WHERE `Availability`.`StationId` = %(StationId_1)s AND DATE(`Availability`.`LastUpdated`) >= %(DATE_1)s\n",
      "2024-04-04 14:38:34,925 INFO sqlalchemy.engine.Engine [cached since 307.2s ago] {'StationId_1': 91, 'DATE_1': datetime.datetime(2024, 3, 5, 14, 38, 34, 832176)}\n"
     ]
    },
    {
     "name": "stderr",
     "output_type": "stream",
     "text": [
      "/Users/aprilpolubiec/anaconda3/envs/dublin-bikes/lib/python3.11/site-packages/sklearn/base.py:1474: DataConversionWarning: A column-vector y was passed when a 1d array was expected. Please change the shape of y to (n_samples,), for example using ravel().\n",
      "  return fit_method(estimator, *args, **kwargs)\n"
     ]
    },
    {
     "name": "stdout",
     "output_type": "stream",
     "text": [
      "2024-04-04 14:38:35,032 INFO sqlalchemy.engine.Engine ROLLBACK\n",
      "2024-04-04 14:38:35,274 INFO sqlalchemy.engine.Engine BEGIN (implicit)\n",
      "2024-04-04 14:38:35,275 INFO sqlalchemy.engine.Engine SELECT `Availability`.`StationId`, `Availability`.`Status`, `Availability`.`MechanicalBikesAvailable`, `Availability`.`ElectricBikesAvailable`, `Availability`.`StandsAvailable`, `Availability`.`LastUpdated` \n",
      "FROM `Availability` \n",
      "WHERE `Availability`.`StationId` = %(StationId_1)s AND DATE(`Availability`.`LastUpdated`) >= %(DATE_1)s\n",
      "2024-04-04 14:38:35,275 INFO sqlalchemy.engine.Engine [cached since 307.5s ago] {'StationId_1': 92, 'DATE_1': datetime.datetime(2024, 3, 5, 14, 38, 35, 182103)}\n"
     ]
    },
    {
     "name": "stderr",
     "output_type": "stream",
     "text": [
      "/Users/aprilpolubiec/anaconda3/envs/dublin-bikes/lib/python3.11/site-packages/sklearn/base.py:1474: DataConversionWarning: A column-vector y was passed when a 1d array was expected. Please change the shape of y to (n_samples,), for example using ravel().\n",
      "  return fit_method(estimator, *args, **kwargs)\n"
     ]
    },
    {
     "name": "stdout",
     "output_type": "stream",
     "text": [
      "2024-04-04 14:38:35,381 INFO sqlalchemy.engine.Engine ROLLBACK\n",
      "2024-04-04 14:38:35,621 INFO sqlalchemy.engine.Engine BEGIN (implicit)\n",
      "2024-04-04 14:38:35,622 INFO sqlalchemy.engine.Engine SELECT `Availability`.`StationId`, `Availability`.`Status`, `Availability`.`MechanicalBikesAvailable`, `Availability`.`ElectricBikesAvailable`, `Availability`.`StandsAvailable`, `Availability`.`LastUpdated` \n",
      "FROM `Availability` \n",
      "WHERE `Availability`.`StationId` = %(StationId_1)s AND DATE(`Availability`.`LastUpdated`) >= %(DATE_1)s\n",
      "2024-04-04 14:38:35,622 INFO sqlalchemy.engine.Engine [cached since 307.9s ago] {'StationId_1': 93, 'DATE_1': datetime.datetime(2024, 3, 5, 14, 38, 35, 529145)}\n"
     ]
    },
    {
     "name": "stderr",
     "output_type": "stream",
     "text": [
      "/Users/aprilpolubiec/anaconda3/envs/dublin-bikes/lib/python3.11/site-packages/sklearn/base.py:1474: DataConversionWarning: A column-vector y was passed when a 1d array was expected. Please change the shape of y to (n_samples,), for example using ravel().\n",
      "  return fit_method(estimator, *args, **kwargs)\n"
     ]
    },
    {
     "name": "stdout",
     "output_type": "stream",
     "text": [
      "2024-04-04 14:38:35,728 INFO sqlalchemy.engine.Engine ROLLBACK\n",
      "2024-04-04 14:38:35,975 INFO sqlalchemy.engine.Engine BEGIN (implicit)\n",
      "2024-04-04 14:38:35,976 INFO sqlalchemy.engine.Engine SELECT `Availability`.`StationId`, `Availability`.`Status`, `Availability`.`MechanicalBikesAvailable`, `Availability`.`ElectricBikesAvailable`, `Availability`.`StandsAvailable`, `Availability`.`LastUpdated` \n",
      "FROM `Availability` \n",
      "WHERE `Availability`.`StationId` = %(StationId_1)s AND DATE(`Availability`.`LastUpdated`) >= %(DATE_1)s\n",
      "2024-04-04 14:38:35,976 INFO sqlalchemy.engine.Engine [cached since 308.2s ago] {'StationId_1': 94, 'DATE_1': datetime.datetime(2024, 3, 5, 14, 38, 35, 881369)}\n"
     ]
    },
    {
     "name": "stderr",
     "output_type": "stream",
     "text": [
      "/Users/aprilpolubiec/anaconda3/envs/dublin-bikes/lib/python3.11/site-packages/sklearn/base.py:1474: DataConversionWarning: A column-vector y was passed when a 1d array was expected. Please change the shape of y to (n_samples,), for example using ravel().\n",
      "  return fit_method(estimator, *args, **kwargs)\n"
     ]
    },
    {
     "name": "stdout",
     "output_type": "stream",
     "text": [
      "2024-04-04 14:38:36,081 INFO sqlalchemy.engine.Engine ROLLBACK\n",
      "2024-04-04 14:38:36,321 INFO sqlalchemy.engine.Engine BEGIN (implicit)\n",
      "2024-04-04 14:38:36,322 INFO sqlalchemy.engine.Engine SELECT `Availability`.`StationId`, `Availability`.`Status`, `Availability`.`MechanicalBikesAvailable`, `Availability`.`ElectricBikesAvailable`, `Availability`.`StandsAvailable`, `Availability`.`LastUpdated` \n",
      "FROM `Availability` \n",
      "WHERE `Availability`.`StationId` = %(StationId_1)s AND DATE(`Availability`.`LastUpdated`) >= %(DATE_1)s\n",
      "2024-04-04 14:38:36,322 INFO sqlalchemy.engine.Engine [cached since 308.6s ago] {'StationId_1': 95, 'DATE_1': datetime.datetime(2024, 3, 5, 14, 38, 36, 228545)}\n"
     ]
    },
    {
     "name": "stderr",
     "output_type": "stream",
     "text": [
      "/Users/aprilpolubiec/anaconda3/envs/dublin-bikes/lib/python3.11/site-packages/sklearn/base.py:1474: DataConversionWarning: A column-vector y was passed when a 1d array was expected. Please change the shape of y to (n_samples,), for example using ravel().\n",
      "  return fit_method(estimator, *args, **kwargs)\n"
     ]
    },
    {
     "name": "stdout",
     "output_type": "stream",
     "text": [
      "2024-04-04 14:38:36,425 INFO sqlalchemy.engine.Engine ROLLBACK\n",
      "2024-04-04 14:38:36,673 INFO sqlalchemy.engine.Engine BEGIN (implicit)\n",
      "2024-04-04 14:38:36,674 INFO sqlalchemy.engine.Engine SELECT `Availability`.`StationId`, `Availability`.`Status`, `Availability`.`MechanicalBikesAvailable`, `Availability`.`ElectricBikesAvailable`, `Availability`.`StandsAvailable`, `Availability`.`LastUpdated` \n",
      "FROM `Availability` \n",
      "WHERE `Availability`.`StationId` = %(StationId_1)s AND DATE(`Availability`.`LastUpdated`) >= %(DATE_1)s\n",
      "2024-04-04 14:38:36,674 INFO sqlalchemy.engine.Engine [cached since 308.9s ago] {'StationId_1': 96, 'DATE_1': datetime.datetime(2024, 3, 5, 14, 38, 36, 571290)}\n"
     ]
    },
    {
     "name": "stderr",
     "output_type": "stream",
     "text": [
      "/Users/aprilpolubiec/anaconda3/envs/dublin-bikes/lib/python3.11/site-packages/sklearn/base.py:1474: DataConversionWarning: A column-vector y was passed when a 1d array was expected. Please change the shape of y to (n_samples,), for example using ravel().\n",
      "  return fit_method(estimator, *args, **kwargs)\n"
     ]
    },
    {
     "name": "stdout",
     "output_type": "stream",
     "text": [
      "2024-04-04 14:38:36,778 INFO sqlalchemy.engine.Engine ROLLBACK\n",
      "2024-04-04 14:38:37,059 INFO sqlalchemy.engine.Engine BEGIN (implicit)\n",
      "2024-04-04 14:38:37,060 INFO sqlalchemy.engine.Engine SELECT `Availability`.`StationId`, `Availability`.`Status`, `Availability`.`MechanicalBikesAvailable`, `Availability`.`ElectricBikesAvailable`, `Availability`.`StandsAvailable`, `Availability`.`LastUpdated` \n",
      "FROM `Availability` \n",
      "WHERE `Availability`.`StationId` = %(StationId_1)s AND DATE(`Availability`.`LastUpdated`) >= %(DATE_1)s\n",
      "2024-04-04 14:38:37,060 INFO sqlalchemy.engine.Engine [cached since 309.3s ago] {'StationId_1': 97, 'DATE_1': datetime.datetime(2024, 3, 5, 14, 38, 36, 966282)}\n"
     ]
    },
    {
     "name": "stderr",
     "output_type": "stream",
     "text": [
      "/Users/aprilpolubiec/anaconda3/envs/dublin-bikes/lib/python3.11/site-packages/sklearn/base.py:1474: DataConversionWarning: A column-vector y was passed when a 1d array was expected. Please change the shape of y to (n_samples,), for example using ravel().\n",
      "  return fit_method(estimator, *args, **kwargs)\n"
     ]
    },
    {
     "name": "stdout",
     "output_type": "stream",
     "text": [
      "2024-04-04 14:38:37,163 INFO sqlalchemy.engine.Engine ROLLBACK\n",
      "2024-04-04 14:38:37,417 INFO sqlalchemy.engine.Engine BEGIN (implicit)\n",
      "2024-04-04 14:38:37,417 INFO sqlalchemy.engine.Engine SELECT `Availability`.`StationId`, `Availability`.`Status`, `Availability`.`MechanicalBikesAvailable`, `Availability`.`ElectricBikesAvailable`, `Availability`.`StandsAvailable`, `Availability`.`LastUpdated` \n",
      "FROM `Availability` \n",
      "WHERE `Availability`.`StationId` = %(StationId_1)s AND DATE(`Availability`.`LastUpdated`) >= %(DATE_1)s\n",
      "2024-04-04 14:38:37,417 INFO sqlalchemy.engine.Engine [cached since 309.7s ago] {'StationId_1': 98, 'DATE_1': datetime.datetime(2024, 3, 5, 14, 38, 37, 324204)}\n"
     ]
    },
    {
     "name": "stderr",
     "output_type": "stream",
     "text": [
      "/Users/aprilpolubiec/anaconda3/envs/dublin-bikes/lib/python3.11/site-packages/sklearn/base.py:1474: DataConversionWarning: A column-vector y was passed when a 1d array was expected. Please change the shape of y to (n_samples,), for example using ravel().\n",
      "  return fit_method(estimator, *args, **kwargs)\n"
     ]
    },
    {
     "name": "stdout",
     "output_type": "stream",
     "text": [
      "2024-04-04 14:38:37,518 INFO sqlalchemy.engine.Engine ROLLBACK\n",
      "2024-04-04 14:38:37,807 INFO sqlalchemy.engine.Engine BEGIN (implicit)\n",
      "2024-04-04 14:38:37,807 INFO sqlalchemy.engine.Engine SELECT `Availability`.`StationId`, `Availability`.`Status`, `Availability`.`MechanicalBikesAvailable`, `Availability`.`ElectricBikesAvailable`, `Availability`.`StandsAvailable`, `Availability`.`LastUpdated` \n",
      "FROM `Availability` \n",
      "WHERE `Availability`.`StationId` = %(StationId_1)s AND DATE(`Availability`.`LastUpdated`) >= %(DATE_1)s\n",
      "2024-04-04 14:38:37,807 INFO sqlalchemy.engine.Engine [cached since 310s ago] {'StationId_1': 99, 'DATE_1': datetime.datetime(2024, 3, 5, 14, 38, 37, 714622)}\n"
     ]
    },
    {
     "name": "stderr",
     "output_type": "stream",
     "text": [
      "/Users/aprilpolubiec/anaconda3/envs/dublin-bikes/lib/python3.11/site-packages/sklearn/base.py:1474: DataConversionWarning: A column-vector y was passed when a 1d array was expected. Please change the shape of y to (n_samples,), for example using ravel().\n",
      "  return fit_method(estimator, *args, **kwargs)\n"
     ]
    },
    {
     "name": "stdout",
     "output_type": "stream",
     "text": [
      "2024-04-04 14:38:37,911 INFO sqlalchemy.engine.Engine ROLLBACK\n",
      "2024-04-04 14:38:38,171 INFO sqlalchemy.engine.Engine BEGIN (implicit)\n",
      "2024-04-04 14:38:38,172 INFO sqlalchemy.engine.Engine SELECT `Availability`.`StationId`, `Availability`.`Status`, `Availability`.`MechanicalBikesAvailable`, `Availability`.`ElectricBikesAvailable`, `Availability`.`StandsAvailable`, `Availability`.`LastUpdated` \n",
      "FROM `Availability` \n",
      "WHERE `Availability`.`StationId` = %(StationId_1)s AND DATE(`Availability`.`LastUpdated`) >= %(DATE_1)s\n",
      "2024-04-04 14:38:38,172 INFO sqlalchemy.engine.Engine [cached since 310.4s ago] {'StationId_1': 100, 'DATE_1': datetime.datetime(2024, 3, 5, 14, 38, 38, 77921)}\n"
     ]
    },
    {
     "name": "stderr",
     "output_type": "stream",
     "text": [
      "/Users/aprilpolubiec/anaconda3/envs/dublin-bikes/lib/python3.11/site-packages/sklearn/base.py:1474: DataConversionWarning: A column-vector y was passed when a 1d array was expected. Please change the shape of y to (n_samples,), for example using ravel().\n",
      "  return fit_method(estimator, *args, **kwargs)\n"
     ]
    },
    {
     "name": "stdout",
     "output_type": "stream",
     "text": [
      "2024-04-04 14:38:38,277 INFO sqlalchemy.engine.Engine ROLLBACK\n",
      "2024-04-04 14:38:38,641 INFO sqlalchemy.engine.Engine BEGIN (implicit)\n",
      "2024-04-04 14:38:38,641 INFO sqlalchemy.engine.Engine SELECT `Availability`.`StationId`, `Availability`.`Status`, `Availability`.`MechanicalBikesAvailable`, `Availability`.`ElectricBikesAvailable`, `Availability`.`StandsAvailable`, `Availability`.`LastUpdated` \n",
      "FROM `Availability` \n",
      "WHERE `Availability`.`StationId` = %(StationId_1)s AND DATE(`Availability`.`LastUpdated`) >= %(DATE_1)s\n",
      "2024-04-04 14:38:38,642 INFO sqlalchemy.engine.Engine [cached since 310.9s ago] {'StationId_1': 101, 'DATE_1': datetime.datetime(2024, 3, 5, 14, 38, 38, 548514)}\n"
     ]
    },
    {
     "name": "stderr",
     "output_type": "stream",
     "text": [
      "/Users/aprilpolubiec/anaconda3/envs/dublin-bikes/lib/python3.11/site-packages/sklearn/base.py:1474: DataConversionWarning: A column-vector y was passed when a 1d array was expected. Please change the shape of y to (n_samples,), for example using ravel().\n",
      "  return fit_method(estimator, *args, **kwargs)\n"
     ]
    },
    {
     "name": "stdout",
     "output_type": "stream",
     "text": [
      "2024-04-04 14:38:38,744 INFO sqlalchemy.engine.Engine ROLLBACK\n",
      "2024-04-04 14:38:38,980 INFO sqlalchemy.engine.Engine BEGIN (implicit)\n",
      "2024-04-04 14:38:38,980 INFO sqlalchemy.engine.Engine SELECT `Availability`.`StationId`, `Availability`.`Status`, `Availability`.`MechanicalBikesAvailable`, `Availability`.`ElectricBikesAvailable`, `Availability`.`StandsAvailable`, `Availability`.`LastUpdated` \n",
      "FROM `Availability` \n",
      "WHERE `Availability`.`StationId` = %(StationId_1)s AND DATE(`Availability`.`LastUpdated`) >= %(DATE_1)s\n",
      "2024-04-04 14:38:38,981 INFO sqlalchemy.engine.Engine [cached since 311.2s ago] {'StationId_1': 102, 'DATE_1': datetime.datetime(2024, 3, 5, 14, 38, 38, 887293)}\n"
     ]
    },
    {
     "name": "stderr",
     "output_type": "stream",
     "text": [
      "/Users/aprilpolubiec/anaconda3/envs/dublin-bikes/lib/python3.11/site-packages/sklearn/base.py:1474: DataConversionWarning: A column-vector y was passed when a 1d array was expected. Please change the shape of y to (n_samples,), for example using ravel().\n",
      "  return fit_method(estimator, *args, **kwargs)\n"
     ]
    },
    {
     "name": "stdout",
     "output_type": "stream",
     "text": [
      "2024-04-04 14:38:39,083 INFO sqlalchemy.engine.Engine ROLLBACK\n",
      "2024-04-04 14:38:39,333 INFO sqlalchemy.engine.Engine BEGIN (implicit)\n",
      "2024-04-04 14:38:39,333 INFO sqlalchemy.engine.Engine SELECT `Availability`.`StationId`, `Availability`.`Status`, `Availability`.`MechanicalBikesAvailable`, `Availability`.`ElectricBikesAvailable`, `Availability`.`StandsAvailable`, `Availability`.`LastUpdated` \n",
      "FROM `Availability` \n",
      "WHERE `Availability`.`StationId` = %(StationId_1)s AND DATE(`Availability`.`LastUpdated`) >= %(DATE_1)s\n",
      "2024-04-04 14:38:39,333 INFO sqlalchemy.engine.Engine [cached since 311.6s ago] {'StationId_1': 103, 'DATE_1': datetime.datetime(2024, 3, 5, 14, 38, 39, 229450)}\n"
     ]
    },
    {
     "name": "stderr",
     "output_type": "stream",
     "text": [
      "/Users/aprilpolubiec/anaconda3/envs/dublin-bikes/lib/python3.11/site-packages/sklearn/base.py:1474: DataConversionWarning: A column-vector y was passed when a 1d array was expected. Please change the shape of y to (n_samples,), for example using ravel().\n",
      "  return fit_method(estimator, *args, **kwargs)\n"
     ]
    },
    {
     "name": "stdout",
     "output_type": "stream",
     "text": [
      "2024-04-04 14:38:39,435 INFO sqlalchemy.engine.Engine ROLLBACK\n",
      "2024-04-04 14:38:39,677 INFO sqlalchemy.engine.Engine BEGIN (implicit)\n",
      "2024-04-04 14:38:39,677 INFO sqlalchemy.engine.Engine SELECT `Availability`.`StationId`, `Availability`.`Status`, `Availability`.`MechanicalBikesAvailable`, `Availability`.`ElectricBikesAvailable`, `Availability`.`StandsAvailable`, `Availability`.`LastUpdated` \n",
      "FROM `Availability` \n",
      "WHERE `Availability`.`StationId` = %(StationId_1)s AND DATE(`Availability`.`LastUpdated`) >= %(DATE_1)s\n",
      "2024-04-04 14:38:39,678 INFO sqlalchemy.engine.Engine [cached since 311.9s ago] {'StationId_1': 104, 'DATE_1': datetime.datetime(2024, 3, 5, 14, 38, 39, 584462)}\n"
     ]
    },
    {
     "name": "stderr",
     "output_type": "stream",
     "text": [
      "/Users/aprilpolubiec/anaconda3/envs/dublin-bikes/lib/python3.11/site-packages/sklearn/base.py:1474: DataConversionWarning: A column-vector y was passed when a 1d array was expected. Please change the shape of y to (n_samples,), for example using ravel().\n",
      "  return fit_method(estimator, *args, **kwargs)\n"
     ]
    },
    {
     "name": "stdout",
     "output_type": "stream",
     "text": [
      "2024-04-04 14:38:39,783 INFO sqlalchemy.engine.Engine ROLLBACK\n",
      "2024-04-04 14:38:40,026 INFO sqlalchemy.engine.Engine BEGIN (implicit)\n",
      "2024-04-04 14:38:40,027 INFO sqlalchemy.engine.Engine SELECT `Availability`.`StationId`, `Availability`.`Status`, `Availability`.`MechanicalBikesAvailable`, `Availability`.`ElectricBikesAvailable`, `Availability`.`StandsAvailable`, `Availability`.`LastUpdated` \n",
      "FROM `Availability` \n",
      "WHERE `Availability`.`StationId` = %(StationId_1)s AND DATE(`Availability`.`LastUpdated`) >= %(DATE_1)s\n",
      "2024-04-04 14:38:40,027 INFO sqlalchemy.engine.Engine [cached since 312.3s ago] {'StationId_1': 105, 'DATE_1': datetime.datetime(2024, 3, 5, 14, 38, 39, 931744)}\n"
     ]
    },
    {
     "name": "stderr",
     "output_type": "stream",
     "text": [
      "/Users/aprilpolubiec/anaconda3/envs/dublin-bikes/lib/python3.11/site-packages/sklearn/base.py:1474: DataConversionWarning: A column-vector y was passed when a 1d array was expected. Please change the shape of y to (n_samples,), for example using ravel().\n",
      "  return fit_method(estimator, *args, **kwargs)\n"
     ]
    },
    {
     "name": "stdout",
     "output_type": "stream",
     "text": [
      "2024-04-04 14:38:40,129 INFO sqlalchemy.engine.Engine ROLLBACK\n",
      "2024-04-04 14:38:40,374 INFO sqlalchemy.engine.Engine BEGIN (implicit)\n",
      "2024-04-04 14:38:40,374 INFO sqlalchemy.engine.Engine SELECT `Availability`.`StationId`, `Availability`.`Status`, `Availability`.`MechanicalBikesAvailable`, `Availability`.`ElectricBikesAvailable`, `Availability`.`StandsAvailable`, `Availability`.`LastUpdated` \n",
      "FROM `Availability` \n",
      "WHERE `Availability`.`StationId` = %(StationId_1)s AND DATE(`Availability`.`LastUpdated`) >= %(DATE_1)s\n",
      "2024-04-04 14:38:40,375 INFO sqlalchemy.engine.Engine [cached since 312.6s ago] {'StationId_1': 106, 'DATE_1': datetime.datetime(2024, 3, 5, 14, 38, 40, 279577)}\n"
     ]
    },
    {
     "name": "stderr",
     "output_type": "stream",
     "text": [
      "/Users/aprilpolubiec/anaconda3/envs/dublin-bikes/lib/python3.11/site-packages/sklearn/base.py:1474: DataConversionWarning: A column-vector y was passed when a 1d array was expected. Please change the shape of y to (n_samples,), for example using ravel().\n",
      "  return fit_method(estimator, *args, **kwargs)\n"
     ]
    },
    {
     "name": "stdout",
     "output_type": "stream",
     "text": [
      "2024-04-04 14:38:40,480 INFO sqlalchemy.engine.Engine ROLLBACK\n",
      "2024-04-04 14:38:40,718 INFO sqlalchemy.engine.Engine BEGIN (implicit)\n",
      "2024-04-04 14:38:40,719 INFO sqlalchemy.engine.Engine SELECT `Availability`.`StationId`, `Availability`.`Status`, `Availability`.`MechanicalBikesAvailable`, `Availability`.`ElectricBikesAvailable`, `Availability`.`StandsAvailable`, `Availability`.`LastUpdated` \n",
      "FROM `Availability` \n",
      "WHERE `Availability`.`StationId` = %(StationId_1)s AND DATE(`Availability`.`LastUpdated`) >= %(DATE_1)s\n",
      "2024-04-04 14:38:40,719 INFO sqlalchemy.engine.Engine [cached since 313s ago] {'StationId_1': 107, 'DATE_1': datetime.datetime(2024, 3, 5, 14, 38, 40, 626081)}\n"
     ]
    },
    {
     "name": "stderr",
     "output_type": "stream",
     "text": [
      "/Users/aprilpolubiec/anaconda3/envs/dublin-bikes/lib/python3.11/site-packages/sklearn/base.py:1474: DataConversionWarning: A column-vector y was passed when a 1d array was expected. Please change the shape of y to (n_samples,), for example using ravel().\n",
      "  return fit_method(estimator, *args, **kwargs)\n"
     ]
    },
    {
     "name": "stdout",
     "output_type": "stream",
     "text": [
      "2024-04-04 14:38:40,823 INFO sqlalchemy.engine.Engine ROLLBACK\n",
      "2024-04-04 14:38:41,064 INFO sqlalchemy.engine.Engine BEGIN (implicit)\n",
      "2024-04-04 14:38:41,064 INFO sqlalchemy.engine.Engine SELECT `Availability`.`StationId`, `Availability`.`Status`, `Availability`.`MechanicalBikesAvailable`, `Availability`.`ElectricBikesAvailable`, `Availability`.`StandsAvailable`, `Availability`.`LastUpdated` \n",
      "FROM `Availability` \n",
      "WHERE `Availability`.`StationId` = %(StationId_1)s AND DATE(`Availability`.`LastUpdated`) >= %(DATE_1)s\n",
      "2024-04-04 14:38:41,064 INFO sqlalchemy.engine.Engine [cached since 313.3s ago] {'StationId_1': 108, 'DATE_1': datetime.datetime(2024, 3, 5, 14, 38, 40, 970001)}\n"
     ]
    },
    {
     "name": "stderr",
     "output_type": "stream",
     "text": [
      "/Users/aprilpolubiec/anaconda3/envs/dublin-bikes/lib/python3.11/site-packages/sklearn/base.py:1474: DataConversionWarning: A column-vector y was passed when a 1d array was expected. Please change the shape of y to (n_samples,), for example using ravel().\n",
      "  return fit_method(estimator, *args, **kwargs)\n"
     ]
    },
    {
     "name": "stdout",
     "output_type": "stream",
     "text": [
      "2024-04-04 14:38:41,166 INFO sqlalchemy.engine.Engine ROLLBACK\n",
      "2024-04-04 14:38:41,406 INFO sqlalchemy.engine.Engine BEGIN (implicit)\n",
      "2024-04-04 14:38:41,406 INFO sqlalchemy.engine.Engine SELECT `Availability`.`StationId`, `Availability`.`Status`, `Availability`.`MechanicalBikesAvailable`, `Availability`.`ElectricBikesAvailable`, `Availability`.`StandsAvailable`, `Availability`.`LastUpdated` \n",
      "FROM `Availability` \n",
      "WHERE `Availability`.`StationId` = %(StationId_1)s AND DATE(`Availability`.`LastUpdated`) >= %(DATE_1)s\n",
      "2024-04-04 14:38:41,407 INFO sqlalchemy.engine.Engine [cached since 313.6s ago] {'StationId_1': 109, 'DATE_1': datetime.datetime(2024, 3, 5, 14, 38, 41, 313981)}\n"
     ]
    },
    {
     "name": "stderr",
     "output_type": "stream",
     "text": [
      "/Users/aprilpolubiec/anaconda3/envs/dublin-bikes/lib/python3.11/site-packages/sklearn/base.py:1474: DataConversionWarning: A column-vector y was passed when a 1d array was expected. Please change the shape of y to (n_samples,), for example using ravel().\n",
      "  return fit_method(estimator, *args, **kwargs)\n"
     ]
    },
    {
     "name": "stdout",
     "output_type": "stream",
     "text": [
      "2024-04-04 14:38:41,510 INFO sqlalchemy.engine.Engine ROLLBACK\n",
      "2024-04-04 14:38:41,765 INFO sqlalchemy.engine.Engine BEGIN (implicit)\n",
      "2024-04-04 14:38:41,766 INFO sqlalchemy.engine.Engine SELECT `Availability`.`StationId`, `Availability`.`Status`, `Availability`.`MechanicalBikesAvailable`, `Availability`.`ElectricBikesAvailable`, `Availability`.`StandsAvailable`, `Availability`.`LastUpdated` \n",
      "FROM `Availability` \n",
      "WHERE `Availability`.`StationId` = %(StationId_1)s AND DATE(`Availability`.`LastUpdated`) >= %(DATE_1)s\n",
      "2024-04-04 14:38:41,766 INFO sqlalchemy.engine.Engine [cached since 314s ago] {'StationId_1': 110, 'DATE_1': datetime.datetime(2024, 3, 5, 14, 38, 41, 655592)}\n"
     ]
    },
    {
     "name": "stderr",
     "output_type": "stream",
     "text": [
      "/Users/aprilpolubiec/anaconda3/envs/dublin-bikes/lib/python3.11/site-packages/sklearn/base.py:1474: DataConversionWarning: A column-vector y was passed when a 1d array was expected. Please change the shape of y to (n_samples,), for example using ravel().\n",
      "  return fit_method(estimator, *args, **kwargs)\n"
     ]
    },
    {
     "name": "stdout",
     "output_type": "stream",
     "text": [
      "2024-04-04 14:38:41,869 INFO sqlalchemy.engine.Engine ROLLBACK\n",
      "2024-04-04 14:38:42,106 INFO sqlalchemy.engine.Engine BEGIN (implicit)\n",
      "2024-04-04 14:38:42,107 INFO sqlalchemy.engine.Engine SELECT `Availability`.`StationId`, `Availability`.`Status`, `Availability`.`MechanicalBikesAvailable`, `Availability`.`ElectricBikesAvailable`, `Availability`.`StandsAvailable`, `Availability`.`LastUpdated` \n",
      "FROM `Availability` \n",
      "WHERE `Availability`.`StationId` = %(StationId_1)s AND DATE(`Availability`.`LastUpdated`) >= %(DATE_1)s\n",
      "2024-04-04 14:38:42,107 INFO sqlalchemy.engine.Engine [cached since 314.3s ago] {'StationId_1': 111, 'DATE_1': datetime.datetime(2024, 3, 5, 14, 38, 42, 13887)}\n"
     ]
    },
    {
     "name": "stderr",
     "output_type": "stream",
     "text": [
      "/Users/aprilpolubiec/anaconda3/envs/dublin-bikes/lib/python3.11/site-packages/sklearn/base.py:1474: DataConversionWarning: A column-vector y was passed when a 1d array was expected. Please change the shape of y to (n_samples,), for example using ravel().\n",
      "  return fit_method(estimator, *args, **kwargs)\n"
     ]
    },
    {
     "name": "stdout",
     "output_type": "stream",
     "text": [
      "2024-04-04 14:38:42,213 INFO sqlalchemy.engine.Engine ROLLBACK\n",
      "2024-04-04 14:38:42,454 INFO sqlalchemy.engine.Engine BEGIN (implicit)\n",
      "2024-04-04 14:38:42,454 INFO sqlalchemy.engine.Engine SELECT `Availability`.`StationId`, `Availability`.`Status`, `Availability`.`MechanicalBikesAvailable`, `Availability`.`ElectricBikesAvailable`, `Availability`.`StandsAvailable`, `Availability`.`LastUpdated` \n",
      "FROM `Availability` \n",
      "WHERE `Availability`.`StationId` = %(StationId_1)s AND DATE(`Availability`.`LastUpdated`) >= %(DATE_1)s\n",
      "2024-04-04 14:38:42,455 INFO sqlalchemy.engine.Engine [cached since 314.7s ago] {'StationId_1': 112, 'DATE_1': datetime.datetime(2024, 3, 5, 14, 38, 42, 359628)}\n"
     ]
    },
    {
     "name": "stderr",
     "output_type": "stream",
     "text": [
      "/Users/aprilpolubiec/anaconda3/envs/dublin-bikes/lib/python3.11/site-packages/sklearn/base.py:1474: DataConversionWarning: A column-vector y was passed when a 1d array was expected. Please change the shape of y to (n_samples,), for example using ravel().\n",
      "  return fit_method(estimator, *args, **kwargs)\n"
     ]
    },
    {
     "name": "stdout",
     "output_type": "stream",
     "text": [
      "2024-04-04 14:38:42,557 INFO sqlalchemy.engine.Engine ROLLBACK\n",
      "2024-04-04 14:38:42,799 INFO sqlalchemy.engine.Engine BEGIN (implicit)\n",
      "2024-04-04 14:38:42,799 INFO sqlalchemy.engine.Engine SELECT `Availability`.`StationId`, `Availability`.`Status`, `Availability`.`MechanicalBikesAvailable`, `Availability`.`ElectricBikesAvailable`, `Availability`.`StandsAvailable`, `Availability`.`LastUpdated` \n",
      "FROM `Availability` \n",
      "WHERE `Availability`.`StationId` = %(StationId_1)s AND DATE(`Availability`.`LastUpdated`) >= %(DATE_1)s\n",
      "2024-04-04 14:38:42,799 INFO sqlalchemy.engine.Engine [cached since 315s ago] {'StationId_1': 113, 'DATE_1': datetime.datetime(2024, 3, 5, 14, 38, 42, 705602)}\n"
     ]
    },
    {
     "name": "stderr",
     "output_type": "stream",
     "text": [
      "/Users/aprilpolubiec/anaconda3/envs/dublin-bikes/lib/python3.11/site-packages/sklearn/base.py:1474: DataConversionWarning: A column-vector y was passed when a 1d array was expected. Please change the shape of y to (n_samples,), for example using ravel().\n",
      "  return fit_method(estimator, *args, **kwargs)\n"
     ]
    },
    {
     "name": "stdout",
     "output_type": "stream",
     "text": [
      "2024-04-04 14:38:42,902 INFO sqlalchemy.engine.Engine ROLLBACK\n",
      "2024-04-04 14:38:43,147 INFO sqlalchemy.engine.Engine BEGIN (implicit)\n",
      "2024-04-04 14:38:43,147 INFO sqlalchemy.engine.Engine SELECT `Availability`.`StationId`, `Availability`.`Status`, `Availability`.`MechanicalBikesAvailable`, `Availability`.`ElectricBikesAvailable`, `Availability`.`StandsAvailable`, `Availability`.`LastUpdated` \n",
      "FROM `Availability` \n",
      "WHERE `Availability`.`StationId` = %(StationId_1)s AND DATE(`Availability`.`LastUpdated`) >= %(DATE_1)s\n",
      "2024-04-04 14:38:43,148 INFO sqlalchemy.engine.Engine [cached since 315.4s ago] {'StationId_1': 114, 'DATE_1': datetime.datetime(2024, 3, 5, 14, 38, 43, 53522)}\n"
     ]
    },
    {
     "name": "stderr",
     "output_type": "stream",
     "text": [
      "/Users/aprilpolubiec/anaconda3/envs/dublin-bikes/lib/python3.11/site-packages/sklearn/base.py:1474: DataConversionWarning: A column-vector y was passed when a 1d array was expected. Please change the shape of y to (n_samples,), for example using ravel().\n",
      "  return fit_method(estimator, *args, **kwargs)\n"
     ]
    },
    {
     "name": "stdout",
     "output_type": "stream",
     "text": [
      "2024-04-04 14:38:43,250 INFO sqlalchemy.engine.Engine ROLLBACK\n",
      "2024-04-04 14:38:43,483 INFO sqlalchemy.engine.Engine BEGIN (implicit)\n",
      "2024-04-04 14:38:43,483 INFO sqlalchemy.engine.Engine SELECT `Availability`.`StationId`, `Availability`.`Status`, `Availability`.`MechanicalBikesAvailable`, `Availability`.`ElectricBikesAvailable`, `Availability`.`StandsAvailable`, `Availability`.`LastUpdated` \n",
      "FROM `Availability` \n",
      "WHERE `Availability`.`StationId` = %(StationId_1)s AND DATE(`Availability`.`LastUpdated`) >= %(DATE_1)s\n",
      "2024-04-04 14:38:43,483 INFO sqlalchemy.engine.Engine [cached since 315.7s ago] {'StationId_1': 115, 'DATE_1': datetime.datetime(2024, 3, 5, 14, 38, 43, 390355)}\n"
     ]
    },
    {
     "name": "stderr",
     "output_type": "stream",
     "text": [
      "/Users/aprilpolubiec/anaconda3/envs/dublin-bikes/lib/python3.11/site-packages/sklearn/base.py:1474: DataConversionWarning: A column-vector y was passed when a 1d array was expected. Please change the shape of y to (n_samples,), for example using ravel().\n",
      "  return fit_method(estimator, *args, **kwargs)\n"
     ]
    },
    {
     "name": "stdout",
     "output_type": "stream",
     "text": [
      "2024-04-04 14:38:43,585 INFO sqlalchemy.engine.Engine ROLLBACK\n",
      "2024-04-04 14:38:43,826 INFO sqlalchemy.engine.Engine BEGIN (implicit)\n",
      "2024-04-04 14:38:43,827 INFO sqlalchemy.engine.Engine SELECT `Availability`.`StationId`, `Availability`.`Status`, `Availability`.`MechanicalBikesAvailable`, `Availability`.`ElectricBikesAvailable`, `Availability`.`StandsAvailable`, `Availability`.`LastUpdated` \n",
      "FROM `Availability` \n",
      "WHERE `Availability`.`StationId` = %(StationId_1)s AND DATE(`Availability`.`LastUpdated`) >= %(DATE_1)s\n",
      "2024-04-04 14:38:43,828 INFO sqlalchemy.engine.Engine [cached since 316.1s ago] {'StationId_1': 116, 'DATE_1': datetime.datetime(2024, 3, 5, 14, 38, 43, 733691)}\n"
     ]
    },
    {
     "name": "stderr",
     "output_type": "stream",
     "text": [
      "/Users/aprilpolubiec/anaconda3/envs/dublin-bikes/lib/python3.11/site-packages/sklearn/base.py:1474: DataConversionWarning: A column-vector y was passed when a 1d array was expected. Please change the shape of y to (n_samples,), for example using ravel().\n",
      "  return fit_method(estimator, *args, **kwargs)\n"
     ]
    },
    {
     "name": "stdout",
     "output_type": "stream",
     "text": [
      "2024-04-04 14:38:43,929 INFO sqlalchemy.engine.Engine ROLLBACK\n",
      "2024-04-04 14:38:44,191 INFO sqlalchemy.engine.Engine BEGIN (implicit)\n",
      "2024-04-04 14:38:44,192 INFO sqlalchemy.engine.Engine SELECT `Availability`.`StationId`, `Availability`.`Status`, `Availability`.`MechanicalBikesAvailable`, `Availability`.`ElectricBikesAvailable`, `Availability`.`StandsAvailable`, `Availability`.`LastUpdated` \n",
      "FROM `Availability` \n",
      "WHERE `Availability`.`StationId` = %(StationId_1)s AND DATE(`Availability`.`LastUpdated`) >= %(DATE_1)s\n",
      "2024-04-04 14:38:44,192 INFO sqlalchemy.engine.Engine [cached since 316.4s ago] {'StationId_1': 117, 'DATE_1': datetime.datetime(2024, 3, 5, 14, 38, 44, 74134)}\n"
     ]
    },
    {
     "name": "stderr",
     "output_type": "stream",
     "text": [
      "/Users/aprilpolubiec/anaconda3/envs/dublin-bikes/lib/python3.11/site-packages/sklearn/base.py:1474: DataConversionWarning: A column-vector y was passed when a 1d array was expected. Please change the shape of y to (n_samples,), for example using ravel().\n",
      "  return fit_method(estimator, *args, **kwargs)\n"
     ]
    },
    {
     "name": "stdout",
     "output_type": "stream",
     "text": [
      "2024-04-04 14:38:44,297 INFO sqlalchemy.engine.Engine ROLLBACK\n",
      "Mean Squared Error for station 1: 36.76467777777777\n",
      "Mean Squared Error for station 2: 14.787775000000002\n",
      "Mean Squared Error for station 3: 14.277743333333335\n",
      "Mean Squared Error for station 4: 4.4559299999999995\n",
      "Mean Squared Error for station 5: 117.48741363636364\n",
      "Mean Squared Error for station 6: 15.629980769230771\n",
      "Mean Squared Error for station 7: 23.0887875\n",
      "Mean Squared Error for station 8: 32.82588571428572\n",
      "Mean Squared Error for station 9: 26.933592857142855\n",
      "Mean Squared Error for station 10: 13.405636666666668\n",
      "Mean Squared Error for station 11: 17.504160869565215\n",
      "Mean Squared Error for station 12: 10.679039130434784\n",
      "Mean Squared Error for station 13: 3.8095653846153854\n",
      "Mean Squared Error for station 14: 40.44391333333332\n",
      "Mean Squared Error for station 15: 2.8605791666666662\n",
      "Mean Squared Error for station 16: 29.51241739130435\n",
      "Mean Squared Error for station 17: 3.339171999999999\n",
      "Mean Squared Error for station 18: 23.237796153846155\n",
      "Mean Squared Error for station 19: 37.85887586206897\n",
      "Mean Squared Error for station 20: 25.914778571428574\n",
      "Mean Squared Error for station 21: 37.389236000000004\n",
      "Mean Squared Error for station 22: 18.974203703703704\n",
      "Mean Squared Error for station 23: 34.94841111111111\n",
      "Mean Squared Error for station 24: 37.99869285714286\n",
      "Mean Squared Error for station 25: 17.490317857142863\n",
      "Mean Squared Error for station 26: 27.82866086956522\n",
      "Mean Squared Error for station 27: 18.165657692307693\n",
      "Mean Squared Error for station 28: 20.825799999999997\n",
      "Mean Squared Error for station 29: 29.495281481481488\n",
      "Mean Squared Error for station 30: 8.526916666666667\n",
      "Mean Squared Error for station 31: 15.89076666666667\n",
      "Mean Squared Error for station 32: 58.68021044061302\n",
      "Mean Squared Error for station 33: 31.58693333333333\n",
      "Mean Squared Error for station 34: 64.59490434782609\n",
      "Mean Squared Error for station 35: 32.34061034482759\n",
      "Mean Squared Error for station 36: 82.99845833333332\n",
      "Mean Squared Error for station 37: 17.465582608695648\n",
      "Mean Squared Error for station 38: 33.551824999999994\n",
      "Mean Squared Error for station 39: 7.883559374999999\n",
      "Mean Squared Error for station 40: 41.46895\n",
      "Mean Squared Error for station 41: 25.55197619047619\n",
      "Mean Squared Error for station 42: 35.361911111111105\n",
      "Mean Squared Error for station 43: 76.00076666666668\n",
      "Mean Squared Error for station 44: 29.755365517241373\n",
      "Mean Squared Error for station 45: 28.641542307692305\n",
      "Mean Squared Error for station 47: 22.456523999999998\n",
      "Mean Squared Error for station 48: 26.653310344827588\n",
      "Mean Squared Error for station 49: 22.10058461538461\n",
      "Mean Squared Error for station 50: 34.382311538461536\n",
      "Mean Squared Error for station 51: 21.456291304347825\n",
      "Mean Squared Error for station 52: 36.89666153846154\n",
      "Mean Squared Error for station 53: 5.576696153846154\n",
      "Mean Squared Error for station 54: 31.608975000000004\n",
      "Mean Squared Error for station 55: 39.11787931034483\n",
      "Mean Squared Error for station 56: 87.01892857142856\n",
      "Mean Squared Error for station 57: 21.911404545454545\n",
      "Mean Squared Error for station 58: 63.601051724137946\n",
      "Mean Squared Error for station 59: 12.567592\n",
      "Mean Squared Error for station 60: 39.989799999999995\n",
      "Mean Squared Error for station 61: 12.696261904761903\n",
      "Mean Squared Error for station 62: 56.80133703703703\n",
      "Mean Squared Error for station 63: 31.579142307692315\n",
      "Mean Squared Error for station 64: 42.43381176470588\n",
      "Mean Squared Error for station 65: 61.446828000000004\n",
      "Mean Squared Error for station 66: 55.31241785714286\n",
      "Mean Squared Error for station 67: 44.30012142857144\n",
      "Mean Squared Error for station 68: 32.777949166666666\n",
      "Mean Squared Error for station 69: 52.04755384615384\n",
      "Mean Squared Error for station 71: 8.430180000000005\n",
      "Mean Squared Error for station 72: 8.600112500000002\n",
      "Mean Squared Error for station 73: 53.31535555555555\n",
      "Mean Squared Error for station 74: 34.18552\n",
      "Mean Squared Error for station 75: 28.945866666666664\n",
      "Mean Squared Error for station 76: 31.423450000000003\n",
      "Mean Squared Error for station 77: 25.58661111111111\n",
      "Mean Squared Error for station 78: 16.349777777777767\n",
      "Mean Squared Error for station 79: 1.2124599999999999\n",
      "Mean Squared Error for station 80: 25.207575000000002\n",
      "Mean Squared Error for station 82: 11.892433333333335\n",
      "Mean Squared Error for station 83: 24.832875\n",
      "Mean Squared Error for station 84: 2.294372727272727\n",
      "Mean Squared Error for station 85: 23.39918888888889\n",
      "Mean Squared Error for station 86: 183.21637142857142\n",
      "Mean Squared Error for station 87: 37.56818333333334\n",
      "Mean Squared Error for station 88: 12.971077777777777\n",
      "Mean Squared Error for station 89: 0.3434999999999993\n",
      "Mean Squared Error for station 90: 13.7621\n",
      "Mean Squared Error for station 91: 13.803666666666667\n",
      "Mean Squared Error for station 92: 42.60525\n",
      "Mean Squared Error for station 93: 91.32971666666667\n",
      "Mean Squared Error for station 94: 21.05217\n",
      "Mean Squared Error for station 95: 27.789262499999996\n",
      "Mean Squared Error for station 96: 14.2225\n",
      "Mean Squared Error for station 97: 161.94531428571426\n",
      "Mean Squared Error for station 98: 24.242433333333338\n",
      "Mean Squared Error for station 99: 3.4580399999999982\n",
      "Mean Squared Error for station 100: 46.80855\n",
      "Mean Squared Error for station 101: 36.06404285714286\n",
      "Mean Squared Error for station 102: 28.901728571428578\n",
      "Mean Squared Error for station 103: 12.951742857142857\n",
      "Mean Squared Error for station 104: 10.518100000000002\n",
      "Mean Squared Error for station 105: 29.80833333333333\n",
      "Mean Squared Error for station 106: 64.98556666666668\n",
      "Mean Squared Error for station 107: 26.551388888888894\n",
      "Mean Squared Error for station 108: 32.791199999999996\n",
      "Mean Squared Error for station 109: 36.750730000000004\n",
      "Mean Squared Error for station 110: 10.049755555555556\n",
      "Mean Squared Error for station 111: 26.752699999999987\n",
      "Mean Squared Error for station 112: 53.451299999999996\n",
      "Mean Squared Error for station 113: 17.634000000000004\n",
      "Mean Squared Error for station 114: 4.869987499999994\n",
      "Mean Squared Error for station 115: 15.740262499999996\n",
      "Mean Squared Error for station 116: 21.380699999999997\n",
      "Mean Squared Error for station 117: 19.27145714285714\n"
     ]
    },
    {
     "name": "stderr",
     "output_type": "stream",
     "text": [
      "/Users/aprilpolubiec/anaconda3/envs/dublin-bikes/lib/python3.11/site-packages/sklearn/base.py:1474: DataConversionWarning: A column-vector y was passed when a 1d array was expected. Please change the shape of y to (n_samples,), for example using ravel().\n",
      "  return fit_method(estimator, *args, **kwargs)\n"
     ]
    }
   ],
   "source": [
    "import logging\n",
    "\n",
    "# Disable SQLAlchemy INFO logs\n",
    "logging.getLogger('sqlalchemy.engine').setLevel(logging.ERROR)\n",
    "mses = []\n",
    "for id in station_ids:\n",
    "    availability = web.db_utils.get_historical_availabilities(id, DAYS_BACK)\n",
    "    station_data = pd.DataFrame(availability)\n",
    "    station_data['last_updated_dt'] = station_data['LastUpdated'].apply(to_date)\n",
    "    station_data['month'] = station_data['last_updated_dt'].dt.month\n",
    "    station_data['day'] = station_data['last_updated_dt'].dt.day\n",
    "    station_data['hour'] = station_data['last_updated_dt'].dt.hour\n",
    "    station_data['minute'] = station_data['last_updated_dt'].dt.minute\n",
    "\n",
    "    merged_data = pd.merge(station_data, weather_data, on = ['month','day','hour', 'minute'])\n",
    "    merged_data['is_busy_hours'] = ((merged_data['hour'] >= 7) & (merged_data['hour'] <= 10)) | ((merged_data['hour'] >= 16) & (merged_data['hour'] <= 19)).astype(int)\n",
    "    merged_data['cold_weather'] = (merged_data['Temperature'] < 5).astype(float)\n",
    "    merged_data['windy_weather'] = (merged_data['WindSpeed'] > 8).astype(float)\n",
    "\n",
    "\n",
    "    # Split the data into training and testing sets\n",
    "    X = merged_data[FEATURE_COLUMNS]\n",
    "    y = merged_data[TARGET_COLUMNS]\n",
    "\n",
    "    X_train, X_test, y_train, y_test = train_test_split(X, y)\n",
    "\n",
    "    # Train a machine learning model\n",
    "    # model = LinearRegression()\n",
    "    model = RandomForestRegressor(n_estimators=100, random_state=42)\n",
    "    model.fit(X_train, y_train)\n",
    "    # Serialize the trained model into a file called model.pkl\n",
    "    with open(f'models/linear-v1/model_{id}.pkl', 'wb') as handle:\n",
    "        pickle.dump(model, handle, pickle.HIGHEST_PROTOCOL)\n",
    "\n",
    "    # Deserialize the model.pkl file into an object called model\n",
    "    # with open(f'model_{id}.pkl', 'rb') as handle:\n",
    "    #     model = pickle.load(handle)\n",
    "\n",
    "    # Evaluate the model\n",
    "    y_pred = model.predict(X_test)\n",
    "    mse = mean_squared_error(y_test, y_pred)\n",
    "    mses.append(f\"Mean Squared Error for station {id}: {mse}\")\n",
    "\n",
    "for m in mses:\n",
    "    print(m)\n",
    "    "
   ]
  }
 ],
 "metadata": {
  "kernelspec": {
   "display_name": "Python 3",
   "language": "python",
   "name": "python3"
  },
  "language_info": {
   "codemirror_mode": {
    "name": "ipython",
    "version": 3
   },
   "file_extension": ".py",
   "mimetype": "text/x-python",
   "name": "python",
   "nbconvert_exporter": "python",
   "pygments_lexer": "ipython3",
   "version": "3.11.5"
  }
 },
 "nbformat": 4,
 "nbformat_minor": 0
}
